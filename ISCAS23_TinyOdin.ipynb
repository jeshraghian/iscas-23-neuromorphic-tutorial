{
  "cells": [
    {
      "cell_type": "markdown",
      "metadata": {
        "id": "view-in-github",
        "colab_type": "text"
      },
      "source": [
        "<a href=\"https://colab.research.google.com/github/jeshraghian/iscas-23-neuromorphic-tutorial/blob/main/ISCAS23_TinyOdin.ipynb\" target=\"_parent\"><img src=\"https://colab.research.google.com/assets/colab-badge.svg\" alt=\"Open In Colab\"/></a>"
      ]
    },
    {
      "cell_type": "markdown",
      "source": [
        "# 2023 IEEE ISCAS - Hands-On with Sky130\n",
        "## By Jason K. Eshraghian (www.ncg.ucsc.edu), Charlotte Frenkel & Farhad Modaresi\n",
        "\n",
        "Run a few designs thru the [OpenLane](https://github.com/The-OpenROAD-Project/OpenLane/) GDS to RTL flow targeting the [open source SKY130 PDK](https://github.com/google/skywater-pdk/)."
      ],
      "metadata": {
        "id": "g-AD6AXaqZjO"
      }
    },
    {
      "cell_type": "markdown",
      "metadata": {
        "id": "HkFeU0R-0hzi"
      },
      "source": [
        "# Part 1: Basics\n",
        "## Digital inverter with OpenLane\n"
      ]
    },
    {
      "cell_type": "code",
      "execution_count": null,
      "metadata": {
        "id": "NC__X6Jph4CU",
        "colab": {
          "base_uri": "https://localhost:8080/"
        },
        "outputId": "b63c9698-60dc-4d53-98bd-03aac709a63a"
      },
      "outputs": [
        {
          "output_type": "stream",
          "name": "stdout",
          "text": [
            "\n",
            "                                           __\n",
            "          __  ______ ___  ____ _____ ___  / /_  ____ _\n",
            "         / / / / __ `__ \\/ __ `/ __ `__ \\/ __ \\/ __ `/\n",
            "        / /_/ / / / / / / /_/ / / / / / / /_/ / /_/ /\n",
            "       / .___/_/ /_/ /_/\\__,_/_/ /_/ /_/_.___/\\__,_/\n",
            "      /_/\n",
            "\n",
            "Empty environment created at prefix: /content/conda-env\n",
            "\n",
            "                                           __\n",
            "          __  ______ ___  ____ _____ ___  / /_  ____ _\n",
            "         / / / / __ `__ \\/ __ `/ __ `__ \\/ __ \\/ __ `/\n",
            "        / /_/ / / / / / / /_/ / / / / / / /_/ / /_/ /\n",
            "       / .___/_/ /_/ /_/\\__,_/_/ /_/ /_/_.___/\\__,_/\n",
            "      /_/\n",
            "\n",
            "\n",
            "Pinned packages:\n",
            "  - python 3.7*\n",
            "\n",
            "\n",
            "Transaction\n",
            "\n",
            "  Prefix: /content/conda-env\n",
            "\n",
            "  Updating specs:\n",
            "\n",
            "   - openlane=*\n",
            "   - open_pdks.sky130a=*\n",
            "\n",
            "\n",
            "  Package                              Version  Build                 Channel        Size\n",
            "───────────────────────────────────────────────────────────────────────────────────────────\n",
            "  Install:\n",
            "───────────────────────────────────────────────────────────────────────────────────────────\n",
            "\n",
            "  \u001b[32m+ _libgcc_mutex     \u001b[0m                     0.1  main                  main            3kB\n",
            "  \u001b[32m+ _openmp_mutex     \u001b[0m                     5.1  1_gnu                 main           21kB\n",
            "  \u001b[32m+ bzip2             \u001b[0m                   1.0.8  h7b6447c_0            main          107kB\n",
            "  \u001b[32m+ ca-certificates   \u001b[0m              2023.01.10  h06a4308_0            main          130kB\n",
            "  \u001b[32m+ cairo             \u001b[0m                 1.14.12  h8948797_3            main            1MB\n",
            "  \u001b[32m+ certifi           \u001b[0m               2022.12.7  py37h06a4308_0        main          155kB\n",
            "  \u001b[32m+ click             \u001b[0m                   8.0.4  py37h06a4308_0        main          152kB\n",
            "  \u001b[32m+ dbus              \u001b[0m                 1.13.18  hb2f20db_0            main          600kB\n",
            "  \u001b[32m+ expat             \u001b[0m                   2.4.9  h6a678d5_0            main          192kB\n",
            "  \u001b[32m+ flit-core         \u001b[0m                   3.6.0  pyhd3eb1b0_0          main           43kB\n",
            "  \u001b[32m+ fmt               \u001b[0m                   8.1.1  hd09550d_1            main          182kB\n",
            "  \u001b[32m+ fontconfig        \u001b[0m                  2.13.0  h9420a91_0            main          298kB\n",
            "  \u001b[32m+ freetype          \u001b[0m                  2.12.1  h4a9f257_0            main          972kB\n",
            "  \u001b[32m+ gdbm              \u001b[0m                    1.18  hd4cb3f1_4            main          197kB\n",
            "  \u001b[32m+ glib              \u001b[0m                  2.69.1  he621ea3_2            main            2MB\n",
            "  \u001b[32m+ gmp               \u001b[0m                   6.2.1  h295c915_3            main          822kB\n",
            "  \u001b[32m+ gst-plugins-base  \u001b[0m                  1.14.1  h6a678d5_1            main            2MB\n",
            "  \u001b[32m+ gstreamer         \u001b[0m                  1.14.1  h5eee18b_1            main            2MB\n",
            "  \u001b[32m+ icu               \u001b[0m                    58.2  he6710b0_3            main           24MB\n",
            "  \u001b[32m+ importlib-metadata\u001b[0m                  4.11.3  py37h06a4308_0        main           41kB\n",
            "  \u001b[32m+ jpeg              \u001b[0m                      9e  h5eee18b_1            main          281kB\n",
            "  \u001b[32m+ klayout           \u001b[0m    0.28.7_63_gbd3364047  20230519_121737_py37  litex-hub      26MB\n",
            "  \u001b[32m+ ld_impl_linux-64  \u001b[0m                    2.38  h1181459_1            main          749kB\n",
            "  \u001b[32m+ libboost          \u001b[0m                  1.73.0  h28710b8_12           main           22MB\n",
            "  \u001b[32m+ libffi            \u001b[0m                   3.4.2  h6a678d5_6            main          138kB\n",
            "  \u001b[32m+ libgcc-ng         \u001b[0m                  11.2.0  h1234567_1            main            9MB\n",
            "  \u001b[32m+ libgomp           \u001b[0m                  11.2.0  h1234567_1            main          573kB\n",
            "  \u001b[32m+ libpng            \u001b[0m                  1.6.39  h5eee18b_0            main          363kB\n",
            "  \u001b[32m+ libstdcxx-ng      \u001b[0m                  11.2.0  h1234567_1            main            6MB\n",
            "  \u001b[32m+ libuuid           \u001b[0m                  1.41.5  h5eee18b_0            main           29kB\n",
            "  \u001b[32m+ libxcb            \u001b[0m                    1.15  h7f8727e_0            main          623kB\n",
            "  \u001b[32m+ libxml2           \u001b[0m                   2.9.9  20220706_155948       litex-hub       1MB\n",
            "  \u001b[32m+ lz4-c             \u001b[0m                   1.9.4  h6a678d5_0            main          164kB\n",
            "  \u001b[32m+ magic             \u001b[0m      8.3.389_0_g1d8fcca  20230412_103222       litex-hub       5MB\n",
            "  \u001b[32m+ ncurses           \u001b[0m                     6.4  h6a678d5_0            main            1MB\n",
            "  \u001b[32m+ netgen            \u001b[0m      1.5.251_0_gd111fa0  20230412_103222       litex-hub     804kB\n",
            "  \u001b[32m+ open_pdks.sky130a \u001b[0m      1.0.406_0_g0c37b7c  20230412_103222       litex-hub     130MB\n",
            "  \u001b[32m+ openlane          \u001b[0m  2023.04.12_0_g23e367a9  20230412_103222       litex-hub      12MB\n",
            "  \u001b[32m+ openroad          \u001b[0m     2.0_7681_g850238c2f  20230412_103222       litex-hub      24MB\n",
            "  \u001b[32m+ openssl           \u001b[0m                  1.1.1t  h7f8727e_0            main            4MB\n",
            "  \u001b[32m+ pcre              \u001b[0m                    8.45  h295c915_0            main          263kB\n",
            "  \u001b[32m+ pip               \u001b[0m                  22.3.1  py37h06a4308_0        main            3MB\n",
            "  \u001b[32m+ pixman            \u001b[0m                  0.40.0  h7f8727e_1            main          645kB\n",
            "  \u001b[32m+ python            \u001b[0m                  3.7.16  h7a1cb2a_0            main           49MB\n",
            "  \u001b[32m+ pyyaml            \u001b[0m                     6.0  py37h5eee18b_1        main          184kB\n",
            "  \u001b[32m+ qt                \u001b[0m                   5.9.7  h5867ecd_1            main           90MB\n",
            "  \u001b[32m+ readline          \u001b[0m                     8.2  h5eee18b_0            main          468kB\n",
            "  \u001b[32m+ ruby              \u001b[0m                   3.1.2  h006b21b_1            main            9MB\n",
            "  \u001b[32m+ setuptools        \u001b[0m                  65.6.3  py37h06a4308_0        main            1MB\n",
            "  \u001b[32m+ spdlog            \u001b[0m                   1.9.2  hd09550d_0            main          217kB\n",
            "  \u001b[32m+ sqlite            \u001b[0m                  3.41.2  h5eee18b_0            main            2MB\n",
            "  \u001b[32m+ tcllib            \u001b[0m      1_21_47_g6c321309d  20230519_121737       litex-hub       2MB\n",
            "  \u001b[32m+ tk                \u001b[0m                  8.6.12  h1ccaba5_0            main            3MB\n",
            "  \u001b[32m+ typing_extensions \u001b[0m                   4.4.0  py37h06a4308_0        main           46kB\n",
            "  \u001b[32m+ wheel             \u001b[0m                  0.38.4  py37h06a4308_0        main           59kB\n",
            "  \u001b[32m+ xz                \u001b[0m                  5.2.10  h5eee18b_1            main          459kB\n",
            "  \u001b[32m+ yaml              \u001b[0m                   0.2.5  h7b6447c_0            main           89kB\n",
            "  \u001b[32m+ yosys             \u001b[0m      0.29_22_g147cceb51  20230519_121737_py37  litex-hub      11MB\n",
            "  \u001b[32m+ zipp              \u001b[0m                  3.11.0  py37h06a4308_0        main           18kB\n",
            "  \u001b[32m+ zlib              \u001b[0m                  1.2.13  h5eee18b_0            main          128kB\n",
            "  \u001b[32m+ zstd              \u001b[0m                   1.5.5  hc292b87_0            main            1MB\n",
            "\n",
            "  Summary:\n",
            "\n",
            "  Install: 61 packages\n",
            "\n",
            "  Total download: 454MB\n",
            "\n",
            "───────────────────────────────────────────────────────────────────────────────────────────\n",
            "\n",
            "\n",
            "\n",
            "Transaction starting\n",
            "Linking open_pdks.sky130a-1.0.406_0_g0c37b7c-20230412_103222\n",
            "Linking _libgcc_mutex-0.1-main\n",
            "Linking libstdcxx-ng-11.2.0-h1234567_1\n",
            "Linking ld_impl_linux-64-2.38-h1181459_1\n",
            "Linking ca-certificates-2023.01.10-h06a4308_0\n",
            "Linking libgomp-11.2.0-h1234567_1\n",
            "Linking _openmp_mutex-5.1-1_gnu\n",
            "Linking libgcc-ng-11.2.0-h1234567_1\n",
            "Linking libuuid-1.41.5-h5eee18b_0\n",
            "Linking lz4-c-1.9.4-h6a678d5_0\n",
            "Linking bzip2-1.0.8-h7b6447c_0\n",
            "Linking gmp-6.2.1-h295c915_3\n",
            "Linking pixman-0.40.0-h7f8727e_1\n",
            "Linking libxcb-1.15-h7f8727e_0\n",
            "Linking jpeg-9e-h5eee18b_1\n",
            "Linking icu-58.2-he6710b0_3\n",
            "Linking expat-2.4.9-h6a678d5_0\n",
            "Linking xz-5.2.10-h5eee18b_1\n",
            "Linking openssl-1.1.1t-h7f8727e_0\n",
            "Linking ncurses-6.4-h6a678d5_0\n",
            "Linking pcre-8.45-h295c915_0\n",
            "Linking yaml-0.2.5-h7b6447c_0\n",
            "Linking libffi-3.4.2-h6a678d5_6\n",
            "Linking fmt-8.1.1-hd09550d_1\n",
            "Linking zlib-1.2.13-h5eee18b_0\n",
            "Linking readline-8.2-h5eee18b_0\n",
            "Linking spdlog-1.9.2-hd09550d_0\n",
            "Linking zstd-1.5.5-hc292b87_0\n",
            "Linking libpng-1.6.39-h5eee18b_0\n",
            "Linking glib-2.69.1-he621ea3_2\n",
            "Linking tk-8.6.12-h1ccaba5_0\n",
            "Linking gdbm-1.18-hd4cb3f1_4\n",
            "Linking sqlite-3.41.2-h5eee18b_0\n",
            "Linking libboost-1.73.0-h28710b8_12\n",
            "Linking freetype-2.12.1-h4a9f257_0\n",
            "Linking gstreamer-1.14.1-h5eee18b_1\n",
            "Linking dbus-1.13.18-hb2f20db_0\n",
            "Linking ruby-3.1.2-h006b21b_1\n",
            "Linking python-3.7.16-h7a1cb2a_0\n",
            "Linking wheel-0.38.4-py37h06a4308_0\n",
            "Linking gst-plugins-base-1.14.1-h6a678d5_1\n",
            "Linking certifi-2022.12.7-py37h06a4308_0\n",
            "Linking setuptools-65.6.3-py37h06a4308_0\n",
            "Linking pip-22.3.1-py37h06a4308_0\n",
            "Linking pyyaml-6.0-py37h5eee18b_1\n",
            "Linking zipp-3.11.0-py37h06a4308_0\n",
            "Linking libxml2-2.9.9-20220706_155948\n",
            "Linking netgen-1.5.251_0_gd111fa0-20230412_103222\n",
            "Linking yosys-0.29_22_g147cceb51-20230519_121737_py37\n",
            "Linking tcllib-1_21_47_g6c321309d-20230519_121737\n",
            "Linking flit-core-3.6.0-pyhd3eb1b0_0\n",
            "Linking fontconfig-2.13.0-h9420a91_0\n",
            "Linking typing_extensions-4.4.0-py37h06a4308_0\n",
            "Linking cairo-1.14.12-h8948797_3\n",
            "Linking qt-5.9.7-h5867ecd_1\n",
            "Linking importlib-metadata-4.11.3-py37h06a4308_0\n",
            "Linking click-8.0.4-py37h06a4308_0\n",
            "Linking magic-8.3.389_0_g1d8fcca-20230412_103222\n",
            "Linking openroad-2.0_7681_g850238c2f-20230412_103222\n",
            "Linking klayout-0.28.7_63_gbd3364047-20230519_121737_py37\n",
            "Linking openlane-2023.04.12_0_g23e367a9-20230412_103222\n",
            "\n",
            "Transaction finished\n",
            "\n",
            "To activate this environment, use:\n",
            "\n",
            "    micromamba activate /content/conda-env\n",
            "\n",
            "Or to execute a single command in this environment, use:\n",
            "\n",
            "    micromamba run -p /content/conda-env mycommand\n",
            "\n",
            "Looking in indexes: https://pypi.org/simple, https://us-python.pkg.dev/colab-wheels/public/simple/\n",
            "Collecting gdstk\n",
            "  Downloading gdstk-0.9.40-cp310-cp310-manylinux_2_24_x86_64.manylinux_2_28_x86_64.whl (844 kB)\n",
            "\u001b[2K     \u001b[90m━━━━━━━━━━━━━━━━━━━━━━━━━━━━━━━━━━━━━━\u001b[0m \u001b[32m844.0/844.0 kB\u001b[0m \u001b[31m12.7 MB/s\u001b[0m eta \u001b[36m0:00:00\u001b[0m\n",
            "\u001b[?25hCollecting cairosvg\n",
            "  Downloading CairoSVG-2.7.0-py3-none-any.whl (43 kB)\n",
            "\u001b[2K     \u001b[90m━━━━━━━━━━━━━━━━━━━━━━━━━━━━━━━━━━━━━━━━\u001b[0m \u001b[32m43.2/43.2 kB\u001b[0m \u001b[31m4.3 MB/s\u001b[0m eta \u001b[36m0:00:00\u001b[0m\n",
            "\u001b[?25hRequirement already satisfied: numpy in /usr/local/lib/python3.10/dist-packages (from gdstk) (1.22.4)\n",
            "Collecting cairocffi (from cairosvg)\n",
            "  Downloading cairocffi-1.5.1.tar.gz (86 kB)\n",
            "\u001b[2K     \u001b[90m━━━━━━━━━━━━━━━━━━━━━━━━━━━━━━━━━━━━━━━━\u001b[0m \u001b[32m86.9/86.9 kB\u001b[0m \u001b[31m8.4 MB/s\u001b[0m eta \u001b[36m0:00:00\u001b[0m\n",
            "\u001b[?25h  Installing build dependencies ... \u001b[?25l\u001b[?25hdone\n",
            "  Getting requirements to build wheel ... \u001b[?25l\u001b[?25hdone\n",
            "  Installing backend dependencies ... \u001b[?25l\u001b[?25hdone\n",
            "  Preparing metadata (pyproject.toml) ... \u001b[?25l\u001b[?25hdone\n",
            "Collecting cssselect2 (from cairosvg)\n",
            "  Downloading cssselect2-0.7.0-py3-none-any.whl (15 kB)\n",
            "Requirement already satisfied: defusedxml in /usr/local/lib/python3.10/dist-packages (from cairosvg) (0.7.1)\n",
            "Requirement already satisfied: pillow in /usr/local/lib/python3.10/dist-packages (from cairosvg) (8.4.0)\n",
            "Requirement already satisfied: tinycss2 in /usr/local/lib/python3.10/dist-packages (from cairosvg) (1.2.1)\n",
            "Requirement already satisfied: cffi>=1.1.0 in /usr/local/lib/python3.10/dist-packages (from cairocffi->cairosvg) (1.15.1)\n",
            "Requirement already satisfied: webencodings in /usr/local/lib/python3.10/dist-packages (from cssselect2->cairosvg) (0.5.1)\n",
            "Requirement already satisfied: pycparser in /usr/local/lib/python3.10/dist-packages (from cffi>=1.1.0->cairocffi->cairosvg) (2.21)\n",
            "Building wheels for collected packages: cairocffi\n",
            "  Building wheel for cairocffi (pyproject.toml) ... \u001b[?25l\u001b[?25hdone\n",
            "  Created wheel for cairocffi: filename=cairocffi-1.5.1-py3-none-any.whl size=90523 sha256=626fd91b19c22947c10eabd5c34547fb6bedbe133bfc55590ed27892fa3d3823\n",
            "  Stored in directory: /root/.cache/pip/wheels/3d/f0/15/e20ff54ef59ec58a08e230bd3874e6f412b09e6a3093f856a7\n",
            "Successfully built cairocffi\n",
            "Installing collected packages: gdstk, cssselect2, cairocffi, cairosvg\n",
            "Successfully installed cairocffi-1.5.1 cairosvg-2.7.0 cssselect2-0.7.0 gdstk-0.9.40\n",
            "env: CONDA_PREFIX=/content/conda-env\n",
            "env: PATH=/content/conda-env/bin:/opt/bin:/usr/local/nvidia/bin:/usr/local/cuda/bin:/usr/local/sbin:/usr/local/bin:/usr/sbin:/usr/bin:/sbin:/bin:/tools/node/bin:/tools/google-cloud-sdk/bin\n"
          ]
        }
      ],
      "source": [
        "#@title Install dependencies {display-mode: \"form\"}\n",
        "#@markdown - Click the ▷ button to setup the digital design environment based on [conda-eda](https://github.com/hdl/conda-eda).\n",
        "\n",
        "openlane_version = 'latest' #@param {type:\"string\"}\n",
        "open_pdks_version = 'latest' #@param {type:\"string\"}\n",
        "\n",
        "if openlane_version == 'latest':\n",
        "  openlane_version = ''\n",
        "if open_pdks_version == 'latest':\n",
        "  open_pdks_version = ''\n",
        "\n",
        "import os\n",
        "import pathlib\n",
        "\n",
        "!curl -Ls https://micro.mamba.pm/api/micromamba/linux-64/latest | tar -xj bin/micromamba\n",
        "conda_prefix_path = pathlib.Path('conda-env')\n",
        "CONDA_PREFIX = str(conda_prefix_path.resolve())\n",
        "!bin/micromamba create --yes --prefix $CONDA_PREFIX\n",
        "!echo 'python ==3.7*' >> {CONDA_PREFIX}/conda-meta/pinned\n",
        "!CI=0 bin/micromamba install --yes --prefix $CONDA_PREFIX \\\n",
        "                     --channel litex-hub \\\n",
        "                     --channel main \\\n",
        "                     openlane={openlane_version} \\\n",
        "                     open_pdks.sky130a={open_pdks_version}\n",
        "!python -m pip install gdstk gdstk cairosvg\n",
        "PATH = os.environ['PATH']\n",
        "%env CONDA_PREFIX={CONDA_PREFIX}\n",
        "%env PATH={CONDA_PREFIX}/bin:{PATH}\n"
      ]
    },
    {
      "cell_type": "markdown",
      "source": [
        "## Start with a simple inverter"
      ],
      "metadata": {
        "id": "VDJ0lwvFrQiZ"
      }
    },
    {
      "cell_type": "code",
      "source": [
        "%%writefile inverter.v\n",
        "module inverter(input wire in, output wire out);\n",
        "    assign out = !in;\n",
        "endmodule"
      ],
      "metadata": {
        "id": "K7y5-3ntrOVx",
        "outputId": "3c9e8cc0-dfba-419e-e896-61a6f069c095",
        "colab": {
          "base_uri": "https://localhost:8080/"
        }
      },
      "execution_count": 20,
      "outputs": [
        {
          "output_type": "stream",
          "name": "stdout",
          "text": [
            "Overwriting inverter.v\n"
          ]
        }
      ]
    },
    {
      "cell_type": "markdown",
      "source": [
        "## Write configuration\n",
        "\n",
        "[Documentation](https://openlane.readthedocs.io/en/latest/reference/configuration.html)"
      ],
      "metadata": {
        "id": "RjYFTRG3rdLP"
      }
    },
    {
      "cell_type": "code",
      "source": [
        "%%writefile config.json\n",
        "{\n",
        "    \"DESIGN_NAME\": \"inverter\",\n",
        "    \"VERILOG_FILES\": \"dir::inverter.v\",\n",
        "    \"CLOCK_TREE_SYNTH\": false,\n",
        "    \"CLOCK_PORT\": null,\n",
        "    \"PL_RANDOM_GLB_PLACEMENT\": true,\n",
        "    \"FP_SIZING\": \"absolute\",\n",
        "    \"DIE_AREA\": \"0 0 34.5 57.12\",\n",
        "    \"PL_TARGET_DENSITY\": 0.75,\n",
        "    \"FP_PDN_AUTO_ADJUST\": false,\n",
        "    \"FP_PDN_VPITCH\": 25,\n",
        "    \"FP_PDN_HPITCH\": 25,\n",
        "    \"FP_PDN_VOFFSET\": 5,\n",
        "    \"FP_PDN_HOFFSET\": 5,\n",
        "    \"DIODE_INSERTION_STRATEGY\": 3\n",
        "}"
      ],
      "metadata": {
        "id": "Eu9_BU4Zrd0G",
        "outputId": "963decb5-5257-48b6-8bfb-45ad4c7af6bd",
        "colab": {
          "base_uri": "https://localhost:8080/"
        }
      },
      "execution_count": 21,
      "outputs": [
        {
          "output_type": "stream",
          "name": "stdout",
          "text": [
            "Overwriting config.json\n"
          ]
        }
      ]
    },
    {
      "cell_type": "markdown",
      "source": [
        "## Run OpenLane Flow\n",
        "\n",
        "[OpenLane](https://openlane.readthedocs.io/en/latest/) is an automated [RTL](https://en.wikipedia.org/wiki/Register-transfer_level) to [GDSII](https://en.wikipedia.org/wiki/GDSII) flow based on several components including [OpenROAD](https://theopenroadproject.org/), [Yosys](https://yosyshq.net/yosys/), [Magic](http://www.opencircuitdesign.com/magic/), [Netgen](http://opencircuitdesign.com/netgen/) and custom methodology scripts for design exploration and optimization targeting [open source PDKs](https://github.com/google/open-source-pdks).\n",
        "\n",
        "![img](https://openlane.readthedocs.io/en/latest/_images/flow_v1.png)"
      ],
      "metadata": {
        "id": "Fz_T0GH0rih7"
      }
    },
    {
      "cell_type": "code",
      "source": [
        "%env PDK=sky130A\n",
        "!flow.tcl -design ."
      ],
      "metadata": {
        "id": "3BIW5LSirlJz",
        "outputId": "b35ade2e-dd83-47de-ab02-368a662098b7",
        "colab": {
          "base_uri": "https://localhost:8080/"
        }
      },
      "execution_count": 22,
      "outputs": [
        {
          "output_type": "stream",
          "name": "stdout",
          "text": [
            "env: PDK=sky130A\n",
            "OpenLane 2023.04.12_0_g23e367a9-conda\n",
            "All rights reserved. (c) 2020-2022 Efabless Corporation and contributors.\n",
            "Available under the Apache License, version 2.0. See the LICENSE file for more details.\n",
            "\n",
            "\u001b[36m[INFO]: Using configuration in 'config.json'...\u001b[39m\n",
            "\u001b[36m[INFO]: PDK Root: /content/conda-env/share/pdk\u001b[39m\n",
            "\u001b[36m[INFO]: Process Design Kit: sky130A\u001b[39m\n",
            "\u001b[36m[INFO]: Standard Cell Library: sky130_fd_sc_hd\u001b[39m\n",
            "\u001b[36m[INFO]: Optimization Standard Cell Library: sky130_fd_sc_hd\u001b[39m\n",
            "\u001b[33m[WARNING]: DIODE_INSERTION_STRATEGY is now deprecated; use GRT_REPAIR_ANTENNAS, DIODE_ON_PORTS and RUN_HEURISTIC_DIODE_INSERTION instead.\u001b[39m\n",
            "\u001b[36m[INFO]: DIODE_INSERTION_STRATEGY set to 3. Setting GRT_REPAIR_ANTENNAS to 1\u001b[39m\n",
            "\u001b[36m[INFO]: Run Directory: /content/runs/RUN_2023.05.21_17.59.47\u001b[39m\n",
            "\u001b[36m[INFO]: Preparing LEF files for the nom corner...\u001b[39m\n",
            "\u001b[36m[INFO]: Preparing LEF files for the min corner...\u001b[39m\n",
            "\u001b[36m[INFO]: Preparing LEF files for the max corner...\u001b[39m\n",
            "[STEP 1]\n",
            "\u001b[36m[INFO]: Running Synthesis (log: runs/RUN_2023.05.21_17.59.47/logs/synthesis/1-synthesis.log)...\u001b[39m\n",
            "[STEP 2]\n",
            "\u001b[36m[INFO]: Running Single-Corner Static Timing Analysis (log: runs/RUN_2023.05.21_17.59.47/logs/synthesis/2-sta.log)...\u001b[39m\n",
            "[STEP 3]\n",
            "\u001b[36m[INFO]: Running Initial Floorplanning (log: runs/RUN_2023.05.21_17.59.47/logs/floorplan/3-initial_fp.log)...\u001b[39m\n",
            "\u001b[36m[INFO]: Floorplanned with width 23.46 and height 35.36.\u001b[39m\n",
            "[STEP 4]\n",
            "\u001b[36m[INFO]: Running IO Placement...\u001b[39m\n",
            "[STEP 5]\n",
            "\u001b[36m[INFO]: Running Tap/Decap Insertion (log: runs/RUN_2023.05.21_17.59.47/logs/floorplan/5-tap.log)...\u001b[39m\n",
            "\u001b[36m[INFO]: Power planning with power {VPWR} and ground {VGND}...\u001b[39m\n",
            "[STEP 6]\n",
            "\u001b[36m[INFO]: Generating PDN (log: runs/RUN_2023.05.21_17.59.47/logs/floorplan/6-pdn.log)...\u001b[39m\n",
            "[STEP 7]\n",
            "\u001b[36m[INFO]: Performing Random Global Placement (log: runs/RUN_2023.05.21_17.59.47/logs/placement/7-global.log)...\u001b[39m\n",
            "[STEP 8]\n",
            "\u001b[36m[INFO]: Running Placement Resizer Design Optimizations (log: runs/RUN_2023.05.21_17.59.47/logs/placement/8-resizer.log)...\u001b[39m\n",
            "[STEP 9]\n",
            "\u001b[36m[INFO]: Running Detailed Placement (log: runs/RUN_2023.05.21_17.59.47/logs/placement/9-detailed.log)...\u001b[39m\n",
            "[STEP 10]\n",
            "\u001b[36m[INFO]: Running Single-Corner Static Timing Analysis (log: runs/RUN_2023.05.21_17.59.47/logs/placement/10-sta.log)...\u001b[39m\n",
            "[STEP 11]\n",
            "\u001b[36m[INFO]: Running Placement Resizer Timing Optimizations (log: runs/RUN_2023.05.21_17.59.47/logs/cts/11-resizer.log)...\u001b[39m\n",
            "[STEP 12]\n",
            "\u001b[36m[INFO]: Running Global Routing Resizer Design Optimizations (log: runs/RUN_2023.05.21_17.59.47/logs/routing/12-resizer_design.log)...\u001b[39m\n",
            "[STEP 13]\n",
            "\u001b[36m[INFO]: Running Single-Corner Static Timing Analysis (log: runs/RUN_2023.05.21_17.59.47/logs/routing/13-sta-resizer_design.log)...\u001b[39m\n",
            "[STEP 14]\n",
            "\u001b[36m[INFO]: Running Global Routing Resizer Timing Optimizations (log: runs/RUN_2023.05.21_17.59.47/logs/routing/14-resizer_timing.log)...\u001b[39m\n",
            "[STEP 15]\n",
            "\u001b[36m[INFO]: Running Single-Corner Static Timing Analysis (log: runs/RUN_2023.05.21_17.59.47/logs/routing/15-sta-resizer_timing.log)...\u001b[39m\n",
            "[STEP 16]\n",
            "\u001b[36m[INFO]: Running Global Routing (log: runs/RUN_2023.05.21_17.59.47/logs/routing/16-global.log)...\u001b[39m\n",
            "\u001b[36m[INFO]: Starting OpenROAD Antenna Repair Iterations...\u001b[39m\n",
            "[STEP 17]\n",
            "\u001b[36m[INFO]: Writing Verilog (log: runs/RUN_2023.05.21_17.59.47/logs/routing/16-global_write_netlist.log)...\u001b[39m\n",
            "[STEP 18]\n",
            "\u001b[36m[INFO]: Running Single-Corner Static Timing Analysis (log: runs/RUN_2023.05.21_17.59.47/logs/routing/18-sta-groute.log)...\u001b[39m\n",
            "[STEP 19]\n",
            "\u001b[36m[INFO]: Running Fill Insertion (log: runs/RUN_2023.05.21_17.59.47/logs/routing/19-fill.log)...\u001b[39m\n",
            "[STEP 20]\n",
            "\u001b[36m[INFO]: Running Detailed Routing (log: runs/RUN_2023.05.21_17.59.47/logs/routing/20-detailed.log)...\u001b[39m\n",
            "\u001b[36m[INFO]: No DRC violations after detailed routing.\u001b[39m\n",
            "[STEP 21]\n",
            "\u001b[36m[INFO]: Checking Wire Lengths (log: runs/RUN_2023.05.21_17.59.47/logs/routing/21-wire_lengths.log)...\u001b[39m\n",
            "[STEP 22]\n",
            "\u001b[36m[INFO]: Running SPEF Extraction at the min process corner (log: runs/RUN_2023.05.21_17.59.47/logs/signoff/22-parasitics_extraction.min.log)...\u001b[39m\n",
            "[STEP 23]\n",
            "\u001b[36m[INFO]: Running Multi-Corner Static Timing Analysis at the min process corner (log: runs/RUN_2023.05.21_17.59.47/logs/signoff/23-rcx_mcsta.min.log)...\u001b[39m\n",
            "[STEP 24]\n",
            "\u001b[36m[INFO]: Running SPEF Extraction at the max process corner (log: runs/RUN_2023.05.21_17.59.47/logs/signoff/24-parasitics_extraction.max.log)...\u001b[39m\n",
            "[STEP 25]\n",
            "\u001b[36m[INFO]: Running Multi-Corner Static Timing Analysis at the max process corner (log: runs/RUN_2023.05.21_17.59.47/logs/signoff/25-rcx_mcsta.max.log)...\u001b[39m\n",
            "[STEP 26]\n",
            "\u001b[36m[INFO]: Running SPEF Extraction at the nom process corner (log: runs/RUN_2023.05.21_17.59.47/logs/signoff/26-parasitics_extraction.nom.log)...\u001b[39m\n",
            "[STEP 27]\n",
            "\u001b[36m[INFO]: Running Multi-Corner Static Timing Analysis at the nom process corner (log: runs/RUN_2023.05.21_17.59.47/logs/signoff/27-rcx_mcsta.nom.log)...\u001b[39m\n",
            "[STEP 28]\n",
            "\u001b[36m[INFO]: Running Single-Corner Static Timing Analysis at the nom process corner (log: runs/RUN_2023.05.21_17.59.47/logs/signoff/28-rcx_sta.log)...\u001b[39m\n",
            "\u001b[33m[WARNING]: Module sky130_fd_sc_hd__tapvpwrvgnd_1 blackboxed during sta\u001b[39m\n",
            "\u001b[33m[WARNING]: Module sky130_ef_sc_hd__decap_12 blackboxed during sta\u001b[39m\n",
            "\u001b[33m[WARNING]: Module sky130_fd_sc_hd__fill_1 blackboxed during sta\u001b[39m\n",
            "[STEP 29]\n",
            "\u001b[36m[INFO]: Creating IR Drop Report (log: runs/RUN_2023.05.21_17.59.47/logs/signoff/29-irdrop.log)...\u001b[39m\n",
            "[STEP 30]\n",
            "\u001b[36m[INFO]: Running Magic to generate various views...\u001b[39m\n",
            "\u001b[36m[INFO]: Streaming out GDSII with Magic (log: runs/RUN_2023.05.21_17.59.47/logs/signoff/30-gdsii.log)...\u001b[39m\n",
            "\u001b[36m[INFO]: Generating MAGLEF views...\u001b[39m\n",
            "\u001b[36m[INFO]: Generating lef with Magic (/content/runs/RUN_2023.05.21_17.59.47/logs/signoff/30-lef.log)...\u001b[39m\n",
            "[STEP 31]\n",
            "\u001b[36m[INFO]: Streaming out GDSII with KLayout (log: runs/RUN_2023.05.21_17.59.47/logs/signoff/31-gdsii-klayout.log)...\u001b[39m\n",
            "[STEP 32]\n",
            "\u001b[36m[INFO]: Running XOR on the layouts using KLayout (log: runs/RUN_2023.05.21_17.59.47/logs/signoff/32-xor.log)...\u001b[39m\n",
            "\u001b[36m[INFO]: No XOR differences between KLayout and Magic gds.\u001b[39m\n",
            "[STEP 33]\n",
            "\u001b[36m[INFO]: Running Magic Spice Export from LEF (log: runs/RUN_2023.05.21_17.59.47/logs/signoff/33-spice.log)...\u001b[39m\n",
            "[STEP 34]\n",
            "\u001b[36m[INFO]: Writing Powered Verilog (logs: runs/RUN_2023.05.21_17.59.47/logs/signoff/34-write_powered_def.log, runs/RUN_2023.05.21_17.59.47/logs/signoff/34-write_powered_verilog.log)...\u001b[39m\n",
            "[STEP 35]\n",
            "\u001b[36m[INFO]: Writing Verilog (log: runs/RUN_2023.05.21_17.59.47/logs/signoff/34-write_powered_verilog.log)...\u001b[39m\n",
            "[STEP 36]\n",
            "\u001b[36m[INFO]: Running LVS (log: runs/RUN_2023.05.21_17.59.47/logs/signoff/36-lvs.lef.log)...\u001b[39m\n",
            "[STEP 37]\n",
            "\u001b[36m[INFO]: Running Magic DRC (log: runs/RUN_2023.05.21_17.59.47/logs/signoff/37-drc.log)...\u001b[39m\n",
            "\u001b[36m[INFO]: Converting Magic DRC database to various tool-readable formats...\u001b[39m\n",
            "\u001b[36m[INFO]: No DRC violations after GDS streaming out.\u001b[39m\n",
            "[STEP 38]\n",
            "\u001b[36m[INFO]: Running OpenROAD Antenna Rule Checker (log: runs/RUN_2023.05.21_17.59.47/logs/signoff/38-antenna.log)...\u001b[39m\n",
            "\u001b[36m[INFO]: Saving current set of views in 'runs/RUN_2023.05.21_17.59.47/results/final'...\u001b[39m\n",
            "\u001b[36m[INFO]: Saving runtime environment...\u001b[39m\n",
            "\u001b[36m[INFO]: Generating final set of reports...\u001b[39m\n",
            "\u001b[36m[INFO]: Created manufacturability report at 'runs/RUN_2023.05.21_17.59.47/reports/manufacturability.rpt'.\u001b[39m\n",
            "\u001b[36m[INFO]: Created metrics report at 'runs/RUN_2023.05.21_17.59.47/reports/metrics.csv'.\u001b[39m\n",
            "\u001b[36m[INFO]: There are no max slew, max fanout or max capacitance violations in the design at the typical corner.\u001b[39m\n",
            "\u001b[36m[INFO]: There are no hold violations in the design at the typical corner.\u001b[39m\n",
            "\u001b[36m[INFO]: There are no setup violations in the design at the typical corner.\u001b[39m\n",
            "\u001b[32m[SUCCESS]: Flow complete.\u001b[39m\n",
            "\u001b[36m[INFO]: Note that the following warnings have been generated:\u001b[39m\n",
            "[WARNING]: Module sky130_fd_sc_hd__tapvpwrvgnd_1 blackboxed during sta\n",
            "[WARNING]: Module sky130_ef_sc_hd__decap_12 blackboxed during sta\n",
            "[WARNING]: Module sky130_fd_sc_hd__fill_1 blackboxed during sta\n",
            "\n"
          ]
        }
      ]
    },
    {
      "cell_type": "markdown",
      "source": [
        "# Display Layout"
      ],
      "metadata": {
        "id": "k-SOt_earqEd"
      }
    },
    {
      "cell_type": "code",
      "source": [
        "import pathlib\n",
        "import gdstk\n",
        "import IPython.display\n",
        "\n",
        "gdss = sorted(pathlib.Path('runs').glob('*/results/final/gds/*.gds'))\n",
        "library = gdstk.read_gds(gdss[-1])\n",
        "top_cells = library.top_level()\n",
        "top_cells[0].write_svg('inverter.svg')\n",
        "IPython.display.SVG('inverter.svg')"
      ],
      "metadata": {
        "id": "wLsQaQCYrr5I",
        "outputId": "4f59a150-fa73-4a36-92fe-78f1743fc3f4",
        "colab": {
          "base_uri": "https://localhost:8080/",
          "height": 649
        }
      },
      "execution_count": null,
      "outputs": [
        {
          "output_type": "execute_result",
          "data": {
            "text/plain": [
              "<IPython.core.display.SVG object>"
            ],
            "image/svg+xml": "<svg xmlns=\"http://www.w3.org/2000/svg\" xmlns:xlink=\"http://www.w3.org/1999/xlink\" width=\"402.12\" height=\"628.32\" viewBox=\"-28.56 -599.76 402.12 628.32\">\n<defs>\n<style type=\"text/css\">\n.l65d44 {stroke: #2B3D26; fill: #2B3D26; fill-opacity: 0.5;}\n.l235d4 {stroke: #0067A5; fill: #0067A5; fill-opacity: 0.5;}\n.l67d44 {stroke: #875692; fill: #875692; fill-opacity: 0.5;}\n.l69d44 {stroke: #A1CAF1; fill: #A1CAF1; fill-opacity: 0.5;}\n.l122d16 {stroke: #F6A600; fill: #F6A600; fill-opacity: 0.5;}\n.l93d44 {stroke: #008856; fill: #008856; fill-opacity: 0.5;}\n.l78d44 {stroke: #F6A600; fill: #F6A600; fill-opacity: 0.5;}\n.l236d0 {stroke: #E25822; fill: #E25822; fill-opacity: 0.5;}\n.l66d44 {stroke: #F3C300; fill: #F3C300; fill-opacity: 0.5;}\n.l68d44 {stroke: #F38400; fill: #F38400; fill-opacity: 0.5;}\n.l95d20 {stroke: #654522; fill: #654522; fill-opacity: 0.5;}\n.l70d44 {stroke: #BE0032; fill: #BE0032; fill-opacity: 0.5;}\n.l69d16 {stroke: #2B3D26; fill: #2B3D26; fill-opacity: 0.5;}\n.l68d16 {stroke: #E25822; fill: #E25822; fill-opacity: 0.5;}\n.l67d20 {stroke: #0067A5; fill: #0067A5; fill-opacity: 0.5;}\n.l71d16 {stroke: #875692; fill: #875692; fill-opacity: 0.5;}\n.l69d20 {stroke: #604E97; fill: #604E97; fill-opacity: 0.5;}\n.l68d20 {stroke: #F99379; fill: #F99379; fill-opacity: 0.5;}\n.l71d20 {stroke: #B3446C; fill: #B3446C; fill-opacity: 0.5;}\n.l70d20 {stroke: #F6A600; fill: #F6A600; fill-opacity: 0.5;}\n.l94d20 {stroke: #8DB600; fill: #8DB600; fill-opacity: 0.5;}\n.l64d20 {stroke: #848482; fill: #848482; fill-opacity: 0.5;}\n.l81d4 {stroke: #882D17; fill: #882D17; fill-opacity: 0.5;}\n.l64d16 {stroke: #DCD300; fill: #DCD300; fill-opacity: 0.5;}\n.l65d20 {stroke: #008856; fill: #008856; fill-opacity: 0.5;}\n.l66d20 {stroke: #E68FAC; fill: #E68FAC; fill-opacity: 0.5;}\n.l67d16 {stroke: #654522; fill: #654522; fill-opacity: 0.5;}\n.l64t5 {stroke: none; fill: #604E97;}\n.l67t5 {stroke: none; fill: #DCD300;}\n.l68t5 {stroke: none; fill: #882D17;}\n.l69t5 {stroke: none; fill: #8DB600;}\n.l71t5 {stroke: none; fill: #E25822;}\n.l83t44 {stroke: none; fill: #654522;}\n.l64t59 {stroke: none; fill: #B3446C;}\n</style>\n<g id=\"sky130_fd_sc_hd__tapvpwrvgnd_1\">\n<polygon id=\"0x1a142f0\" class=\"l68d16\" points=\"1.05,-0.9 3.6,-0.9 3.6,1 1.05,1\"/>\n<polygon id=\"0x1c5be60\" class=\"l68d16\" points=\"1.1,26.2 3.75,26.2 3.75,27.65 1.1,27.65\"/>\n<polygon id=\"0x1c4add0\" class=\"l94d20\" points=\"0,1.9 4.6,1.9 4.6,9.75 0,9.75\"/>\n<polygon id=\"0x1ca7d20\" class=\"l94d20\" points=\"0,25.3 4.6,25.3 4.6,29.1 0,29.1\"/>\n<polygon id=\"0x1cd78f0\" class=\"l93d44\" points=\"0,-1.9 4.6,-1.9 4.6,1.9 0,1.9\"/>\n<polygon id=\"0x1b4cf50\" class=\"l93d44\" points=\"0,13.95 4.6,13.95 4.6,25.3 0,25.3\"/>\n<polygon id=\"0x18bea00\" class=\"l64d20\" points=\"-1.9,13.05 6.5,13.05 6.5,29.1 -1.9,29.1\"/>\n<polygon id=\"0x18b0620\" class=\"l66d44\" points=\"1.45,5.55 3.15,5.55 3.15,7.25 1.45,7.25\"/>\n<polygon id=\"0x1d14a10\" class=\"l66d44\" points=\"1.45,16.45 3.15,16.45 3.15,18.15 1.45,18.15\"/>\n<polygon id=\"0x1d8f8c0\" class=\"l66d44\" points=\"1.45,21.1 3.15,21.1 3.15,22.8 1.45,22.8\"/>\n<polygon id=\"0x1da5200\" class=\"l65d44\" points=\"1.45,3.2 3.15,3.2 3.15,8.45 1.45,8.45\"/>\n<polygon id=\"0x1db2f30\" class=\"l65d44\" points=\"1.45,15.25 3.15,15.25 3.15,24 1.45,24\"/>\n<polygon id=\"0x1dd8200\" class=\"l68d20\" points=\"0,-2.4 4.6,-2.4 4.6,2.4 0,2.4\"/>\n<polygon id=\"0x1df7650\" class=\"l68d20\" points=\"0,24.8 4.6,24.8 4.6,29.6 0,29.6\"/>\n<polygon id=\"0x1e16d30\" class=\"l67d44\" points=\"1.45,-0.85 3.15,-0.85 3.15,0.85 1.45,0.85\"/>\n<polygon id=\"0x1e53230\" class=\"l67d44\" points=\"1.45,26.35 3.15,26.35 3.15,28.05 1.45,28.05\"/>\n<polygon id=\"0x1e92a70\" class=\"l67d20\" points=\"0.85,0 3.75,0 3.75,8.1 0.85,8.1\"/>\n<polygon id=\"0x1e92ae0\" class=\"l67d20\" points=\"0.85,14.7 3.75,14.7 3.75,27.2 0.85,27.2\"/>\n<polygon id=\"0x1e64320\" class=\"l67d20\" points=\"0,26.35 4.6,26.35 4.6,28.05 0,28.05\"/>\n<polygon id=\"0x1f1efb0\" class=\"l67d20\" points=\"0,-0.85 4.6,-0.85 4.6,0.85 0,0.85\"/>\n<polygon id=\"0x1f2c3f0\" class=\"l78d44\" points=\"0,12.5 4.6,12.5 4.6,27.2 0,27.2\"/>\n<polygon id=\"0x1f397c0\" class=\"l81d4\" points=\"0,0 4.6,0 4.6,27.2 0,27.2\"/>\n<text id=\"0x1f842c0\" class=\"l68t5\" text-anchor=\"middle\" dominant-baseline=\"central\" transform=\"translate(2.3 27.2) scale(0.1) scale(1 -1)\">VPWR</text>\n<text id=\"0x1fbe600\" class=\"l68t5\" text-anchor=\"middle\" dominant-baseline=\"central\" transform=\"translate(2.3 0) scale(0.1) scale(1 -1)\">VGND</text>\n<text id=\"0x1fbe690\" class=\"l83t44\" text-anchor=\"start\" dominant-baseline=\"text-before-edge\" transform=\"translate(0 0) rotate(90) scale(0.1) scale(1 -1)\">tapvpwrvgnd_1</text>\n</g>\n<g id=\"sky130_fd_sc_hd__decap_8\">\n<polygon id=\"0x1fa1200\" class=\"l236d0\" points=\"0,0 36.8,0 36.8,27.2 0,27.2\"/>\n<polygon id=\"0x1fc9400\" class=\"l68d16\" points=\"1.45,26.35 3.15,26.35 3.15,28.05 1.45,28.05\"/>\n<polygon id=\"0x20fa400\" class=\"l68d16\" points=\"1.45,-0.85 3.15,-0.85 3.15,0.85 1.45,0.85\"/>\n<polygon id=\"0x2039780\" class=\"l64d16\" points=\"1.45,26.35 3.15,26.35 3.15,28.05 1.45,28.05\"/>\n<polygon id=\"0x1217e40\" class=\"l122d16\" points=\"1.45,-0.85 3.15,-0.85 3.15,0.85 1.45,0.85\"/>\n<polygon id=\"0x118c970\" class=\"l67d20\" points=\"36.8,0.85 35.95,0.85 35.95,8.55 17.35,8.55 17.35,13.75 0.85,13.75 0.85,0.85 0,0.85 0,-0.85 36.8,-0.85\"/>\n<polygon id=\"0x1283150\" class=\"l67d20\" points=\"36.8,28.05 0,28.05 0,26.35 0.85,26.35 0.85,15.45 19.05,15.45 19.05,10.25 35.95,10.25 35.95,26.35 36.8,26.35\"/>\n<polygon id=\"0x135bbe0\" class=\"l81d4\" points=\"0,0 36.8,0 36.8,27.2 0,27.2\"/>\n<polygon id=\"0x1364b40\" class=\"l65d20\" points=\"1.35,16.15 35.45,16.15 35.45,24.85 1.35,24.85\"/>\n<polygon id=\"0x1423fb0\" class=\"l65d20\" points=\"1.35,2.35 35.45,2.35 35.45,7.85 1.35,7.85\"/>\n<polygon id=\"0x14ed300\" class=\"l78d44\" points=\"0,12.5 36.8,12.5 36.8,27.2 0,27.2\"/>\n<polygon id=\"0x14ed370\" class=\"l93d44\" points=\"0,-1.9 36.8,-1.9 36.8,10.15 0,10.15\"/>\n<polygon id=\"0x1504020\" class=\"l64d20\" points=\"-1.9,13.05 38.7,13.05 38.7,29.1 -1.9,29.1\"/>\n<polygon id=\"0x1357920\" class=\"l94d20\" points=\"0,14.85 36.8,14.85 36.8,29.1 0,29.1\"/>\n<polygon id=\"0x15d2880\" class=\"l67d44\" points=\"1.45,26.35 3.15,26.35 3.15,28.05 1.45,28.05\"/>\n<polygon id=\"0x15d28f0\" class=\"l67d44\" points=\"1.45,-0.85 3.15,-0.85 3.15,0.85 1.45,0.85\"/>\n<polygon id=\"0x16243e0\" class=\"l67d44\" points=\"6.05,26.35 7.75,26.35 7.75,28.05 6.05,28.05\"/>\n<polygon id=\"0x1364bb0\" class=\"l67d44\" points=\"6.05,-0.85 7.75,-0.85 7.75,0.85 6.05,0.85\"/>\n<polygon id=\"0x16a56e0\" class=\"l67d44\" points=\"10.65,26.35 12.35,26.35 12.35,28.05 10.65,28.05\"/>\n<polygon id=\"0x1782860\" class=\"l67d44\" points=\"10.65,-0.85 12.35,-0.85 12.35,0.85 10.65,0.85\"/>\n<polygon id=\"0x1851170\" class=\"l67d44\" points=\"15.25,26.35 16.95,26.35 16.95,28.05 15.25,28.05\"/>\n<polygon id=\"0x18511e0\" class=\"l67d44\" points=\"15.25,-0.85 16.95,-0.85 16.95,0.85 15.25,0.85\"/>\n<polygon id=\"0x188ce60\" class=\"l67d44\" points=\"19.85,26.35 21.55,26.35 21.55,28.05 19.85,28.05\"/>\n<polygon id=\"0x1907e10\" class=\"l67d44\" points=\"19.85,-0.85 21.55,-0.85 21.55,0.85 19.85,0.85\"/>\n<polygon id=\"0x110d890\" class=\"l67d44\" points=\"24.45,26.35 26.15,26.35 26.15,28.05 24.45,28.05\"/>\n<polygon id=\"0x110d900\" class=\"l67d44\" points=\"24.45,-0.85 26.15,-0.85 26.15,0.85 24.45,0.85\"/>\n<polygon id=\"0x194b300\" class=\"l67d44\" points=\"29.05,26.35 30.75,26.35 30.75,28.05 29.05,28.05\"/>\n<polygon id=\"0x19f7850\" class=\"l67d44\" points=\"29.05,-0.85 30.75,-0.85 30.75,0.85 29.05,0.85\"/>\n<polygon id=\"0x121b280\" class=\"l67d44\" points=\"33.65,26.35 35.35,26.35 35.35,28.05 33.65,28.05\"/>\n<polygon id=\"0x121b2f0\" class=\"l67d44\" points=\"33.65,-0.85 35.35,-0.85 35.35,0.85 33.65,0.85\"/>\n<polygon id=\"0x12be940\" class=\"l66d20\" points=\"32.85,26.15 3.95,26.15 3.95,11.25 17.15,11.25 17.15,14.85 32.85,14.85\"/>\n<polygon id=\"0x1ad75e0\" class=\"l66d20\" points=\"32.85,12.75 19.25,12.75 19.25,9.15 3.95,9.15 3.95,1.05 32.85,1.05\"/>\n<polygon id=\"0x1b220a0\" class=\"l66d44\" points=\"1.75,22.55 3.45,22.55 3.45,24.25 1.75,24.25\"/>\n<polygon id=\"0x1b4f8c0\" class=\"l66d44\" points=\"1.75,17.45 3.45,17.45 3.45,19.15 1.75,19.15\"/>\n<polygon id=\"0x1c28ef0\" class=\"l66d44\" points=\"1.75,3.9 3.45,3.9 3.45,5.6 1.75,5.6\"/>\n<polygon id=\"0x1c28f60\" class=\"l66d44\" points=\"4.75,12.05 6.45,12.05 6.45,13.75 4.75,13.75\"/>\n<polygon id=\"0x1c420c0\" class=\"l66d44\" points=\"9.7,12.05 11.4,12.05 11.4,13.75 9.7,13.75\"/>\n<polygon id=\"0x1c43230\" class=\"l66d44\" points=\"14.65,12.05 16.35,12.05 16.35,13.75 14.65,13.75\"/>\n<polygon id=\"0x1c7b0d0\" class=\"l66d44\" points=\"33.35,3.9 35.05,3.9 35.05,5.6 33.35,5.6\"/>\n<polygon id=\"0x1c7b140\" class=\"l66d44\" points=\"20.05,10.25 21.75,10.25 21.75,11.95 20.05,11.95\"/>\n<polygon id=\"0x1c86090\" class=\"l66d44\" points=\"25.2,10.25 26.9,10.25 26.9,11.95 25.2,11.95\"/>\n<polygon id=\"0x1c946b0\" class=\"l66d44\" points=\"30.35,10.25 32.05,10.25 32.05,11.95 30.35,11.95\"/>\n<polygon id=\"0x1db6710\" class=\"l66d44\" points=\"33.35,22.55 35.05,22.55 35.05,24.25 33.35,24.25\"/>\n<polygon id=\"0x1db6780\" class=\"l66d44\" points=\"33.35,17.45 35.05,17.45 35.05,19.15 33.35,19.15\"/>\n<polygon id=\"0x1e4bd60\" class=\"l95d20\" points=\"36.8,13.45 17.35,13.45 17.35,14.75 0,14.75 0,9.75 19.05,9.75 19.05,9.25 36.8,9.25\"/>\n<polygon id=\"0x1abd480\" class=\"l68d20\" points=\"0,29.6 0,24.8 36.8,24.8 36.8,29.6\"/>\n<polygon id=\"0x1abd480\" class=\"l68d20\" points=\"0,2.4 0,-2.4 36.8,-2.4 36.8,2.4\"/>\n<text id=\"0x1172c40\" class=\"l68t5\" text-anchor=\"middle\" dominant-baseline=\"central\" transform=\"translate(2.3 27.2) scale(0.1) scale(1 -1)\">VPWR</text>\n<text id=\"0x1172cd0\" class=\"l68t5\" text-anchor=\"middle\" dominant-baseline=\"central\" transform=\"translate(2.3 0) scale(0.1) scale(1 -1)\">VGND</text>\n<text id=\"0x1347bb0\" class=\"l64t5\" text-anchor=\"middle\" dominant-baseline=\"central\" transform=\"translate(2.3 27.2) scale(0.1) scale(1 -1)\">VPB</text>\n<text id=\"0x1347c40\" class=\"l64t59\" text-anchor=\"middle\" dominant-baseline=\"central\" transform=\"translate(2.3 0) scale(0.1) scale(1 -1)\">VNB</text>\n<text id=\"0x1e81770\" class=\"l83t44\" text-anchor=\"start\" dominant-baseline=\"text-before-edge\" transform=\"translate(0 0) rotate(90) scale(0.1) scale(1 -1)\">decap_8</text>\n</g>\n<g id=\"sky130_ef_sc_hd__decap_12\">\n<polygon id=\"0x1d381b0\" class=\"l236d0\" points=\"0,0 55.2,0 55.2,27.2 0,27.2\"/>\n<polygon id=\"0x1d62d60\" class=\"l68d16\" points=\"1.45,-0.85 3.15,-0.85 3.15,0.85 1.45,0.85\"/>\n<polygon id=\"0x1dba420\" class=\"l68d16\" points=\"1.45,26.35 3.15,26.35 3.15,28.05 1.45,28.05\"/>\n<polygon id=\"0x1e07c60\" class=\"l64d16\" points=\"1.45,26.35 3.15,26.35 3.15,28.05 1.45,28.05\"/>\n<polygon id=\"0x1d5fbb0\" class=\"l122d16\" points=\"1.45,-0.85 3.15,-0.85 3.15,0.85 1.45,0.85\"/>\n<polygon id=\"0x1eb9d00\" class=\"l65d20\" points=\"1.35,16.15 53.85,16.15 53.85,24.85 1.35,24.85\"/>\n<polygon id=\"0x1e02660\" class=\"l65d20\" points=\"1.35,2.35 53.85,2.35 53.85,7.85 1.35,7.85\"/>\n<polygon id=\"0x1f32b90\" class=\"l78d44\" points=\"0,12.5 55.2,12.5 55.2,27.2 0,27.2\"/>\n<polygon id=\"0x1f93fb0\" class=\"l93d44\" points=\"0,-1.9 55.2,-1.9 55.2,10.15 0,10.15\"/>\n<polygon id=\"0x1fc3be0\" class=\"l64d20\" points=\"-1.9,13.05 57.1,13.05 57.1,29.1 -1.9,29.1\"/>\n<polygon id=\"0x200c890\" class=\"l94d20\" points=\"0,14.85 55.2,14.85 55.2,29.1 0,29.1\"/>\n<polygon id=\"0x2015cf0\" class=\"l81d4\" points=\"0,0 55.2,0 55.2,27.2 0,27.2\"/>\n<polygon id=\"0x2064280\" class=\"l67d44\" points=\"24.45,-0.85 26.15,-0.85 26.15,0.85 24.45,0.85\"/>\n<polygon id=\"0x20d9d70\" class=\"l67d44\" points=\"29.05,26.35 30.75,26.35 30.75,28.05 29.05,28.05\"/>\n<polygon id=\"0x2198090\" class=\"l67d44\" points=\"1.45,26.35 3.15,26.35 3.15,28.05 1.45,28.05\"/>\n<polygon id=\"0x202fa10\" class=\"l67d44\" points=\"1.45,-0.85 3.15,-0.85 3.15,0.85 1.45,0.85\"/>\n<polygon id=\"0x21bb480\" class=\"l67d44\" points=\"6.05,26.35 7.75,26.35 7.75,28.05 6.05,28.05\"/>\n<polygon id=\"0x21035f0\" class=\"l67d44\" points=\"6.05,-0.85 7.75,-0.85 7.75,0.85 6.05,0.85\"/>\n<polygon id=\"0x2175f70\" class=\"l67d44\" points=\"10.65,26.35 12.35,26.35 12.35,28.05 10.65,28.05\"/>\n<polygon id=\"0x21ba0b0\" class=\"l67d44\" points=\"10.65,-0.85 12.35,-0.85 12.35,0.85 10.65,0.85\"/>\n<polygon id=\"0x1d50890\" class=\"l67d44\" points=\"15.25,26.35 16.95,26.35 16.95,28.05 15.25,28.05\"/>\n<polygon id=\"0x1dc2ec0\" class=\"l67d44\" points=\"15.25,-0.85 16.95,-0.85 16.95,0.85 15.25,0.85\"/>\n<polygon id=\"0x2063210\" class=\"l67d44\" points=\"19.85,26.35 21.55,26.35 21.55,28.05 19.85,28.05\"/>\n<polygon id=\"0x20c5eb0\" class=\"l67d44\" points=\"19.85,-0.85 21.55,-0.85 21.55,0.85 19.85,0.85\"/>\n<polygon id=\"0x2005600\" class=\"l67d44\" points=\"24.45,26.35 26.15,26.35 26.15,28.05 24.45,28.05\"/>\n<polygon id=\"0x2082550\" class=\"l67d44\" points=\"29.05,-0.85 30.75,-0.85 30.75,0.85 29.05,0.85\"/>\n<polygon id=\"0x20b6cc0\" class=\"l67d44\" points=\"33.65,26.35 35.35,26.35 35.35,28.05 33.65,28.05\"/>\n<polygon id=\"0x20d4a90\" class=\"l67d44\" points=\"33.65,-0.85 35.35,-0.85 35.35,0.85 33.65,0.85\"/>\n<polygon id=\"0x219be40\" class=\"l67d44\" points=\"38.25,26.35 39.95,26.35 39.95,28.05 38.25,28.05\"/>\n<polygon id=\"0x1d53000\" class=\"l67d44\" points=\"38.25,-0.85 39.95,-0.85 39.95,0.85 38.25,0.85\"/>\n<polygon id=\"0x13078f0\" class=\"l67d44\" points=\"42.85,26.35 44.55,26.35 44.55,28.05 42.85,28.05\"/>\n<polygon id=\"0x1d82370\" class=\"l67d44\" points=\"42.85,-0.85 44.55,-0.85 44.55,0.85 42.85,0.85\"/>\n<polygon id=\"0x1d4dc00\" class=\"l67d44\" points=\"47.45,26.35 49.15,26.35 49.15,28.05 47.45,28.05\"/>\n<polygon id=\"0x1d03ba0\" class=\"l67d44\" points=\"47.45,-0.85 49.15,-0.85 49.15,0.85 47.45,0.85\"/>\n<polygon id=\"0x1de1e70\" class=\"l67d44\" points=\"52.05,26.35 53.75,26.35 53.75,28.05 52.05,28.05\"/>\n<polygon id=\"0x1e40d60\" class=\"l67d44\" points=\"52.05,-0.85 53.75,-0.85 53.75,0.85 52.05,0.85\"/>\n<polygon id=\"0x1e41db0\" class=\"l95d20\" points=\"0,9.25 55.2,9.25 55.2,14.75 0,14.75\"/>\n<polygon id=\"0x1e6ee90\" class=\"l66d20\" points=\"51.25,26.15 3.95,26.15 3.95,11.25 26.45,11.25 26.45,14.85 51.25,14.85\"/>\n<polygon id=\"0x1e622d0\" class=\"l66d20\" points=\"51.25,12.75 28.55,12.75 28.55,9.15 3.95,9.15 3.95,1.05 51.25,1.05\"/>\n<polygon id=\"0x1e716f0\" class=\"l67d20\" points=\"16.7,6.3 20.1,6.3 20.1,14.6 16.7,14.6\"/>\n<polygon id=\"0x1e921b0\" class=\"l67d20\" points=\"0,26.35 55.2,26.35 55.2,28.05 0,28.05\"/>\n<polygon id=\"0x1f502e0\" class=\"l67d20\" points=\"0.85,22 54.3,22 54.3,26.35 0.85,26.35\"/>\n<polygon id=\"0x1fbe270\" class=\"l67d20\" points=\"0,-0.85 55.2,-0.85 55.2,0.85 0,0.85\"/>\n<polygon id=\"0x1fb65a0\" class=\"l67d20\" points=\"34.9,9.5 38.4,9.5 38.4,22 34.9,22\"/>\n<polygon id=\"0x1fe3ff0\" class=\"l67d20\" points=\"0.85,0.85 54.3,0.85 54.3,6.3 0.85,6.3\"/>\n<polygon id=\"0x1ff26b0\" class=\"l66d44\" points=\"1.75,22.55 3.45,22.55 3.45,24.25 1.75,24.25\"/>\n<polygon id=\"0x203ae20\" class=\"l66d44\" points=\"51.75,22.55 53.45,22.55 53.45,24.25 51.75,24.25\"/>\n<polygon id=\"0x205ace0\" class=\"l66d44\" points=\"51.75,3.9 53.45,3.9 53.45,5.6 51.75,5.6\"/>\n<polygon id=\"0x2091c10\" class=\"l66d44\" points=\"35.75,10.25 37.45,10.25 37.45,11.95 35.75,11.95\"/>\n<polygon id=\"0x20c2220\" class=\"l66d44\" points=\"1.75,3.9 3.45,3.9 3.45,5.6 1.75,5.6\"/>\n<polygon id=\"0x20d8260\" class=\"l66d44\" points=\"17.55,12.05 19.25,12.05 19.25,13.75 17.55,13.75\"/>\n<polygon id=\"0x1abd480\" class=\"l68d20\" points=\"0,29.6 0,24.8 55.2,24.8 55.2,29.6\"/>\n<polygon id=\"0x1abd480\" class=\"l68d20\" points=\"0,2.4 0,-2.4 55.2,-2.4 55.2,2.4\"/>\n<text id=\"0x1d3dea0\" class=\"l68t5\" text-anchor=\"middle\" dominant-baseline=\"central\" transform=\"translate(2.3 0) scale(0.1) scale(1 -1)\">VGND</text>\n<text id=\"0x1e0e8b0\" class=\"l68t5\" text-anchor=\"middle\" dominant-baseline=\"central\" transform=\"translate(2.3 27.2) scale(0.1) scale(1 -1)\">VPWR</text>\n<text id=\"0x1f0c1b0\" class=\"l64t5\" text-anchor=\"middle\" dominant-baseline=\"central\" transform=\"translate(2.3 27.2) scale(0.1) scale(1 -1)\">VPB</text>\n<text id=\"0x1fba8f0\" class=\"l64t59\" text-anchor=\"middle\" dominant-baseline=\"central\" transform=\"translate(2.3 0) scale(0.1) scale(1 -1)\">VNB</text>\n<text id=\"0x20a3020\" class=\"l83t44\" text-anchor=\"start\" dominant-baseline=\"text-before-edge\" transform=\"translate(0 0) rotate(90) scale(0.1) scale(1 -1)\">decap_12</text>\n</g>\n<g id=\"sky130_fd_sc_hd__decap_4\">\n<polygon id=\"0x1881c10\" class=\"l236d0\" points=\"0,0 18.4,0 18.4,27.2 0,27.2\"/>\n<polygon id=\"0x188e030\" class=\"l68d16\" points=\"1.45,-0.85 3.15,-0.85 3.15,0.85 1.45,0.85\"/>\n<polygon id=\"0x188e100\" class=\"l68d16\" points=\"1.45,26.35 3.15,26.35 3.15,28.05 1.45,28.05\"/>\n<polygon id=\"0x185e2c0\" class=\"l64d16\" points=\"1.45,26.35 3.15,26.35 3.15,28.05 1.45,28.05\"/>\n<polygon id=\"0x1a0b570\" class=\"l122d16\" points=\"1.45,-0.85 3.15,-0.85 3.15,0.85 1.45,0.85\"/>\n<polygon id=\"0x1a0b640\" class=\"l81d4\" points=\"0,0 18.4,0 18.4,27.2 0,27.2\"/>\n<polygon id=\"0x1d388a0\" class=\"l78d44\" points=\"0,12.5 18.4,12.5 18.4,27.2 0,27.2\"/>\n<polygon id=\"0x1d4c480\" class=\"l93d44\" points=\"0,-1.9 18.4,-1.9 18.4,10.15 0,10.15\"/>\n<polygon id=\"0x1d4c550\" class=\"l64d20\" points=\"-1.9,13.05 20.3,13.05 20.3,29.1 -1.9,29.1\"/>\n<polygon id=\"0x1e4a440\" class=\"l94d20\" points=\"0,14.85 18.4,14.85 18.4,29.1 0,29.1\"/>\n<polygon id=\"0x1e4a4b0\" class=\"l67d44\" points=\"1.45,26.35 3.15,26.35 3.15,28.05 1.45,28.05\"/>\n<polygon id=\"0x1feb780\" class=\"l67d44\" points=\"1.45,-0.85 3.15,-0.85 3.15,0.85 1.45,0.85\"/>\n<polygon id=\"0x1feb850\" class=\"l67d44\" points=\"6.05,26.35 7.75,26.35 7.75,28.05 6.05,28.05\"/>\n<polygon id=\"0x20263d0\" class=\"l67d44\" points=\"6.05,-0.85 7.75,-0.85 7.75,0.85 6.05,0.85\"/>\n<polygon id=\"0x1fd0bc0\" class=\"l67d44\" points=\"10.65,26.35 12.35,26.35 12.35,28.05 10.65,28.05\"/>\n<polygon id=\"0x1fd0c90\" class=\"l67d44\" points=\"10.65,-0.85 12.35,-0.85 12.35,0.85 10.65,0.85\"/>\n<polygon id=\"0x2053280\" class=\"l67d44\" points=\"15.25,26.35 16.95,26.35 16.95,28.05 15.25,28.05\"/>\n<polygon id=\"0x1de28e0\" class=\"l67d44\" points=\"15.25,-0.85 16.95,-0.85 16.95,0.85 15.25,0.85\"/>\n<polygon id=\"0x2090aa0\" class=\"l65d20\" points=\"1.35,16.15 17.05,16.15 17.05,24.85 1.35,24.85\"/>\n<polygon id=\"0x20bb360\" class=\"l65d20\" points=\"1.35,2.35 17.05,2.35 17.05,7.85 1.35,7.85\"/>\n<polygon id=\"0x20bb430\" class=\"l66d20\" points=\"14.45,26.15 3.95,26.15 3.95,14.55 1.05,14.55 1.05,11.25 8.15,11.25 8.15,14.85 14.45,14.85\"/>\n<polygon id=\"0x1117eb0\" class=\"l66d20\" points=\"17.35,12.75 10.25,12.75 10.25,9.15 3.95,9.15 3.95,1.05 14.45,1.05 14.45,9.45 17.35,9.45\"/>\n<polygon id=\"0x125e730\" class=\"l66d44\" points=\"14.95,4.25 16.65,4.25 16.65,5.95 14.95,5.95\"/>\n<polygon id=\"0x125e800\" class=\"l66d44\" points=\"1.75,22.55 3.45,22.55 3.45,24.25 1.75,24.25\"/>\n<polygon id=\"0x12fa6f0\" class=\"l66d44\" points=\"1.75,17.45 3.45,17.45 3.45,19.15 1.75,19.15\"/>\n<polygon id=\"0x12c42f0\" class=\"l66d44\" points=\"1.75,4.25 3.45,4.25 3.45,5.95 1.75,5.95\"/>\n<polygon id=\"0x12c43c0\" class=\"l66d44\" points=\"1.85,12.05 3.55,12.05 3.55,13.75 1.85,13.75\"/>\n<polygon id=\"0x13879c0\" class=\"l66d44\" points=\"14.85,10.25 16.55,10.25 16.55,11.95 14.85,11.95\"/>\n<polygon id=\"0x1485d70\" class=\"l66d44\" points=\"14.95,22.55 16.65,22.55 16.65,24.25 14.95,24.25\"/>\n<polygon id=\"0x1485e40\" class=\"l66d44\" points=\"14.95,17.45 16.65,17.45 16.65,19.15 14.95,19.15\"/>\n<polygon id=\"0x1607e00\" class=\"l67d20\" points=\"18.4,28.05 0,28.05 0,26.35 0.85,26.35 0.85,15.45 10.05,15.45 10.05,10.25 17.55,10.25 17.55,26.35 18.4,26.35\"/>\n<polygon id=\"0x1620900\" class=\"l67d20\" points=\"18.4,0.85 17.55,0.85 17.55,8.55 8.35,8.55 8.35,13.75 0.85,13.75 0.85,0.85 0,0.85 0,-0.85 18.4,-0.85\"/>\n<polygon id=\"0x17cb7f0\" class=\"l95d20\" points=\"18.4,13.45 4.55,13.45 4.55,14.75 0,14.75 0,9.75 13.85,9.75 13.85,9.25 18.4,9.25\"/>\n<polygon id=\"0x1abd480\" class=\"l68d20\" points=\"0,29.6 0,24.8 18.4,24.8 18.4,29.6\"/>\n<polygon id=\"0x1abd480\" class=\"l68d20\" points=\"0,2.4 0,-2.4 18.4,-2.4 18.4,2.4\"/>\n<text id=\"0x19af030\" class=\"l68t5\" text-anchor=\"middle\" dominant-baseline=\"central\" transform=\"translate(2.3 0) scale(0.1) scale(1 -1)\">VGND</text>\n<text id=\"0x1be4230\" class=\"l68t5\" text-anchor=\"middle\" dominant-baseline=\"central\" transform=\"translate(2.3 27.2) scale(0.1) scale(1 -1)\">VPWR</text>\n<text id=\"0x18bc4d0\" class=\"l64t5\" text-anchor=\"middle\" dominant-baseline=\"central\" transform=\"translate(2.3 27.2) scale(0.1) scale(1 -1)\">VPB</text>\n<text id=\"0x1d38810\" class=\"l64t59\" text-anchor=\"middle\" dominant-baseline=\"central\" transform=\"translate(2.3 0) scale(0.1) scale(1 -1)\">VNB</text>\n<text id=\"0x1607e70\" class=\"l83t44\" text-anchor=\"start\" dominant-baseline=\"text-before-edge\" transform=\"translate(0 0) rotate(90) scale(0.1) scale(1 -1)\">decap_4</text>\n</g>\n<g id=\"sky130_fd_sc_hd__decap_6\">\n<polygon id=\"0x1bc95a0\" class=\"l236d0\" points=\"0,0 27.6,0 27.6,27.2 0,27.2\"/>\n<polygon id=\"0x1c69de0\" class=\"l68d16\" points=\"1.45,26.35 3.15,26.35 3.15,28.05 1.45,28.05\"/>\n<polygon id=\"0x1d06080\" class=\"l68d16\" points=\"1.45,-0.85 3.15,-0.85 3.15,0.85 1.45,0.85\"/>\n<polygon id=\"0x1e0c720\" class=\"l64d16\" points=\"1.45,26.35 3.15,26.35 3.15,28.05 1.45,28.05\"/>\n<polygon id=\"0x17f6b70\" class=\"l122d16\" points=\"1.45,-0.85 3.15,-0.85 3.15,0.85 1.45,0.85\"/>\n<polygon id=\"0x1e50440\" class=\"l65d20\" points=\"1.35,16.15 26.25,16.15 26.25,24.85 1.35,24.85\"/>\n<polygon id=\"0x1e71070\" class=\"l65d20\" points=\"1.35,2.35 26.25,2.35 26.25,7.85 1.35,7.85\"/>\n<polygon id=\"0x1f28480\" class=\"l81d4\" points=\"0,0 27.6,0 27.6,27.2 0,27.2\"/>\n<polygon id=\"0x1fa33c0\" class=\"l78d44\" points=\"0,12.5 27.6,12.5 27.6,27.2 0,27.2\"/>\n<polygon id=\"0x1faff30\" class=\"l93d44\" points=\"0,-1.9 27.6,-1.9 27.6,10.15 0,10.15\"/>\n<polygon id=\"0x2042330\" class=\"l64d20\" points=\"-1.9,13.05 29.5,13.05 29.5,29.1 -1.9,29.1\"/>\n<polygon id=\"0x21aec20\" class=\"l94d20\" points=\"0,14.85 27.6,14.85 27.6,29.1 0,29.1\"/>\n<polygon id=\"0x21b19b0\" class=\"l67d44\" points=\"1.45,26.35 3.15,26.35 3.15,28.05 1.45,28.05\"/>\n<polygon id=\"0x16082d0\" class=\"l67d44\" points=\"1.45,-0.85 3.15,-0.85 3.15,0.85 1.45,0.85\"/>\n<polygon id=\"0x15fab40\" class=\"l67d44\" points=\"6.05,26.35 7.75,26.35 7.75,28.05 6.05,28.05\"/>\n<polygon id=\"0x15f4af0\" class=\"l67d44\" points=\"6.05,-0.85 7.75,-0.85 7.75,0.85 6.05,0.85\"/>\n<polygon id=\"0x1229e20\" class=\"l67d44\" points=\"10.65,26.35 12.35,26.35 12.35,28.05 10.65,28.05\"/>\n<polygon id=\"0x20a9a40\" class=\"l67d44\" points=\"10.65,-0.85 12.35,-0.85 12.35,0.85 10.65,0.85\"/>\n<polygon id=\"0x11dde10\" class=\"l67d44\" points=\"15.25,26.35 16.95,26.35 16.95,28.05 15.25,28.05\"/>\n<polygon id=\"0x11b4a80\" class=\"l67d44\" points=\"15.25,-0.85 16.95,-0.85 16.95,0.85 15.25,0.85\"/>\n<polygon id=\"0x1632250\" class=\"l67d44\" points=\"19.85,26.35 21.55,26.35 21.55,28.05 19.85,28.05\"/>\n<polygon id=\"0x1fab000\" class=\"l67d44\" points=\"19.85,-0.85 21.55,-0.85 21.55,0.85 19.85,0.85\"/>\n<polygon id=\"0x18b3d00\" class=\"l67d44\" points=\"24.45,26.35 26.15,26.35 26.15,28.05 24.45,28.05\"/>\n<polygon id=\"0x13fe680\" class=\"l67d44\" points=\"24.45,-0.85 26.15,-0.85 26.15,0.85 24.45,0.85\"/>\n<polygon id=\"0x144cea0\" class=\"l66d20\" points=\"23.65,26.15 3.95,26.15 3.95,11.25 12.75,11.25 12.75,14.85 23.65,14.85\"/>\n<polygon id=\"0x1461c30\" class=\"l66d20\" points=\"23.65,12.75 14.85,12.75 14.85,9.15 3.95,9.15 3.95,1.05 23.65,1.05\"/>\n<polygon id=\"0x1461ca0\" class=\"l67d20\" points=\"27.6,0.85 26.75,0.85 26.75,8.55 12.95,8.55 12.95,13.75 0.85,13.75 0.85,0.85 0,0.85 0,-0.85 27.6,-0.85\"/>\n<polygon id=\"0x14a8730\" class=\"l67d20\" points=\"27.6,28.05 0,28.05 0,26.35 0.85,26.35 0.85,15.45 14.65,15.45 14.65,10.25 26.75,10.25 26.75,26.35 27.6,26.35\"/>\n<polygon id=\"0x14a87a0\" class=\"l95d20\" points=\"27.6,13.45 12.95,13.45 12.95,14.75 0,14.75 0,9.75 14.65,9.75 14.65,9.25 27.6,9.25\"/>\n<polygon id=\"0x14a22e0\" class=\"l66d44\" points=\"1.75,22.55 3.45,22.55 3.45,24.25 1.75,24.25\"/>\n<polygon id=\"0x1502f50\" class=\"l66d44\" points=\"24.15,3.9 25.85,3.9 25.85,5.6 24.15,5.6\"/>\n<polygon id=\"0x152d0d0\" class=\"l66d44\" points=\"24.15,22.55 25.85,22.55 25.85,24.25 24.15,24.25\"/>\n<polygon id=\"0x152e380\" class=\"l66d44\" points=\"24.15,17.45 25.85,17.45 25.85,19.15 24.15,19.15\"/>\n<polygon id=\"0x1e141f0\" class=\"l66d44\" points=\"1.75,17.45 3.45,17.45 3.45,19.15 1.75,19.15\"/>\n<polygon id=\"0x13dc300\" class=\"l66d44\" points=\"1.75,3.9 3.45,3.9 3.45,5.6 1.75,5.6\"/>\n<polygon id=\"0x1571640\" class=\"l66d44\" points=\"4.75,12.05 6.45,12.05 6.45,13.75 4.75,13.75\"/>\n<polygon id=\"0x15e60f0\" class=\"l66d44\" points=\"10.25,12.05 11.95,12.05 11.95,13.75 10.25,13.75\"/>\n<polygon id=\"0x1610d30\" class=\"l66d44\" points=\"15.65,10.25 17.35,10.25 17.35,11.95 15.65,11.95\"/>\n<polygon id=\"0x1614330\" class=\"l66d44\" points=\"21.15,10.25 22.85,10.25 22.85,11.95 21.15,11.95\"/>\n<polygon id=\"0x1abd480\" class=\"l68d20\" points=\"0,29.6 0,24.8 27.6,24.8 27.6,29.6\"/>\n<polygon id=\"0x1abd480\" class=\"l68d20\" points=\"0,2.4 0,-2.4 27.6,-2.4 27.6,2.4\"/>\n<text id=\"0x1ee9b90\" class=\"l68t5\" text-anchor=\"middle\" dominant-baseline=\"central\" transform=\"translate(2.3 27.2) scale(0.1) scale(1 -1)\">VPWR</text>\n<text id=\"0x1f283f0\" class=\"l68t5\" text-anchor=\"middle\" dominant-baseline=\"central\" transform=\"translate(2.3 0) scale(0.1) scale(1 -1)\">VGND</text>\n<text id=\"0x1fb4050\" class=\"l64t5\" text-anchor=\"middle\" dominant-baseline=\"central\" transform=\"translate(2.3 27.2) scale(0.1) scale(1 -1)\">VPB</text>\n<text id=\"0x20422a0\" class=\"l64t59\" text-anchor=\"middle\" dominant-baseline=\"central\" transform=\"translate(2.3 0) scale(0.1) scale(1 -1)\">VNB</text>\n<text id=\"0x164cbf0\" class=\"l83t44\" text-anchor=\"start\" dominant-baseline=\"text-before-edge\" transform=\"translate(0 0) rotate(90) scale(0.1) scale(1 -1)\">decap_6</text>\n</g>\n<g id=\"sky130_fd_sc_hd__decap_3\">\n<polygon id=\"0x20ed570\" class=\"l236d0\" points=\"0,0 13.8,0 13.8,27.2 0,27.2\"/>\n<polygon id=\"0x2194970\" class=\"l68d16\" points=\"1.45,26.35 3.15,26.35 3.15,28.05 1.45,28.05\"/>\n<polygon id=\"0x2196300\" class=\"l68d16\" points=\"1.45,-0.85 3.15,-0.85 3.15,0.85 1.45,0.85\"/>\n<polygon id=\"0x219fbc0\" class=\"l64d16\" points=\"1.45,26.35 3.15,26.35 3.15,28.05 1.45,28.05\"/>\n<polygon id=\"0x1c80400\" class=\"l122d16\" points=\"1.45,-0.85 3.15,-0.85 3.15,0.85 1.45,0.85\"/>\n<polygon id=\"0x1ce9840\" class=\"l65d20\" points=\"1.35,2.35 12.45,2.35 12.45,7.85 1.35,7.85\"/>\n<polygon id=\"0x1d46ca0\" class=\"l65d20\" points=\"1.35,16.15 12.45,16.15 12.45,24.85 1.35,24.85\"/>\n<polygon id=\"0x15cf3d0\" class=\"l78d44\" points=\"0,12.5 13.8,12.5 13.8,27.2 0,27.2\"/>\n<polygon id=\"0x1692d10\" class=\"l64d20\" points=\"-1.9,13.05 15.7,13.05 15.7,29.1 -1.9,29.1\"/>\n<polygon id=\"0x16d6640\" class=\"l94d20\" points=\"0,14.85 13.8,14.85 13.8,29.1 0,29.1\"/>\n<polygon id=\"0x187be90\" class=\"l67d44\" points=\"10.65,-0.85 12.35,-0.85 12.35,0.85 10.65,0.85\"/>\n<polygon id=\"0x1acf000\" class=\"l67d44\" points=\"10.65,26.35 12.35,26.35 12.35,28.05 10.65,28.05\"/>\n<polygon id=\"0x1c12120\" class=\"l67d44\" points=\"6.05,-0.85 7.75,-0.85 7.75,0.85 6.05,0.85\"/>\n<polygon id=\"0x1c20b20\" class=\"l67d44\" points=\"6.05,26.35 7.75,26.35 7.75,28.05 6.05,28.05\"/>\n<polygon id=\"0x1d7eba0\" class=\"l67d44\" points=\"1.45,-0.85 3.15,-0.85 3.15,0.85 1.45,0.85\"/>\n<polygon id=\"0x1e2b6f0\" class=\"l67d44\" points=\"1.45,26.35 3.15,26.35 3.15,28.05 1.45,28.05\"/>\n<polygon id=\"0x1e73240\" class=\"l81d4\" points=\"0,0 13.8,0 13.8,27.2 0,27.2\"/>\n<polygon id=\"0x1f72e20\" class=\"l93d44\" points=\"0,-1.9 13.8,-1.9 13.8,10.15 0,10.15\"/>\n<polygon id=\"0x2004020\" class=\"l95d20\" points=\"13.8,13.45 6.05,13.45 6.05,14.75 0,14.75 0,9.75 7.75,9.75 7.75,9.05 13.8,9.05\"/>\n<polygon id=\"0x20a61b0\" class=\"l67d20\" points=\"13.8,28.05 0,28.05 0,26.35 0.85,26.35 0.85,15.45 7.75,15.45 7.75,10.05 12.95,10.05 12.95,26.35 13.8,26.35\"/>\n<polygon id=\"0x2101780\" class=\"l67d20\" points=\"13.8,0.85 12.95,0.85 12.95,8.35 6.05,8.35 6.05,13.75 0.85,13.75 0.85,0.85 0,0.85 0,-0.85 13.8,-0.85\"/>\n<polygon id=\"0x21af760\" class=\"l66d20\" points=\"11.25,12.55 7.95,12.55 7.95,9.15 3.95,9.15 3.95,1.05 9.85,1.05 9.85,9.25 11.25,9.25\"/>\n<polygon id=\"0x1aa6e00\" class=\"l66d20\" points=\"9.85,26.15 3.95,26.15 3.95,14.55 2.55,14.55 2.55,11.25 5.85,11.25 5.85,14.65 9.85,14.65\"/>\n<polygon id=\"0x199da40\" class=\"l66d44\" points=\"10.35,4 12.05,4 12.05,5.7 10.35,5.7\"/>\n<polygon id=\"0x10dbdd0\" class=\"l66d44\" points=\"10.35,17.8 12.05,17.8 12.05,19.5 10.35,19.5\"/>\n<polygon id=\"0x21bd050\" class=\"l66d44\" points=\"10.35,22.55 12.05,22.55 12.05,24.25 10.35,24.25\"/>\n<polygon id=\"0x21bceb0\" class=\"l66d44\" points=\"8.75,10.05 10.45,10.05 10.45,11.75 8.75,11.75\"/>\n<polygon id=\"0x16cdfb0\" class=\"l66d44\" points=\"3.35,12.05 5.05,12.05 5.05,13.75 3.35,13.75\"/>\n<polygon id=\"0x15f5440\" class=\"l66d44\" points=\"1.75,4 3.45,4 3.45,5.7 1.75,5.7\"/>\n<polygon id=\"0x168bf50\" class=\"l66d44\" points=\"1.75,17.8 3.45,17.8 3.45,19.5 1.75,19.5\"/>\n<polygon id=\"0x16c4eb0\" class=\"l66d44\" points=\"1.75,22.55 3.45,22.55 3.45,24.25 1.75,24.25\"/>\n<polygon id=\"0x1abd480\" class=\"l68d20\" points=\"0,29.6 0,24.8 13.8,24.8 13.8,29.6\"/>\n<polygon id=\"0x1abd480\" class=\"l68d20\" points=\"0,2.4 0,-2.4 13.8,-2.4 13.8,2.4\"/>\n<text id=\"0x1da84e0\" class=\"l68t5\" text-anchor=\"middle\" dominant-baseline=\"central\" transform=\"translate(2.3 27.2) scale(0.1) scale(1 -1)\">VPWR</text>\n<text id=\"0x1db42e0\" class=\"l68t5\" text-anchor=\"middle\" dominant-baseline=\"central\" transform=\"translate(2.3 0) scale(0.1) scale(1 -1)\">VGND</text>\n<text id=\"0x1591330\" class=\"l64t5\" text-anchor=\"middle\" dominant-baseline=\"central\" transform=\"translate(2.3 27.2) scale(0.1) scale(1 -1)\">VPB</text>\n<text id=\"0x15b6430\" class=\"l64t59\" text-anchor=\"middle\" dominant-baseline=\"central\" transform=\"translate(2.3 0) scale(0.1) scale(1 -1)\">VNB</text>\n<text id=\"0x16da020\" class=\"l83t44\" text-anchor=\"start\" dominant-baseline=\"text-before-edge\" transform=\"translate(0 0) rotate(90) scale(0.1) scale(1 -1)\">decap_3</text>\n</g>\n<g id=\"sky130_fd_sc_hd__clkbuf_4\">\n<polygon id=\"0x170e500\" class=\"l236d0\" points=\"0,0 27.6,0 27.6,27.2 0,27.2\"/>\n<polygon id=\"0x179b300\" class=\"l68d16\" points=\"1.45,-0.85 3.15,-0.85 3.15,0.85 1.45,0.85\"/>\n<polygon id=\"0x17b6ca0\" class=\"l68d16\" points=\"1.45,26.35 3.15,26.35 3.15,28.05 1.45,28.05\"/>\n<polygon id=\"0x188c010\" class=\"l64d16\" points=\"1.45,26.35 3.15,26.35 3.15,28.05 1.45,28.05\"/>\n<polygon id=\"0x1881320\" class=\"l122d16\" points=\"1.45,-0.85 3.15,-0.85 3.15,0.85 1.45,0.85\"/>\n<polygon id=\"0x1c33d00\" class=\"l67d44\" points=\"24.45,-0.85 26.15,-0.85 26.15,0.85 24.45,0.85\"/>\n<polygon id=\"0x1d0cb70\" class=\"l67d44\" points=\"24.45,26.35 26.15,26.35 26.15,28.05 24.45,28.05\"/>\n<polygon id=\"0x1d88660\" class=\"l67d44\" points=\"19.85,-0.85 21.55,-0.85 21.55,0.85 19.85,0.85\"/>\n<polygon id=\"0x1deb170\" class=\"l67d44\" points=\"19.85,26.35 21.55,26.35 21.55,28.05 19.85,28.05\"/>\n<polygon id=\"0x1e3efb0\" class=\"l67d44\" points=\"15.25,-0.85 16.95,-0.85 16.95,0.85 15.25,0.85\"/>\n<polygon id=\"0x1eb63b0\" class=\"l67d44\" points=\"15.25,26.35 16.95,26.35 16.95,28.05 15.25,28.05\"/>\n<polygon id=\"0x1ecc7d0\" class=\"l67d44\" points=\"10.65,-0.85 12.35,-0.85 12.35,0.85 10.65,0.85\"/>\n<polygon id=\"0x1f18cd0\" class=\"l67d44\" points=\"10.65,26.35 12.35,26.35 12.35,28.05 10.65,28.05\"/>\n<polygon id=\"0x1f89350\" class=\"l67d44\" points=\"6.05,-0.85 7.75,-0.85 7.75,0.85 6.05,0.85\"/>\n<polygon id=\"0x1fbc4d0\" class=\"l67d44\" points=\"6.05,26.35 7.75,26.35 7.75,28.05 6.05,28.05\"/>\n<polygon id=\"0x1fdb010\" class=\"l67d44\" points=\"1.45,-0.85 3.15,-0.85 3.15,0.85 1.45,0.85\"/>\n<polygon id=\"0x1ff1280\" class=\"l67d44\" points=\"1.45,26.35 3.15,26.35 3.15,28.05 1.45,28.05\"/>\n<polygon id=\"0x1ff0f60\" class=\"l94d20\" points=\"0,13.55 27.6,13.55 27.6,29.1 0,29.1\"/>\n<polygon id=\"0x10f2ee0\" class=\"l64d20\" points=\"-1.9,13.05 29.5,13.05 29.5,29.1 -1.9,29.1\"/>\n<polygon id=\"0x1fff120\" class=\"l93d44\" points=\"0,-1.9 27.6,-1.9 27.6,10.15 0,10.15\"/>\n<polygon id=\"0x2055960\" class=\"l78d44\" points=\"0,12.5 27.6,12.5 27.6,27.2 0,27.2\"/>\n<polygon id=\"0x2058610\" class=\"l95d20\" points=\"0,9.75 27.6,9.75 27.6,13.45 0,13.45\"/>\n<polygon id=\"0x20b4150\" class=\"l81d4\" points=\"0,0 27.6,0 27.6,27.2 0,27.2\"/>\n<polygon id=\"0x2133a50\" class=\"l67d20\" points=\"4.25,7.55 7.75,7.55 7.75,13.25 4.25,13.25\"/>\n<polygon id=\"0x1df1000\" class=\"l67d20\" points=\"27.6,0.85 26.15,0.85 26.15,5.65 23.35,5.65 23.35,0.85 17.3,0.85 17.3,5.65 14.75,5.65 14.75,0.85 8.3,0.85 8.3,5.65 5.55,5.65 5.55,0.85 0,0.85 0,-0.85 27.6,-0.85\"/>\n<polygon id=\"0x1d558f0\" class=\"l67d20\" points=\"26.6,15.85 21.65,15.85 21.65,24.65 19.05,24.65 19.05,20.05 13.05,20.05 13.05,24.65 10.45,24.65 10.45,18.35 19.05,18.35 19.05,14.15 22.55,14.15 22.55,9.05 10.1,9.05 10.1,3.45 13.05,3.45 13.05,7.35 19.05,7.35 19.05,3.45 21.65,3.45 21.65,7.35 26.6,7.35\"/>\n<polygon id=\"0x1d55960\" class=\"l67d20\" points=\"20.85,12.45 11.15,12.45 11.15,16.65 3.95,16.65 3.95,24.65 0.85,24.65 0.85,2.55 3.85,2.55 3.85,5.85 2.55,5.85 2.55,14.95 9.45,14.95 9.45,10.75 20.85,10.75\"/>\n<polygon id=\"0x1d89950\" class=\"l67d20\" points=\"27.6,28.05 0,28.05 0,26.35 5.65,26.35 5.65,18.35 8.75,18.35 8.75,26.35 14.75,26.35 14.75,21.75 17.3,21.75 17.3,26.35 23.35,26.35 23.35,17.65 26.2,17.65 26.2,26.35 27.6,26.35\"/>\n<polygon id=\"0x1d899c0\" class=\"l66d44\" points=\"15.2,3.15 16.9,3.15 16.9,4.85 15.2,4.85\"/>\n<polygon id=\"0x1dc73b0\" class=\"l66d44\" points=\"18.35,10.75 20.05,10.75 20.05,12.45 18.35,12.45\"/>\n<polygon id=\"0x1df91c0\" class=\"l66d44\" points=\"19.45,18.75 21.15,18.75 21.15,20.45 19.45,20.45\"/>\n<polygon id=\"0x1dfe550\" class=\"l66d44\" points=\"6.05,19.15 7.75,19.15 7.75,20.85 6.05,20.85\"/>\n<polygon id=\"0x1e885e0\" class=\"l66d44\" points=\"19.45,15.35 21.15,15.35 21.15,17.05 19.45,17.05\"/>\n<polygon id=\"0x1ede520\" class=\"l66d44\" points=\"1.75,22.15 3.45,22.15 3.45,23.85 1.75,23.85\"/>\n<polygon id=\"0x1f00b60\" class=\"l66d44\" points=\"4.25,10.75 5.95,10.75 5.95,12.45 4.25,12.45\"/>\n<polygon id=\"0x1f89b40\" class=\"l66d44\" points=\"1.75,16.05 3.45,16.05 3.45,17.75 1.75,17.75\"/>\n<polygon id=\"0x1f99a00\" class=\"l66d44\" points=\"1.75,3.35 3.45,3.35 3.45,5.05 1.75,5.05\"/>\n<polygon id=\"0x1c52dd0\" class=\"l66d44\" points=\"6.05,22.55 7.75,22.55 7.75,24.25 6.05,24.25\"/>\n<polygon id=\"0x1caa260\" class=\"l66d44\" points=\"23.75,18.45 25.45,18.45 25.45,20.15 23.75,20.15\"/>\n<polygon id=\"0x18b84a0\" class=\"l66d44\" points=\"6.05,3.15 7.75,3.15 7.75,4.85 6.05,4.85\"/>\n<polygon id=\"0x1d16610\" class=\"l66d44\" points=\"10.85,20.8 12.55,20.8 12.55,22.5 10.85,22.5\"/>\n<polygon id=\"0x1d45a40\" class=\"l66d44\" points=\"10.9,4.25 12.6,4.25 12.6,5.95 10.9,5.95\"/>\n<polygon id=\"0x1d68160\" class=\"l66d44\" points=\"11.55,10.75 13.25,10.75 13.25,12.45 11.55,12.45\"/>\n<polygon id=\"0x1da6eb0\" class=\"l66d44\" points=\"14.95,10.75 16.65,10.75 16.65,12.45 14.95,12.45\"/>\n<polygon id=\"0x1ddf8f0\" class=\"l66d44\" points=\"15.15,22.55 16.85,22.55 16.85,24.25 15.15,24.25\"/>\n<polygon id=\"0x1da09d0\" class=\"l66d44\" points=\"19.45,22.15 21.15,22.15 21.15,23.85 19.45,23.85\"/>\n<polygon id=\"0x1eac690\" class=\"l66d44\" points=\"19.5,4.25 21.2,4.25 21.2,5.95 19.5,5.95\"/>\n<polygon id=\"0x1e4e930\" class=\"l66d44\" points=\"23.75,21.85 25.45,21.85 25.45,23.55 23.75,23.55\"/>\n<polygon id=\"0x1efba20\" class=\"l66d44\" points=\"23.8,3.15 25.5,3.15 25.5,4.85 23.8,4.85\"/>\n<polygon id=\"0x1ef9390\" class=\"l66d20\" points=\"23.25,11.85 23.2,11.85 23.2,26.15 21.7,26.15 21.7,12.95 18.9,12.95 18.9,26.15 17.4,26.15 17.4,12.95 14.6,12.95 14.6,26.15 13.1,26.15 13.1,12.95 10.3,12.95 10.3,26.15 8.8,26.15 8.8,10.5 8.85,10.5 8.85,1.05 10.35,1.05 10.35,10.2 13.15,10.2 13.15,1.05 14.65,1.05 14.65,10.2 17.45,10.2 17.45,1.05 18.95,1.05 18.95,10.2 21.75,10.2 21.75,1.05 23.25,1.05\"/>\n<polygon id=\"0x1ef9400\" class=\"l66d20\" points=\"6.45,13.25 5.5,13.25 5.5,26.15 4,26.15 4,13.25 3.45,13.25 3.45,9.95 4,9.95 4,1.05 5.5,1.05 5.5,9.95 6.45,9.95\"/>\n<polygon id=\"0x1f3ea90\" class=\"l65d20\" points=\"1.35,2.35 26.15,2.35 26.15,6.55 1.35,6.55\"/>\n<polygon id=\"0x2006ff0\" class=\"l65d20\" points=\"1.35,14.85 26.2,14.85 26.2,24.85 1.35,24.85\"/>\n<polygon id=\"0x2062100\" class=\"l67d16\" points=\"6.05,11.05 7.75,11.05 7.75,12.75 6.05,12.75\"/>\n<polygon id=\"0x2108d90\" class=\"l67d16\" points=\"6.05,7.65 7.75,7.65 7.75,9.35 6.05,9.35\"/>\n<polygon id=\"0x2199b60\" class=\"l67d16\" points=\"19.85,14.45 21.55,14.45 21.55,16.15 19.85,16.15\"/>\n<polygon id=\"0x20259d0\" class=\"l67d16\" points=\"24.45,11.05 26.15,11.05 26.15,12.75 24.45,12.75\"/>\n<polygon id=\"0x21bc0f0\" class=\"l67d16\" points=\"24.45,7.65 26.15,7.65 26.15,9.35 24.45,9.35\"/>\n<polygon id=\"0x1abd480\" class=\"l68d20\" points=\"0,2.4 0,-2.4 27.6,-2.4 27.6,2.4\"/>\n<polygon id=\"0x1abd480\" class=\"l68d20\" points=\"0,29.6 0,24.8 27.6,24.8 27.6,29.6\"/>\n<text id=\"0x1886ac0\" class=\"l67t5\" text-anchor=\"middle\" dominant-baseline=\"central\" transform=\"translate(20.7 15.3) scale(0.1) scale(1 -1)\">X</text>\n<text id=\"0x1878630\" class=\"l67t5\" text-anchor=\"middle\" dominant-baseline=\"central\" transform=\"translate(6.9 8.5) scale(0.1) scale(1 -1)\">A</text>\n<text id=\"0x19295c0\" class=\"l67t5\" text-anchor=\"middle\" dominant-baseline=\"central\" transform=\"translate(25.3 8.5) scale(0.1) scale(1 -1)\">X</text>\n<text id=\"0x1a4dae0\" class=\"l67t5\" text-anchor=\"middle\" dominant-baseline=\"central\" transform=\"translate(6.9 11.9) scale(0.1) scale(1 -1)\">A</text>\n<text id=\"0x1a12090\" class=\"l67t5\" text-anchor=\"middle\" dominant-baseline=\"central\" transform=\"translate(25.3 11.9) scale(0.1) scale(1 -1)\">X</text>\n<text id=\"0x1a68c00\" class=\"l68t5\" text-anchor=\"middle\" dominant-baseline=\"central\" transform=\"translate(2.3 0) scale(0.1) scale(1 -1)\">VGND</text>\n<text id=\"0x1a65f40\" class=\"l68t5\" text-anchor=\"middle\" dominant-baseline=\"central\" transform=\"translate(2.3 27.2) scale(0.1) scale(1 -1)\">VPWR</text>\n<text id=\"0x1bc9510\" class=\"l64t5\" text-anchor=\"middle\" dominant-baseline=\"central\" transform=\"translate(2.3 27.2) scale(0.1) scale(1 -1)\">VPB</text>\n<text id=\"0x1c69d50\" class=\"l64t59\" text-anchor=\"middle\" dominant-baseline=\"central\" transform=\"translate(2.3 0) scale(0.1) scale(1 -1)\">VNB</text>\n<text id=\"0x1d05ff0\" class=\"l83t44\" text-anchor=\"start\" dominant-baseline=\"text-before-edge\" transform=\"translate(0 0) rotate(90) scale(0.1) scale(1 -1)\">clkbuf_4</text>\n</g>\n<g id=\"sky130_fd_sc_hd__clkbuf_1\">\n<polygon id=\"0x17f5900\" class=\"l236d0\" points=\"0,0 13.8,0 13.8,27.2 0,27.2\"/>\n<polygon id=\"0x17f59d0\" class=\"l68d16\" points=\"10.65,-0.85 12.35,-0.85 12.35,0.85 10.65,0.85\"/>\n<polygon id=\"0x1823cc0\" class=\"l68d16\" points=\"10.65,26.35 12.35,26.35 12.35,28.05 10.65,28.05\"/>\n<polygon id=\"0x17f2490\" class=\"l64d16\" points=\"10.65,26.35 12.35,26.35 12.35,28.05 10.65,28.05\"/>\n<polygon id=\"0x17f2560\" class=\"l122d16\" points=\"10.65,-0.85 12.35,-0.85 12.35,0.85 10.65,0.85\"/>\n<polygon id=\"0x17d6650\" class=\"l67d20\" points=\"0.85,24.65 3.55,24.65 3.55,15.6 2.55,15.6 2.55,7.6 3.45,7.6 3.45,2.55 0.85,2.55\"/>\n<polygon id=\"0x199e2f0\" class=\"l67d20\" points=\"0,0.85 5.25,0.85 5.25,4.65 8.55,4.65 8.55,0.85 13.8,0.85 13.8,-0.85 0,-0.85\"/>\n<polygon id=\"0x1a06d30\" class=\"l67d20\" points=\"4.25,13.9 5.4,13.9 5.4,17.05 10.35,17.05 10.35,24.65 12.05,24.65 12.05,15.35 7.1,15.35 7.1,8.05 12.05,8.05 12.05,2.55 10.35,2.55 10.35,6.35 5.4,6.35 5.4,10.6 4.25,10.6\"/>\n<polygon id=\"0x17d66c0\" class=\"l67d20\" points=\"9.45,9.85 12.75,9.85 12.75,13.55 9.45,13.55\"/>\n<polygon id=\"0x1a11bb0\" class=\"l67d20\" points=\"0,28.05 13.8,28.05 13.8,26.35 8.55,26.35 8.55,18.75 5.25,18.75 5.25,26.35 0,26.35\"/>\n<polygon id=\"0x1acb340\" class=\"l95d20\" points=\"0,9.75 13.8,9.75 13.8,14.1 0,14.1\"/>\n<polygon id=\"0x1b14640\" class=\"l78d44\" points=\"0,12.5 13.8,12.5 13.8,27.2 0,27.2\"/>\n<polygon id=\"0x1562580\" class=\"l93d44\" points=\"0,-1.9 13.8,-1.9 13.8,10.15 0,10.15\"/>\n<polygon id=\"0x1562650\" class=\"l64d20\" points=\"-1.9,13.05 15.7,13.05 15.7,29.1 -1.9,29.1\"/>\n<polygon id=\"0x1bb5150\" class=\"l94d20\" points=\"0,14.2 13.8,14.2 13.8,29.1 0,29.1\"/>\n<polygon id=\"0x1bced10\" class=\"l81d4\" points=\"0,0 13.8,0 13.8,27.2 0,27.2\"/>\n<polygon id=\"0x1bcede0\" class=\"l67d44\" points=\"1.45,-0.85 3.15,-0.85 3.15,0.85 1.45,0.85\"/>\n<polygon id=\"0x1d0eb40\" class=\"l67d44\" points=\"1.45,26.35 3.15,26.35 3.15,28.05 1.45,28.05\"/>\n<polygon id=\"0x1d0ec10\" class=\"l67d44\" points=\"6.05,-0.85 7.75,-0.85 7.75,0.85 6.05,0.85\"/>\n<polygon id=\"0x1d379d0\" class=\"l67d44\" points=\"6.05,26.35 7.75,26.35 7.75,28.05 6.05,28.05\"/>\n<polygon id=\"0x1e7dd10\" class=\"l67d44\" points=\"10.65,-0.85 12.35,-0.85 12.35,0.85 10.65,0.85\"/>\n<polygon id=\"0x1e7dde0\" class=\"l67d44\" points=\"10.65,26.35 12.35,26.35 12.35,28.05 10.65,28.05\"/>\n<polygon id=\"0x1fca5d0\" class=\"l67d16\" points=\"1.45,4.25 3.15,4.25 3.15,5.95 1.45,5.95\"/>\n<polygon id=\"0x1d0e070\" class=\"l67d16\" points=\"1.45,17.85 3.15,17.85 3.15,19.55 1.45,19.55\"/>\n<polygon id=\"0x1d0e140\" class=\"l67d16\" points=\"1.45,21.25 3.15,21.25 3.15,22.95 1.45,22.95\"/>\n<polygon id=\"0x20e44e0\" class=\"l67d16\" points=\"10.65,11.05 12.35,11.05 12.35,12.75 10.65,12.75\"/>\n<polygon id=\"0x15f4840\" class=\"l65d20\" points=\"1.35,2.35 12.45,2.35 12.45,7.55 1.35,7.55\"/>\n<polygon id=\"0x15f4910\" class=\"l65d20\" points=\"1.35,16.95 12.45,16.95 12.45,24.85 1.35,24.85\"/>\n<polygon id=\"0x167a600\" class=\"l66d44\" points=\"1.75,4.45 3.45,4.45 3.45,6.15 1.75,6.15\"/>\n<polygon id=\"0x168de80\" class=\"l66d44\" points=\"1.75,18.1 3.45,18.1 3.45,19.8 1.75,19.8\"/>\n<polygon id=\"0x168df50\" class=\"l66d44\" points=\"1.75,22.15 3.45,22.15 3.45,23.85 1.75,23.85\"/>\n<polygon id=\"0x15fbd80\" class=\"l66d44\" points=\"4.25,11.4 5.95,11.4 5.95,13.1 4.25,13.1\"/>\n<polygon id=\"0x17a0dc0\" class=\"l66d44\" points=\"6.05,2.95 7.75,2.95 7.75,4.65 6.05,4.65\"/>\n<polygon id=\"0x17a0e90\" class=\"l66d44\" points=\"6.05,18.75 7.75,18.75 7.75,20.45 6.05,20.45\"/>\n<polygon id=\"0x1d0ef10\" class=\"l66d44\" points=\"6.05,22.15 7.75,22.15 7.75,23.85 6.05,23.85\"/>\n<polygon id=\"0x1812a60\" class=\"l66d44\" points=\"10.25,10.75 11.95,10.75 11.95,12.45 10.25,12.45\"/>\n<polygon id=\"0x1812b30\" class=\"l66d44\" points=\"10.35,3.6 12.05,3.6 12.05,5.3 10.35,5.3\"/>\n<polygon id=\"0x110f940\" class=\"l66d44\" points=\"10.35,18.75 12.05,18.75 12.05,20.45 10.35,20.45\"/>\n<polygon id=\"0x1a17520\" class=\"l66d44\" points=\"10.35,22.15 12.05,22.15 12.05,23.85 10.35,23.85\"/>\n<polygon id=\"0x1a175f0\" class=\"l66d20\" points=\"3.75,13.9 3.95,13.9 3.95,26.15 5.45,26.15 5.45,13.9 6.45,13.9 6.45,10.6 5.45,10.6 5.45,1.05 3.95,1.05 3.95,10.6 3.75,10.6\"/>\n<polygon id=\"0x1a4cb40\" class=\"l66d20\" points=\"12.45,13.25 10.15,13.25 10.15,16.2 9.85,16.2 9.85,26.15 8.35,26.15 8.35,15 8.65,15 8.65,9.5 8.35,9.5 8.35,1.05 9.85,1.05 9.85,8.3 10.15,8.3 10.15,9.95 12.45,9.95\"/>\n<polygon id=\"0x1abd480\" class=\"l68d20\" points=\"13.8,-2.4 13.8,2.4 0,2.4 0,-2.4\"/>\n<polygon id=\"0x1abd480\" class=\"l68d20\" points=\"13.8,24.8 13.8,29.6 0,29.6 0,24.8\"/>\n<text id=\"0x1a76790\" class=\"l68t5\" text-anchor=\"middle\" dominant-baseline=\"central\" transform=\"translate(11.5 0) rotate(180) scale(1 -1) scale(0.1) scale(1 -1)\">VGND</text>\n<text id=\"0x1c2e6b0\" class=\"l68t5\" text-anchor=\"middle\" dominant-baseline=\"central\" transform=\"translate(11.5 27.2) rotate(180) scale(1 -1) scale(0.1) scale(1 -1)\">VPWR</text>\n<text id=\"0x1c2e740\" class=\"l67t5\" text-anchor=\"middle\" dominant-baseline=\"central\" transform=\"translate(2.3 5.1) rotate(180) scale(1 -1) scale(0.1) scale(1 -1)\">X</text>\n<text id=\"0x1c972e0\" class=\"l67t5\" text-anchor=\"middle\" dominant-baseline=\"central\" transform=\"translate(2.3 18.7) rotate(180) scale(1 -1) scale(0.1) scale(1 -1)\">X</text>\n<text id=\"0x1c97370\" class=\"l67t5\" text-anchor=\"middle\" dominant-baseline=\"central\" transform=\"translate(2.3 22.1) rotate(180) scale(1 -1) scale(0.1) scale(1 -1)\">X</text>\n<text id=\"0x1dee680\" class=\"l67t5\" text-anchor=\"middle\" dominant-baseline=\"central\" transform=\"translate(11.5 11.9) rotate(180) scale(1 -1) scale(0.1) scale(1 -1)\">A</text>\n<text id=\"0x1dee710\" class=\"l64t5\" text-anchor=\"middle\" dominant-baseline=\"central\" transform=\"translate(11.5 27.2) rotate(180) scale(1 -1) scale(0.1) scale(1 -1)\">VPB</text>\n<text id=\"0x1ded730\" class=\"l64t59\" text-anchor=\"middle\" dominant-baseline=\"central\" transform=\"translate(11.5 0) rotate(180) scale(1 -1) scale(0.1) scale(1 -1)\">VNB</text>\n<text id=\"0x1ded7c0\" class=\"l83t44\" text-anchor=\"start\" dominant-baseline=\"text-before-edge\" transform=\"translate(0 0) rotate(90) scale(0.1) scale(1 -1)\">clkbuf_1</text>\n</g>\n<g id=\"sky130_fd_sc_hd__inv_2\">\n<polygon id=\"0x2054a10\" class=\"l236d0\" points=\"0,0 13.8,0 13.8,27.2 0,27.2\"/>\n<polygon id=\"0x2054a80\" class=\"l64d16\" points=\"1.45,26.35 3.15,26.35 3.15,28.05 1.45,28.05\"/>\n<polygon id=\"0x205d9d0\" class=\"l122d16\" points=\"1.45,-0.85 3.15,-0.85 3.15,0.85 1.45,0.85\"/>\n<polygon id=\"0x21c3650\" class=\"l68d16\" points=\"1.45,26.35 3.15,26.35 3.15,28.05 1.45,28.05\"/>\n<polygon id=\"0x164d490\" class=\"l68d16\" points=\"1.45,-0.85 3.15,-0.85 3.15,0.85 1.45,0.85\"/>\n<polygon id=\"0x164d500\" class=\"l67d20\" points=\"13.8,28.05 0,28.05 0,26.35 1.25,26.35 1.25,14.95 3.55,14.95 3.55,26.35 10.25,26.35 10.25,14.95 12.35,14.95 12.35,26.35 13.8,26.35\"/>\n<polygon id=\"0x13e87b0\" class=\"l67d20\" points=\"8.55,24.65 5.25,24.65 5.25,14.85 6.05,14.85 6.05,8.85 5.25,8.85 5.25,2.55 8.55,2.55\"/>\n<polygon id=\"0x13e8820\" class=\"l67d20\" points=\"1.05,10.75 4.35,10.75 4.35,13.25 1.05,13.25\"/>\n<polygon id=\"0x162e230\" class=\"l67d20\" points=\"13.8,0.85 12.35,0.85 12.35,9.05 10.25,9.05 10.25,0.85 3.55,0.85 3.55,9.05 1.25,9.05 1.25,0.85 0,0.85 0,-0.85 13.8,-0.85\"/>\n<polygon id=\"0x182fab0\" class=\"l66d44\" points=\"10.25,2.95 11.95,2.95 11.95,4.65 10.25,4.65\"/>\n<polygon id=\"0x182fb80\" class=\"l66d44\" points=\"10.25,6.55 11.95,6.55 11.95,8.25 10.25,8.25\"/>\n<polygon id=\"0x19398b0\" class=\"l66d44\" points=\"10.25,15.75 11.95,15.75 11.95,17.45 10.25,17.45\"/>\n<polygon id=\"0x1b15610\" class=\"l66d44\" points=\"10.25,19.15 11.95,19.15 11.95,20.85 10.25,20.85\"/>\n<polygon id=\"0x1b156e0\" class=\"l66d44\" points=\"10.25,22.55 11.95,22.55 11.95,24.25 10.25,24.25\"/>\n<polygon id=\"0x1b2a0c0\" class=\"l66d44\" points=\"6.05,2.95 7.75,2.95 7.75,4.65 6.05,4.65\"/>\n<polygon id=\"0x1bf80a0\" class=\"l66d44\" points=\"6.05,6.55 7.75,6.55 7.75,8.25 6.05,8.25\"/>\n<polygon id=\"0x1bf8170\" class=\"l66d44\" points=\"6.05,15.75 7.75,15.75 7.75,17.45 6.05,17.45\"/>\n<polygon id=\"0x162e300\" class=\"l66d44\" points=\"6.05,19.15 7.75,19.15 7.75,20.85 6.05,20.85\"/>\n<polygon id=\"0x1d1c290\" class=\"l66d44\" points=\"6.05,22.55 7.75,22.55 7.75,24.25 6.05,24.25\"/>\n<polygon id=\"0x17f7070\" class=\"l66d44\" points=\"1.85,22.55 3.55,22.55 3.55,24.25 1.85,24.25\"/>\n<polygon id=\"0x17f7140\" class=\"l66d44\" points=\"1.85,2.95 3.55,2.95 3.55,4.65 1.85,4.65\"/>\n<polygon id=\"0x1e446f0\" class=\"l66d44\" points=\"1.85,6.55 3.55,6.55 3.55,8.25 1.85,8.25\"/>\n<polygon id=\"0x1d7dff0\" class=\"l66d44\" points=\"1.85,10.75 3.55,10.75 3.55,12.45 1.85,12.45\"/>\n<polygon id=\"0x1d7e0c0\" class=\"l66d44\" points=\"1.85,15.75 3.55,15.75 3.55,17.45 1.85,17.45\"/>\n<polygon id=\"0x1ef9a10\" class=\"l66d44\" points=\"1.85,19.15 3.55,19.15 3.55,20.85 1.85,20.85\"/>\n<polygon id=\"0x20b3b70\" class=\"l66d20\" points=\"9.75,26.15 8.25,26.15 8.25,13.25 5.55,13.25 5.55,26.15 4.05,26.15 4.05,13.25 1.05,13.25 1.05,9.95 4.05,9.95 4.05,1.05 5.55,1.05 5.55,9.95 8.25,9.95 8.25,1.05 9.75,1.05\"/>\n<polygon id=\"0x20b3be0\" class=\"l65d20\" points=\"1.45,2.35 12.35,2.35 12.35,8.85 1.45,8.85\"/>\n<polygon id=\"0x20e8300\" class=\"l65d20\" points=\"1.45,14.85 12.35,14.85 12.35,24.85 1.45,24.85\"/>\n<polygon id=\"0x20e83d0\" class=\"l67d16\" points=\"6.05,7.65 7.75,7.65 7.75,9.35 6.05,9.35\"/>\n<polygon id=\"0x20f3750\" class=\"l67d16\" points=\"1.45,11.05 3.15,11.05 3.15,12.75 1.45,12.75\"/>\n<polygon id=\"0x15b8cc0\" class=\"l67d16\" points=\"6.05,14.45 7.75,14.45 7.75,16.15 6.05,16.15\"/>\n<polygon id=\"0x15b8d90\" class=\"l67d16\" points=\"6.05,11.05 7.75,11.05 7.75,12.75 6.05,12.75\"/>\n<polygon id=\"0x15fa530\" class=\"l67d44\" points=\"10.65,-0.85 12.35,-0.85 12.35,0.85 10.65,0.85\"/>\n<polygon id=\"0x1d11550\" class=\"l67d44\" points=\"1.45,26.35 3.15,26.35 3.15,28.05 1.45,28.05\"/>\n<polygon id=\"0x1d11620\" class=\"l67d44\" points=\"1.45,-0.85 3.15,-0.85 3.15,0.85 1.45,0.85\"/>\n<polygon id=\"0x15fa1c0\" class=\"l67d44\" points=\"6.05,26.35 7.75,26.35 7.75,28.05 6.05,28.05\"/>\n<polygon id=\"0x1607f60\" class=\"l67d44\" points=\"6.05,-0.85 7.75,-0.85 7.75,0.85 6.05,0.85\"/>\n<polygon id=\"0x1608030\" class=\"l67d44\" points=\"10.65,26.35 12.35,26.35 12.35,28.05 10.65,28.05\"/>\n<polygon id=\"0x1696300\" class=\"l81d4\" points=\"0,0 13.8,0 13.8,27.2 0,27.2\"/>\n<polygon id=\"0x1607b90\" class=\"l94d20\" points=\"0,13.55 13.8,13.55 13.8,29.1 0,29.1\"/>\n<polygon id=\"0x1607c60\" class=\"l64d20\" points=\"-1.9,13.05 15.7,13.05 15.7,29.1 -1.9,29.1\"/>\n<polygon id=\"0x16a8c40\" class=\"l93d44\" points=\"0,-1.9 13.8,-1.9 13.8,10.15 0,10.15\"/>\n<polygon id=\"0x172a970\" class=\"l78d44\" points=\"0,12.5 13.8,12.5 13.8,27.2 0,27.2\"/>\n<polygon id=\"0x172aa40\" class=\"l95d20\" points=\"0,9.75 13.8,9.75 13.8,13.45 0,13.45\"/>\n<polygon id=\"0x1abd480\" class=\"l68d20\" points=\"0,29.6 0,24.8 13.8,24.8 13.8,29.6\"/>\n<polygon id=\"0x1abd480\" class=\"l68d20\" points=\"0,2.4 0,-2.4 13.8,-2.4 13.8,2.4\"/>\n<text id=\"0x1652b30\" class=\"l67t5\" text-anchor=\"middle\" dominant-baseline=\"central\" transform=\"translate(2.3 11.9) scale(0.17) scale(1 -1)\">A</text>\n<text id=\"0x1652be0\" class=\"l67t5\" text-anchor=\"middle\" dominant-baseline=\"central\" transform=\"translate(6.9 8.5) scale(0.17) scale(1 -1)\">Y</text>\n<text id=\"0x1650fb0\" class=\"l67t5\" text-anchor=\"middle\" dominant-baseline=\"central\" transform=\"translate(6.9 15.3) scale(0.17) scale(1 -1)\">Y</text>\n<text id=\"0x1651060\" class=\"l67t5\" text-anchor=\"middle\" dominant-baseline=\"central\" transform=\"translate(6.9 11.9) scale(0.17) scale(1 -1)\">Y</text>\n<text id=\"0x16a7480\" class=\"l64t5\" text-anchor=\"middle\" dominant-baseline=\"central\" transform=\"translate(2.3 27.2) scale(0.1) scale(1 -1)\">VPB</text>\n<text id=\"0x16a7530\" class=\"l64t59\" text-anchor=\"middle\" dominant-baseline=\"central\" transform=\"translate(2.3 0) scale(0.1) scale(1 -1)\">VNB</text>\n<text id=\"0x174f1a0\" class=\"l68t5\" text-anchor=\"middle\" dominant-baseline=\"central\" transform=\"translate(2.3 27.2) scale(0.1) scale(1 -1)\">VPWR</text>\n<text id=\"0x174f250\" class=\"l68t5\" text-anchor=\"middle\" dominant-baseline=\"central\" transform=\"translate(2.3 0) scale(0.1) scale(1 -1)\">VGND</text>\n<text id=\"0x1794660\" class=\"l83t44\" text-anchor=\"start\" dominant-baseline=\"text-before-edge\" transform=\"translate(0 0) rotate(90) scale(0.1) scale(1 -1)\">inv_2</text>\n</g>\n<g id=\"sky130_fd_sc_hd__fill_1\">\n<polygon id=\"0x165a240\" class=\"l64d16\" points=\"1.55,26.7 2.55,26.7 2.55,27.55 1.55,27.55\"/>\n<polygon id=\"0x167de60\" class=\"l122d16\" points=\"1.4,-0.55 2.6,-0.55 2.6,0.55 1.4,0.55\"/>\n<polygon id=\"0x1689c50\" class=\"l68d16\" points=\"1.1,26.35 2.9,26.35 2.9,27.85 1.1,27.85\"/>\n<polygon id=\"0x168a8e0\" class=\"l68d16\" points=\"1.1,-0.65 2.9,-0.65 2.9,0.8 1.1,0.8\"/>\n<polygon id=\"0x169d100\" class=\"l81d4\" points=\"0,0 4.6,0 4.6,27.2 0,27.2\"/>\n<polygon id=\"0x1724b10\" class=\"l78d44\" points=\"0,12.5 4.6,12.5 4.6,27.2 0,27.2\"/>\n<polygon id=\"0x17cee10\" class=\"l93d44\" points=\"0,-1.9 4.6,-1.9 4.6,10.15 0,10.15\"/>\n<polygon id=\"0x17d5fe0\" class=\"l64d20\" points=\"-1.9,13.05 6.5,13.05 6.5,29.1 -1.9,29.1\"/>\n<polygon id=\"0x17dcec0\" class=\"l94d20\" points=\"0,13.55 4.6,13.55 4.6,29.1 0,29.1\"/>\n<polygon id=\"0x191c490\" class=\"l67d44\" points=\"1.45,26.35 3.15,26.35 3.15,28.05 1.45,28.05\"/>\n<polygon id=\"0x1a14f40\" class=\"l67d44\" points=\"1.45,-0.85 3.15,-0.85 3.15,0.85 1.45,0.85\"/>\n<polygon id=\"0x1abd480\" class=\"l67d20\" points=\"0,0.85 0,-0.85 4.6,-0.85 4.6,0.85\"/>\n<polygon id=\"0x1abd480\" class=\"l67d20\" points=\"0,28.05 0,26.35 4.6,26.35 4.6,28.05\"/>\n<polygon id=\"0x1abd480\" class=\"l68d20\" points=\"0,29.6 0,24.8 4.6,24.8 4.6,29.6\"/>\n<polygon id=\"0x1abd480\" class=\"l68d20\" points=\"0,2.4 0,-2.4 4.6,-2.4 4.6,2.4\"/>\n<text id=\"0x19ffc40\" class=\"l68t5\" text-anchor=\"middle\" dominant-baseline=\"central\" transform=\"translate(2.05 27.2) scale(0.125) scale(1 -1)\">VPWR</text>\n<text id=\"0x1a4fd60\" class=\"l68t5\" text-anchor=\"middle\" dominant-baseline=\"central\" transform=\"translate(2.05 0) scale(0.125) scale(1 -1)\">VGND</text>\n<text id=\"0x1a4fdf0\" class=\"l64t5\" text-anchor=\"middle\" dominant-baseline=\"central\" transform=\"translate(2.3 27.2) scale(0.1) scale(1 -1)\">VPB</text>\n<text id=\"0x1a59540\" class=\"l64t59\" text-anchor=\"middle\" dominant-baseline=\"central\" transform=\"translate(2.3 0) scale(0.1) scale(1 -1)\">VNB</text>\n<text id=\"0x1a595d0\" class=\"l83t44\" text-anchor=\"start\" dominant-baseline=\"text-before-edge\" transform=\"translate(0 0) rotate(90) scale(0.1) scale(1 -1)\">fill_1</text>\n</g>\n</defs>\n<rect x=\"-28.56\" y=\"-599.76\" width=\"402.12\" height=\"628.32\" fill=\"#222222\" stroke=\"none\"/>\n<g id=\"inverter\" transform=\"scale(1 -1)\">\n<polygon id=\"0x16c2f30\" class=\"l235d4\" points=\"0,0 345,0 345,571.2 0,571.2\"/>\n<polygon id=\"0x1486be0\" class=\"l67d20\" points=\"272.85,446.25 274.55,446.25 274.55,447.95 272.85,447.95\"/>\n<polygon id=\"0x20f1ee0\" class=\"l67d20\" points=\"263.65,439.45 265.35,439.45 265.35,441.15 263.65,441.15\"/>\n<polygon id=\"0x20f1f50\" class=\"l67d20\" points=\"217.65,313.65 219.35,313.65 219.35,315.35 217.65,315.35\"/>\n<polygon id=\"0x20f1fc0\" class=\"l67d20\" points=\"213.05,303.45 214.75,303.45 214.75,305.15 213.05,305.15\"/>\n<polygon id=\"0x126d2c0\" class=\"l67d20\" points=\"88.85,119.85 90.55,119.85 90.55,121.55 88.85,121.55\"/>\n<polygon id=\"0x126d330\" class=\"l67d20\" points=\"70.45,116.45 72.15,116.45 72.15,118.15 70.45,118.15\"/>\n<polygon id=\"0x126d3a0\" class=\"l67d44\" points=\"272.85,446.25 274.55,446.25 274.55,447.95 272.85,447.95\"/>\n<polygon id=\"0x126d410\" class=\"l67d44\" points=\"263.65,439.45 265.35,439.45 265.35,441.15 263.65,441.15\"/>\n<polygon id=\"0x1249810\" class=\"l67d44\" points=\"217.65,313.65 219.35,313.65 219.35,315.35 217.65,315.35\"/>\n<polygon id=\"0x1249880\" class=\"l67d44\" points=\"213.05,303.45 214.75,303.45 214.75,305.15 213.05,305.15\"/>\n<polygon id=\"0x12d5100\" class=\"l67d44\" points=\"88.85,119.85 90.55,119.85 90.55,121.55 88.85,121.55\"/>\n<polygon id=\"0x12d5170\" class=\"l67d44\" points=\"70.45,116.45 72.15,116.45 72.15,118.15 70.45,118.15\"/>\n<polygon id=\"0x12d51e0\" class=\"l68d20\" points=\"55.2,460 289.8,460 289.8,464.8 55.2,464.8\"/>\n<polygon id=\"0x1302f40\" class=\"l68d20\" points=\"272.25,447.8 275.15,447.8 275.15,448.25 272.25,448.25\"/>\n<polygon id=\"0x1303010\" class=\"l68d20\" points=\"322.7,447.8 325.9,447.8 325.9,448.4 322.7,448.4\"/>\n<polygon id=\"0x14695f0\" class=\"l68d20\" points=\"272.25,446.4 325.9,446.4 325.9,447.8 272.25,447.8\"/>\n<polygon id=\"0x1496710\" class=\"l68d20\" points=\"272.25,445.95 275.15,445.95 275.15,446.4 272.25,446.4\"/>\n<polygon id=\"0x14967e0\" class=\"l68d20\" points=\"322.7,445.8 325.9,445.8 325.9,446.4 322.7,446.4\"/>\n<polygon id=\"0x1574a60\" class=\"l68d20\" points=\"216.9,441 220.1,441 220.1,441.6 216.9,441.6\"/>\n<polygon id=\"0x1574b30\" class=\"l68d20\" points=\"263.05,441 265.95,441 265.95,441.45 263.05,441.45\"/>\n<polygon id=\"0x1620bf0\" class=\"l68d20\" points=\"216.9,439.6 265.95,439.6 265.95,441 216.9,441\"/>\n<polygon id=\"0x1620cc0\" class=\"l68d20\" points=\"216.9,439 220.1,439 220.1,439.6 216.9,439.6\"/>\n<polygon id=\"0x166a630\" class=\"l68d20\" points=\"263.05,439.15 265.95,439.15 265.95,439.6 263.05,439.6\"/>\n<polygon id=\"0x166a700\" class=\"l68d20\" points=\"55.2,432.8 289.8,432.8 289.8,437.6 55.2,437.6\"/>\n<polygon id=\"0x1701f60\" class=\"l68d20\" points=\"55.2,405.6 289.8,405.6 289.8,410.4 55.2,410.4\"/>\n<polygon id=\"0x1702030\" class=\"l68d20\" points=\"55.2,378.4 289.8,378.4 289.8,383.2 55.2,383.2\"/>\n<polygon id=\"0x1760430\" class=\"l68d20\" points=\"55.2,351.2 289.8,351.2 289.8,356 55.2,356\"/>\n<polygon id=\"0x1760500\" class=\"l68d20\" points=\"55.2,324 289.8,324 289.8,328.8 55.2,328.8\"/>\n<polygon id=\"0x1762950\" class=\"l68d20\" points=\"216.9,313.2 220.1,313.2 220.1,315.8 216.9,315.8\"/>\n<polygon id=\"0x1762a20\" class=\"l68d20\" points=\"212.3,303 215.5,303 215.5,305.6 212.3,305.6\"/>\n<polygon id=\"0x17e6f60\" class=\"l68d20\" points=\"55.2,296.8 289.8,296.8 289.8,301.6 55.2,301.6\"/>\n<polygon id=\"0x17e7030\" class=\"l68d20\" points=\"55.2,269.6 289.8,269.6 289.8,274.4 55.2,274.4\"/>\n<polygon id=\"0x1469660\" class=\"l68d20\" points=\"55.2,242.4 289.8,242.4 289.8,247.2 55.2,247.2\"/>\n<polygon id=\"0x1469730\" class=\"l68d20\" points=\"55.2,215.2 289.8,215.2 289.8,220 55.2,220\"/>\n<polygon id=\"0x1826d80\" class=\"l68d20\" points=\"55.2,188 289.8,188 289.8,192.8 55.2,192.8\"/>\n<polygon id=\"0x1826e50\" class=\"l68d20\" points=\"55.2,160.8 289.8,160.8 289.8,165.6 55.2,165.6\"/>\n<polygon id=\"0x18d4a90\" class=\"l68d20\" points=\"55.2,133.6 289.8,133.6 289.8,138.4 55.2,138.4\"/>\n<polygon id=\"0x18d4b60\" class=\"l68d20\" points=\"88.25,121.4 91.15,121.4 91.15,121.85 88.25,121.85\"/>\n<polygon id=\"0x18a1740\" class=\"l68d20\" points=\"212.3,121.4 215.5,121.4 215.5,122 212.3,122\"/>\n<polygon id=\"0x18a1810\" class=\"l68d20\" points=\"88.25,120 215.5,120 215.5,121.4 88.25,121.4\"/>\n<polygon id=\"0x18d3640\" class=\"l68d20\" points=\"88.25,119.55 91.15,119.55 91.15,120 88.25,120\"/>\n<polygon id=\"0x18d3710\" class=\"l68d20\" points=\"212.3,119.4 215.5,119.4 215.5,120 212.3,120\"/>\n<polygon id=\"0x195a750\" class=\"l68d20\" points=\"0.7,118 3.9,118 3.9,118.6 0.7,118.6\"/>\n<polygon id=\"0x195a820\" class=\"l68d20\" points=\"69.85,118 72.75,118 72.75,118.45 69.85,118.45\"/>\n<polygon id=\"0x19a56f0\" class=\"l68d20\" points=\"0.7,116.6 72.75,116.6 72.75,118 0.7,118\"/>\n<polygon id=\"0x19a57c0\" class=\"l68d20\" points=\"0.7,116 3.9,116 3.9,116.6 0.7,116.6\"/>\n<polygon id=\"0x1997dc0\" class=\"l68d20\" points=\"69.85,116.15 72.75,116.15 72.75,116.6 69.85,116.6\"/>\n<polygon id=\"0x1997e90\" class=\"l68d20\" points=\"55.2,106.4 289.8,106.4 289.8,111.2 55.2,111.2\"/>\n<polygon id=\"0x1a5d5b0\" class=\"l68d44\" points=\"98.05,461.65 99.55,461.65 99.55,463.15 98.05,463.15\"/>\n<polygon id=\"0x1a5d680\" class=\"l68d44\" points=\"101.25,461.65 102.75,461.65 102.75,463.15 101.25,463.15\"/>\n<polygon id=\"0x1a9e970\" class=\"l68d44\" points=\"104.45,461.65 105.95,461.65 105.95,463.15 104.45,463.15\"/>\n<polygon id=\"0x1a9ea40\" class=\"l68d44\" points=\"107.65,461.65 109.15,461.65 109.15,463.15 107.65,463.15\"/>\n<polygon id=\"0x1c85c90\" class=\"l68d44\" points=\"110.85,461.65 112.35,461.65 112.35,463.15 110.85,463.15\"/>\n<polygon id=\"0x1c85d60\" class=\"l68d44\" points=\"323.55,446.35 325.05,446.35 325.05,447.85 323.55,447.85\"/>\n<polygon id=\"0x1cda140\" class=\"l68d44\" points=\"217.75,439.55 219.25,439.55 219.25,441.05 217.75,441.05\"/>\n<polygon id=\"0x1cda210\" class=\"l68d44\" points=\"131.05,434.45 132.55,434.45 132.55,435.95 131.05,435.95\"/>\n<polygon id=\"0x1dacae0\" class=\"l68d44\" points=\"134.25,434.45 135.75,434.45 135.75,435.95 134.25,435.95\"/>\n<polygon id=\"0x1dacbb0\" class=\"l68d44\" points=\"137.45,434.45 138.95,434.45 138.95,435.95 137.45,435.95\"/>\n<polygon id=\"0x1db5540\" class=\"l68d44\" points=\"140.65,434.45 142.15,434.45 142.15,435.95 140.65,435.95\"/>\n<polygon id=\"0x1db5610\" class=\"l68d44\" points=\"143.85,434.45 145.35,434.45 145.35,435.95 143.85,435.95\"/>\n<polygon id=\"0x1e050f0\" class=\"l68d44\" points=\"98.05,407.25 99.55,407.25 99.55,408.75 98.05,408.75\"/>\n<polygon id=\"0x1e051c0\" class=\"l68d44\" points=\"101.25,407.25 102.75,407.25 102.75,408.75 101.25,408.75\"/>\n<polygon id=\"0x2086110\" class=\"l68d44\" points=\"104.45,407.25 105.95,407.25 105.95,408.75 104.45,408.75\"/>\n<polygon id=\"0x20861e0\" class=\"l68d44\" points=\"107.65,407.25 109.15,407.25 109.15,408.75 107.65,408.75\"/>\n<polygon id=\"0x20953f0\" class=\"l68d44\" points=\"110.85,407.25 112.35,407.25 112.35,408.75 110.85,408.75\"/>\n<polygon id=\"0x20954c0\" class=\"l68d44\" points=\"131.05,380.05 132.55,380.05 132.55,381.55 131.05,381.55\"/>\n<polygon id=\"0x20ce170\" class=\"l68d44\" points=\"134.25,380.05 135.75,380.05 135.75,381.55 134.25,381.55\"/>\n<polygon id=\"0x20ce240\" class=\"l68d44\" points=\"137.45,380.05 138.95,380.05 138.95,381.55 137.45,381.55\"/>\n<polygon id=\"0x20dc480\" class=\"l68d44\" points=\"140.65,380.05 142.15,380.05 142.15,381.55 140.65,381.55\"/>\n<polygon id=\"0x20dc550\" class=\"l68d44\" points=\"143.85,380.05 145.35,380.05 145.35,381.55 143.85,381.55\"/>\n<polygon id=\"0x21074b0\" class=\"l68d44\" points=\"98.05,352.85 99.55,352.85 99.55,354.35 98.05,354.35\"/>\n<polygon id=\"0x2107580\" class=\"l68d44\" points=\"101.25,352.85 102.75,352.85 102.75,354.35 101.25,354.35\"/>\n<polygon id=\"0x21bc290\" class=\"l68d44\" points=\"104.45,352.85 105.95,352.85 105.95,354.35 104.45,354.35\"/>\n<polygon id=\"0x21bc360\" class=\"l68d44\" points=\"107.65,352.85 109.15,352.85 109.15,354.35 107.65,354.35\"/>\n<polygon id=\"0x1325a40\" class=\"l68d44\" points=\"110.85,352.85 112.35,352.85 112.35,354.35 110.85,354.35\"/>\n<polygon id=\"0x1325b10\" class=\"l68d44\" points=\"131.05,325.65 132.55,325.65 132.55,327.15 131.05,327.15\"/>\n<polygon id=\"0x1346540\" class=\"l68d44\" points=\"134.25,325.65 135.75,325.65 135.75,327.15 134.25,327.15\"/>\n<polygon id=\"0x1346610\" class=\"l68d44\" points=\"137.45,325.65 138.95,325.65 138.95,327.15 137.45,327.15\"/>\n<polygon id=\"0x1386f10\" class=\"l68d44\" points=\"140.65,325.65 142.15,325.65 142.15,327.15 140.65,327.15\"/>\n<polygon id=\"0x1386fe0\" class=\"l68d44\" points=\"143.85,325.65 145.35,325.65 145.35,327.15 143.85,327.15\"/>\n<polygon id=\"0x13991a0\" class=\"l68d44\" points=\"217.75,313.75 219.25,313.75 219.25,315.25 217.75,315.25\"/>\n<polygon id=\"0x1399270\" class=\"l68d44\" points=\"213.15,303.55 214.65,303.55 214.65,305.05 213.15,305.05\"/>\n<polygon id=\"0x13a74b0\" class=\"l68d44\" points=\"98.05,298.45 99.55,298.45 99.55,299.95 98.05,299.95\"/>\n<polygon id=\"0x13a7580\" class=\"l68d44\" points=\"101.25,298.45 102.75,298.45 102.75,299.95 101.25,299.95\"/>\n<polygon id=\"0x13ec150\" class=\"l68d44\" points=\"104.45,298.45 105.95,298.45 105.95,299.95 104.45,299.95\"/>\n<polygon id=\"0x13ec220\" class=\"l68d44\" points=\"107.65,298.45 109.15,298.45 109.15,299.95 107.65,299.95\"/>\n<polygon id=\"0x142c290\" class=\"l68d44\" points=\"110.85,298.45 112.35,298.45 112.35,299.95 110.85,299.95\"/>\n<polygon id=\"0x142c360\" class=\"l68d44\" points=\"131.05,271.25 132.55,271.25 132.55,272.75 131.05,272.75\"/>\n<polygon id=\"0x12d0e10\" class=\"l68d44\" points=\"134.25,271.25 135.75,271.25 135.75,272.75 134.25,272.75\"/>\n<polygon id=\"0x12d0ee0\" class=\"l68d44\" points=\"137.45,271.25 138.95,271.25 138.95,272.75 137.45,272.75\"/>\n<polygon id=\"0x14c4720\" class=\"l68d44\" points=\"140.65,271.25 142.15,271.25 142.15,272.75 140.65,272.75\"/>\n<polygon id=\"0x14c47f0\" class=\"l68d44\" points=\"143.85,271.25 145.35,271.25 145.35,272.75 143.85,272.75\"/>\n<polygon id=\"0x13dfbf0\" class=\"l68d44\" points=\"98.05,244.05 99.55,244.05 99.55,245.55 98.05,245.55\"/>\n<polygon id=\"0x13dfcc0\" class=\"l68d44\" points=\"101.25,244.05 102.75,244.05 102.75,245.55 101.25,245.55\"/>\n<polygon id=\"0x153b810\" class=\"l68d44\" points=\"104.45,244.05 105.95,244.05 105.95,245.55 104.45,245.55\"/>\n<polygon id=\"0x153b8e0\" class=\"l68d44\" points=\"107.65,244.05 109.15,244.05 109.15,245.55 107.65,245.55\"/>\n<polygon id=\"0x156d4b0\" class=\"l68d44\" points=\"110.85,244.05 112.35,244.05 112.35,245.55 110.85,245.55\"/>\n<polygon id=\"0x156d580\" class=\"l68d44\" points=\"131.05,216.85 132.55,216.85 132.55,218.35 131.05,218.35\"/>\n<polygon id=\"0x16760d0\" class=\"l68d44\" points=\"134.25,216.85 135.75,216.85 135.75,218.35 134.25,218.35\"/>\n<polygon id=\"0x16761a0\" class=\"l68d44\" points=\"137.45,216.85 138.95,216.85 138.95,218.35 137.45,218.35\"/>\n<polygon id=\"0x16cd0f0\" class=\"l68d44\" points=\"140.65,216.85 142.15,216.85 142.15,218.35 140.65,218.35\"/>\n<polygon id=\"0x16cd1c0\" class=\"l68d44\" points=\"143.85,216.85 145.35,216.85 145.35,218.35 143.85,218.35\"/>\n<polygon id=\"0x16d2ba0\" class=\"l68d44\" points=\"98.05,189.65 99.55,189.65 99.55,191.15 98.05,191.15\"/>\n<polygon id=\"0x16d2c70\" class=\"l68d44\" points=\"101.25,189.65 102.75,189.65 102.75,191.15 101.25,191.15\"/>\n<polygon id=\"0x173f280\" class=\"l68d44\" points=\"104.45,189.65 105.95,189.65 105.95,191.15 104.45,191.15\"/>\n<polygon id=\"0x173f350\" class=\"l68d44\" points=\"107.65,189.65 109.15,189.65 109.15,191.15 107.65,191.15\"/>\n<polygon id=\"0x17cbb40\" class=\"l68d44\" points=\"110.85,189.65 112.35,189.65 112.35,191.15 110.85,191.15\"/>\n<polygon id=\"0x17cbc10\" class=\"l68d44\" points=\"131.05,162.45 132.55,162.45 132.55,163.95 131.05,163.95\"/>\n<polygon id=\"0x18de6b0\" class=\"l68d44\" points=\"134.25,162.45 135.75,162.45 135.75,163.95 134.25,163.95\"/>\n<polygon id=\"0x18de780\" class=\"l68d44\" points=\"137.45,162.45 138.95,162.45 138.95,163.95 137.45,163.95\"/>\n<polygon id=\"0x194f560\" class=\"l68d44\" points=\"140.65,162.45 142.15,162.45 142.15,163.95 140.65,163.95\"/>\n<polygon id=\"0x194f630\" class=\"l68d44\" points=\"143.85,162.45 145.35,162.45 145.35,163.95 143.85,163.95\"/>\n<polygon id=\"0x1b17600\" class=\"l68d44\" points=\"98.05,135.25 99.55,135.25 99.55,136.75 98.05,136.75\"/>\n<polygon id=\"0x1b176d0\" class=\"l68d44\" points=\"101.25,135.25 102.75,135.25 102.75,136.75 101.25,136.75\"/>\n<polygon id=\"0x1c658c0\" class=\"l68d44\" points=\"104.45,135.25 105.95,135.25 105.95,136.75 104.45,136.75\"/>\n<polygon id=\"0x1c65990\" class=\"l68d44\" points=\"107.65,135.25 109.15,135.25 109.15,136.75 107.65,136.75\"/>\n<polygon id=\"0x1c9a2a0\" class=\"l68d44\" points=\"110.85,135.25 112.35,135.25 112.35,136.75 110.85,136.75\"/>\n<polygon id=\"0x1c9a370\" class=\"l68d44\" points=\"213.15,119.95 214.65,119.95 214.65,121.45 213.15,121.45\"/>\n<polygon id=\"0x1cba6b0\" class=\"l68d44\" points=\"1.55,116.55 3.05,116.55 3.05,118.05 1.55,118.05\"/>\n<polygon id=\"0x1cba780\" class=\"l68d44\" points=\"131.05,108.05 132.55,108.05 132.55,109.55 131.05,109.55\"/>\n<polygon id=\"0x1dd35f0\" class=\"l68d44\" points=\"134.25,108.05 135.75,108.05 135.75,109.55 134.25,109.55\"/>\n<polygon id=\"0x1dd36c0\" class=\"l68d44\" points=\"137.45,108.05 138.95,108.05 138.95,109.55 137.45,109.55\"/>\n<polygon id=\"0x1e17c20\" class=\"l68d44\" points=\"140.65,108.05 142.15,108.05 142.15,109.55 140.65,109.55\"/>\n<polygon id=\"0x1e17cf0\" class=\"l68d44\" points=\"143.85,108.05 145.35,108.05 145.35,109.55 143.85,109.55\"/>\n<polygon id=\"0x1e46e30\" class=\"l69d20\" points=\"322.9,531.2 325.7,531.2 325.7,571.2 322.9,571.2\"/>\n<polygon id=\"0x1e46f00\" class=\"l69d20\" points=\"97.5,460.55 112.9,460.55 112.9,464.25 97.5,464.25\"/>\n<polygon id=\"0x1e95630\" class=\"l69d20\" points=\"323.6,448.7 325,448.7 325,531.2 323.6,531.2\"/>\n<polygon id=\"0x1e95700\" class=\"l69d20\" points=\"323,445.5 325.6,445.5 325.6,448.7 323,448.7\"/>\n<polygon id=\"0x1fcdb70\" class=\"l69d20\" points=\"217.2,438.7 219.8,438.7 219.8,441.9 217.2,441.9\"/>\n<polygon id=\"0x1fcdc40\" class=\"l69d20\" points=\"130.5,433.35 145.9,433.35 145.9,437.05 130.5,437.05\"/>\n<polygon id=\"0x1fed110\" class=\"l69d20\" points=\"97.5,406.15 112.9,406.15 112.9,409.85 97.5,409.85\"/>\n<polygon id=\"0x1fed1e0\" class=\"l69d20\" points=\"130.5,378.95 145.9,378.95 145.9,382.65 130.5,382.65\"/>\n<polygon id=\"0x203b680\" class=\"l69d20\" points=\"97.5,351.75 112.9,351.75 112.9,355.45 97.5,355.45\"/>\n<polygon id=\"0x203b750\" class=\"l69d20\" points=\"130.5,324.55 145.9,324.55 145.9,328.25 130.5,328.25\"/>\n<polygon id=\"0x20881c0\" class=\"l69d20\" points=\"217.8,316.1 219.2,316.1 219.2,438.7 217.8,438.7\"/>\n<polygon id=\"0x2088290\" class=\"l69d20\" points=\"217.2,312.9 219.8,312.9 219.8,316.1 217.2,316.1\"/>\n<polygon id=\"0x209f5d0\" class=\"l69d20\" points=\"212.6,302.7 215.2,302.7 215.2,305.9 212.6,305.9\"/>\n<polygon id=\"0x209f6a0\" class=\"l69d20\" points=\"97.5,297.35 112.9,297.35 112.9,301.05 97.5,301.05\"/>\n<polygon id=\"0x20ff0e0\" class=\"l69d20\" points=\"130.5,270.15 145.9,270.15 145.9,273.85 130.5,273.85\"/>\n<polygon id=\"0x20ff1b0\" class=\"l69d20\" points=\"97.5,242.95 112.9,242.95 112.9,246.65 97.5,246.65\"/>\n<polygon id=\"0x15de1f0\" class=\"l69d20\" points=\"130.5,215.75 145.9,215.75 145.9,219.45 130.5,219.45\"/>\n<polygon id=\"0x15de2c0\" class=\"l69d20\" points=\"97.5,188.55 112.9,188.55 112.9,192.25 97.5,192.25\"/>\n<polygon id=\"0x16ba690\" class=\"l69d20\" points=\"130.5,161.35 145.9,161.35 145.9,165.05 130.5,165.05\"/>\n<polygon id=\"0x16ba760\" class=\"l69d20\" points=\"97.5,134.15 112.9,134.15 112.9,137.85 97.5,137.85\"/>\n<polygon id=\"0x1765740\" class=\"l69d20\" points=\"213.2,122.3 214.6,122.3 214.6,302.7 213.2,302.7\"/>\n<polygon id=\"0x1765810\" class=\"l69d20\" points=\"212.6,119.1 215.2,119.1 215.2,122.3 212.6,122.3\"/>\n<polygon id=\"0x179a160\" class=\"l69d20\" points=\"1,115.7 3.6,115.7 3.6,118.9 1,118.9\"/>\n<polygon id=\"0x179a230\" class=\"l69d20\" points=\"1.6,40 3,40 3,115.7 1.6,115.7\"/>\n<polygon id=\"0x1825690\" class=\"l69d20\" points=\"130.5,106.95 145.9,106.95 145.9,110.65 130.5,110.65\"/>\n<polygon id=\"0x1825760\" class=\"l69d20\" points=\"0.9,0 3.7,0 3.7,40 0.9,40\"/>\n<polygon id=\"0x18898f0\" class=\"l69d44\" points=\"98.2,461.4 100.2,461.4 100.2,463.4 98.2,463.4\"/>\n<polygon id=\"0x18899c0\" class=\"l69d44\" points=\"102.2,461.4 104.2,461.4 104.2,463.4 102.2,463.4\"/>\n<polygon id=\"0x124b2d0\" class=\"l69d44\" points=\"106.2,461.4 108.2,461.4 108.2,463.4 106.2,463.4\"/>\n<polygon id=\"0x124b3a0\" class=\"l69d44\" points=\"110.2,461.4 112.2,461.4 112.2,463.4 110.2,463.4\"/>\n<polygon id=\"0x1517260\" class=\"l69d44\" points=\"131.2,434.2 133.2,434.2 133.2,436.2 131.2,436.2\"/>\n<polygon id=\"0x1517330\" class=\"l69d44\" points=\"135.2,434.2 137.2,434.2 137.2,436.2 135.2,436.2\"/>\n<polygon id=\"0x10dcf20\" class=\"l69d44\" points=\"139.2,434.2 141.2,434.2 141.2,436.2 139.2,436.2\"/>\n<polygon id=\"0x10dcff0\" class=\"l69d44\" points=\"143.2,434.2 145.2,434.2 145.2,436.2 143.2,436.2\"/>\n<polygon id=\"0x10d90d0\" class=\"l69d44\" points=\"98.2,407 100.2,407 100.2,409 98.2,409\"/>\n<polygon id=\"0x10d91a0\" class=\"l69d44\" points=\"102.2,407 104.2,407 104.2,409 102.2,409\"/>\n<polygon id=\"0x1980bf0\" class=\"l69d44\" points=\"106.2,407 108.2,407 108.2,409 106.2,409\"/>\n<polygon id=\"0x1980cc0\" class=\"l69d44\" points=\"110.2,407 112.2,407 112.2,409 110.2,409\"/>\n<polygon id=\"0x19ca620\" class=\"l69d44\" points=\"131.2,379.8 133.2,379.8 133.2,381.8 131.2,381.8\"/>\n<polygon id=\"0x19ca6f0\" class=\"l69d44\" points=\"135.2,379.8 137.2,379.8 137.2,381.8 135.2,381.8\"/>\n<polygon id=\"0x19d87e0\" class=\"l69d44\" points=\"139.2,379.8 141.2,379.8 141.2,381.8 139.2,381.8\"/>\n<polygon id=\"0x19d88b0\" class=\"l69d44\" points=\"143.2,379.8 145.2,379.8 145.2,381.8 143.2,381.8\"/>\n<polygon id=\"0x1a36be0\" class=\"l69d44\" points=\"98.2,352.6 100.2,352.6 100.2,354.6 98.2,354.6\"/>\n<polygon id=\"0x1a36cb0\" class=\"l69d44\" points=\"102.2,352.6 104.2,352.6 104.2,354.6 102.2,354.6\"/>\n<polygon id=\"0x1a5f340\" class=\"l69d44\" points=\"106.2,352.6 108.2,352.6 108.2,354.6 106.2,354.6\"/>\n<polygon id=\"0x1a5f410\" class=\"l69d44\" points=\"110.2,352.6 112.2,352.6 112.2,354.6 110.2,354.6\"/>\n<polygon id=\"0x1ad6630\" class=\"l69d44\" points=\"131.2,325.4 133.2,325.4 133.2,327.4 131.2,327.4\"/>\n<polygon id=\"0x1ad6700\" class=\"l69d44\" points=\"135.2,325.4 137.2,325.4 137.2,327.4 135.2,327.4\"/>\n<polygon id=\"0x1b369d0\" class=\"l69d44\" points=\"139.2,325.4 141.2,325.4 141.2,327.4 139.2,327.4\"/>\n<polygon id=\"0x1b36aa0\" class=\"l69d44\" points=\"143.2,325.4 145.2,325.4 145.2,327.4 143.2,327.4\"/>\n<polygon id=\"0x1b445a0\" class=\"l69d44\" points=\"98.2,298.2 100.2,298.2 100.2,300.2 98.2,300.2\"/>\n<polygon id=\"0x1b44670\" class=\"l69d44\" points=\"102.2,298.2 104.2,298.2 104.2,300.2 102.2,300.2\"/>\n<polygon id=\"0x1c9ad20\" class=\"l69d44\" points=\"106.2,298.2 108.2,298.2 108.2,300.2 106.2,300.2\"/>\n<polygon id=\"0x1c9adf0\" class=\"l69d44\" points=\"110.2,298.2 112.2,298.2 112.2,300.2 110.2,300.2\"/>\n<polygon id=\"0x1cdc810\" class=\"l69d44\" points=\"131.2,271 133.2,271 133.2,273 131.2,273\"/>\n<polygon id=\"0x1cdc8e0\" class=\"l69d44\" points=\"135.2,271 137.2,271 137.2,273 135.2,273\"/>\n<polygon id=\"0x1d27850\" class=\"l69d44\" points=\"139.2,271 141.2,271 141.2,273 139.2,273\"/>\n<polygon id=\"0x1d27920\" class=\"l69d44\" points=\"143.2,271 145.2,271 145.2,273 143.2,273\"/>\n<polygon id=\"0x1d37100\" class=\"l69d44\" points=\"98.2,243.8 100.2,243.8 100.2,245.8 98.2,245.8\"/>\n<polygon id=\"0x1d371d0\" class=\"l69d44\" points=\"102.2,243.8 104.2,243.8 104.2,245.8 102.2,245.8\"/>\n<polygon id=\"0x1f09c10\" class=\"l69d44\" points=\"106.2,243.8 108.2,243.8 108.2,245.8 106.2,245.8\"/>\n<polygon id=\"0x1f09ce0\" class=\"l69d44\" points=\"110.2,243.8 112.2,243.8 112.2,245.8 110.2,245.8\"/>\n<polygon id=\"0x1f27030\" class=\"l69d44\" points=\"131.2,216.6 133.2,216.6 133.2,218.6 131.2,218.6\"/>\n<polygon id=\"0x1f27100\" class=\"l69d44\" points=\"135.2,216.6 137.2,216.6 137.2,218.6 135.2,218.6\"/>\n<polygon id=\"0x1f112b0\" class=\"l69d44\" points=\"139.2,216.6 141.2,216.6 141.2,218.6 139.2,218.6\"/>\n<polygon id=\"0x1f11380\" class=\"l69d44\" points=\"143.2,216.6 145.2,216.6 145.2,218.6 143.2,218.6\"/>\n<polygon id=\"0x1f39220\" class=\"l69d44\" points=\"98.2,189.4 100.2,189.4 100.2,191.4 98.2,191.4\"/>\n<polygon id=\"0x1f392f0\" class=\"l69d44\" points=\"102.2,189.4 104.2,189.4 104.2,191.4 102.2,191.4\"/>\n<polygon id=\"0x1dc1740\" class=\"l69d44\" points=\"106.2,189.4 108.2,189.4 108.2,191.4 106.2,191.4\"/>\n<polygon id=\"0x1dc1810\" class=\"l69d44\" points=\"110.2,189.4 112.2,189.4 112.2,191.4 110.2,191.4\"/>\n<polygon id=\"0x2063c30\" class=\"l69d44\" points=\"131.2,162.2 133.2,162.2 133.2,164.2 131.2,164.2\"/>\n<polygon id=\"0x2063d00\" class=\"l69d44\" points=\"135.2,162.2 137.2,162.2 137.2,164.2 135.2,164.2\"/>\n<polygon id=\"0x20a3a70\" class=\"l69d44\" points=\"139.2,162.2 141.2,162.2 141.2,164.2 139.2,164.2\"/>\n<polygon id=\"0x20a3b40\" class=\"l69d44\" points=\"143.2,162.2 145.2,162.2 145.2,164.2 143.2,164.2\"/>\n<polygon id=\"0x20f8130\" class=\"l69d44\" points=\"98.2,135 100.2,135 100.2,137 98.2,137\"/>\n<polygon id=\"0x20f8200\" class=\"l69d44\" points=\"102.2,135 104.2,135 104.2,137 102.2,137\"/>\n<polygon id=\"0x2118a70\" class=\"l69d44\" points=\"106.2,135 108.2,135 108.2,137 106.2,137\"/>\n<polygon id=\"0x2118b40\" class=\"l69d44\" points=\"110.2,135 112.2,135 112.2,137 110.2,137\"/>\n<polygon id=\"0x1111460\" class=\"l69d44\" points=\"131.2,107.8 133.2,107.8 133.2,109.8 131.2,109.8\"/>\n<polygon id=\"0x1111530\" class=\"l69d44\" points=\"135.2,107.8 137.2,107.8 137.2,109.8 135.2,109.8\"/>\n<polygon id=\"0x111ac70\" class=\"l69d44\" points=\"139.2,107.8 141.2,107.8 141.2,109.8 139.2,109.8\"/>\n<polygon id=\"0x111ad40\" class=\"l69d44\" points=\"143.2,107.8 145.2,107.8 145.2,109.8 143.2,109.8\"/>\n<polygon id=\"0x11f8320\" class=\"l70d20\" points=\"97.3,460.75 113.1,460.75 113.1,464.05 97.3,464.05\"/>\n<polygon id=\"0x11f83f0\" class=\"l70d20\" points=\"130.3,433.55 146.1,433.55 146.1,436.85 130.3,436.85\"/>\n<polygon id=\"0x13ddc30\" class=\"l70d20\" points=\"97.3,406.35 113.1,406.35 113.1,409.65 97.3,409.65\"/>\n<polygon id=\"0x13ddd00\" class=\"l70d20\" points=\"130.3,379.15 146.1,379.15 146.1,382.45 130.3,382.45\"/>\n<polygon id=\"0x1406de0\" class=\"l70d20\" points=\"97.3,351.95 113.1,351.95 113.1,355.25 97.3,355.25\"/>\n<polygon id=\"0x1406eb0\" class=\"l70d20\" points=\"130.3,324.75 146.1,324.75 146.1,328.05 130.3,328.05\"/>\n<polygon id=\"0x1472ea0\" class=\"l70d20\" points=\"97.3,297.55 113.1,297.55 113.1,300.85 97.3,300.85\"/>\n<polygon id=\"0x1472f70\" class=\"l70d20\" points=\"130.3,270.35 146.1,270.35 146.1,273.65 130.3,273.65\"/>\n<polygon id=\"0x14b3480\" class=\"l70d20\" points=\"97.3,243.15 113.1,243.15 113.1,246.45 97.3,246.45\"/>\n<polygon id=\"0x14b3550\" class=\"l70d20\" points=\"130.3,215.95 146.1,215.95 146.1,219.25 130.3,219.25\"/>\n<polygon id=\"0x153fad0\" class=\"l70d20\" points=\"97.3,188.75 113.1,188.75 113.1,192.05 97.3,192.05\"/>\n<polygon id=\"0x153fba0\" class=\"l70d20\" points=\"130.3,161.55 146.1,161.55 146.1,164.85 130.3,164.85\"/>\n<polygon id=\"0x1602240\" class=\"l70d20\" points=\"97.3,134.35 113.1,134.35 113.1,137.65 97.3,137.65\"/>\n<polygon id=\"0x1602310\" class=\"l70d20\" points=\"130.3,107.15 146.1,107.15 146.1,110.45 130.3,110.45\"/>\n<polygon id=\"0x130a420\" class=\"l70d44\" points=\"98.2,461.4 100.2,461.4 100.2,463.4 98.2,463.4\"/>\n<polygon id=\"0x130a4f0\" class=\"l70d44\" points=\"102.2,461.4 104.2,461.4 104.2,463.4 102.2,463.4\"/>\n<polygon id=\"0x1776460\" class=\"l70d44\" points=\"106.2,461.4 108.2,461.4 108.2,463.4 106.2,463.4\"/>\n<polygon id=\"0x1776530\" class=\"l70d44\" points=\"110.2,461.4 112.2,461.4 112.2,463.4 110.2,463.4\"/>\n<polygon id=\"0x17a5b80\" class=\"l70d44\" points=\"131.2,434.2 133.2,434.2 133.2,436.2 131.2,436.2\"/>\n<polygon id=\"0x17a5c50\" class=\"l70d44\" points=\"135.2,434.2 137.2,434.2 137.2,436.2 135.2,436.2\"/>\n<polygon id=\"0x1811dd0\" class=\"l70d44\" points=\"139.2,434.2 141.2,434.2 141.2,436.2 139.2,436.2\"/>\n<polygon id=\"0x1811ea0\" class=\"l70d44\" points=\"143.2,434.2 145.2,434.2 145.2,436.2 143.2,436.2\"/>\n<polygon id=\"0x1886330\" class=\"l70d44\" points=\"98.2,407 100.2,407 100.2,409 98.2,409\"/>\n<polygon id=\"0x1886400\" class=\"l70d44\" points=\"102.2,407 104.2,407 104.2,409 102.2,409\"/>\n<polygon id=\"0x18593b0\" class=\"l70d44\" points=\"106.2,407 108.2,407 108.2,409 106.2,409\"/>\n<polygon id=\"0x1859480\" class=\"l70d44\" points=\"110.2,407 112.2,407 112.2,409 110.2,409\"/>\n<polygon id=\"0x1960820\" class=\"l70d44\" points=\"131.2,379.8 133.2,379.8 133.2,381.8 131.2,381.8\"/>\n<polygon id=\"0x19608f0\" class=\"l70d44\" points=\"135.2,379.8 137.2,379.8 137.2,381.8 135.2,381.8\"/>\n<polygon id=\"0x19bc940\" class=\"l70d44\" points=\"139.2,379.8 141.2,379.8 141.2,381.8 139.2,381.8\"/>\n<polygon id=\"0x19bca10\" class=\"l70d44\" points=\"143.2,379.8 145.2,379.8 145.2,381.8 143.2,381.8\"/>\n<polygon id=\"0x1a6d410\" class=\"l70d44\" points=\"98.2,352.6 100.2,352.6 100.2,354.6 98.2,354.6\"/>\n<polygon id=\"0x1a6d4e0\" class=\"l70d44\" points=\"102.2,352.6 104.2,352.6 104.2,354.6 102.2,354.6\"/>\n<polygon id=\"0x196e6e0\" class=\"l70d44\" points=\"106.2,352.6 108.2,352.6 108.2,354.6 106.2,354.6\"/>\n<polygon id=\"0x196e7b0\" class=\"l70d44\" points=\"110.2,352.6 112.2,352.6 112.2,354.6 110.2,354.6\"/>\n<polygon id=\"0x1c32540\" class=\"l70d44\" points=\"131.2,325.4 133.2,325.4 133.2,327.4 131.2,327.4\"/>\n<polygon id=\"0x1c32610\" class=\"l70d44\" points=\"135.2,325.4 137.2,325.4 137.2,327.4 135.2,327.4\"/>\n<polygon id=\"0x1c8eea0\" class=\"l70d44\" points=\"139.2,325.4 141.2,325.4 141.2,327.4 139.2,327.4\"/>\n<polygon id=\"0x1c8ef70\" class=\"l70d44\" points=\"143.2,325.4 145.2,325.4 145.2,327.4 143.2,327.4\"/>\n<polygon id=\"0x1d13840\" class=\"l70d44\" points=\"98.2,298.2 100.2,298.2 100.2,300.2 98.2,300.2\"/>\n<polygon id=\"0x1d13910\" class=\"l70d44\" points=\"102.2,298.2 104.2,298.2 104.2,300.2 102.2,300.2\"/>\n<polygon id=\"0x1d30630\" class=\"l70d44\" points=\"106.2,298.2 108.2,298.2 108.2,300.2 106.2,300.2\"/>\n<polygon id=\"0x1d30700\" class=\"l70d44\" points=\"110.2,298.2 112.2,298.2 112.2,300.2 110.2,300.2\"/>\n<polygon id=\"0x1d7a250\" class=\"l70d44\" points=\"131.2,271 133.2,271 133.2,273 131.2,273\"/>\n<polygon id=\"0x1d7a320\" class=\"l70d44\" points=\"135.2,271 137.2,271 137.2,273 135.2,273\"/>\n<polygon id=\"0x1de8410\" class=\"l70d44\" points=\"139.2,271 141.2,271 141.2,273 139.2,273\"/>\n<polygon id=\"0x1de84e0\" class=\"l70d44\" points=\"143.2,271 145.2,271 145.2,273 143.2,273\"/>\n<polygon id=\"0x1e18b40\" class=\"l70d44\" points=\"98.2,243.8 100.2,243.8 100.2,245.8 98.2,245.8\"/>\n<polygon id=\"0x1e18c10\" class=\"l70d44\" points=\"102.2,243.8 104.2,243.8 104.2,245.8 102.2,245.8\"/>\n<polygon id=\"0x1e47460\" class=\"l70d44\" points=\"106.2,243.8 108.2,243.8 108.2,245.8 106.2,245.8\"/>\n<polygon id=\"0x1e47530\" class=\"l70d44\" points=\"110.2,243.8 112.2,243.8 112.2,245.8 110.2,245.8\"/>\n<polygon id=\"0x1e6b7a0\" class=\"l70d44\" points=\"131.2,216.6 133.2,216.6 133.2,218.6 131.2,218.6\"/>\n<polygon id=\"0x1e6b870\" class=\"l70d44\" points=\"135.2,216.6 137.2,216.6 137.2,218.6 135.2,218.6\"/>\n<polygon id=\"0x1e74910\" class=\"l70d44\" points=\"139.2,216.6 141.2,216.6 141.2,218.6 139.2,218.6\"/>\n<polygon id=\"0x1e749e0\" class=\"l70d44\" points=\"143.2,216.6 145.2,216.6 145.2,218.6 143.2,218.6\"/>\n<polygon id=\"0x1f572d0\" class=\"l70d44\" points=\"98.2,189.4 100.2,189.4 100.2,191.4 98.2,191.4\"/>\n<polygon id=\"0x1f573a0\" class=\"l70d44\" points=\"102.2,189.4 104.2,189.4 104.2,191.4 102.2,191.4\"/>\n<polygon id=\"0x2113d20\" class=\"l70d44\" points=\"106.2,189.4 108.2,189.4 108.2,191.4 106.2,191.4\"/>\n<polygon id=\"0x2113df0\" class=\"l70d44\" points=\"110.2,189.4 112.2,189.4 112.2,191.4 110.2,191.4\"/>\n<polygon id=\"0x2193890\" class=\"l70d44\" points=\"131.2,162.2 133.2,162.2 133.2,164.2 131.2,164.2\"/>\n<polygon id=\"0x2193960\" class=\"l70d44\" points=\"135.2,162.2 137.2,162.2 137.2,164.2 135.2,164.2\"/>\n<polygon id=\"0x2026770\" class=\"l70d44\" points=\"139.2,162.2 141.2,162.2 141.2,164.2 139.2,164.2\"/>\n<polygon id=\"0x2026840\" class=\"l70d44\" points=\"143.2,162.2 145.2,162.2 145.2,164.2 143.2,164.2\"/>\n<polygon id=\"0x1156f30\" class=\"l70d44\" points=\"98.2,135 100.2,135 100.2,137 98.2,137\"/>\n<polygon id=\"0x1157000\" class=\"l70d44\" points=\"102.2,135 104.2,135 104.2,137 102.2,137\"/>\n<polygon id=\"0x11da5f0\" class=\"l70d44\" points=\"106.2,135 108.2,135 108.2,137 106.2,137\"/>\n<polygon id=\"0x11da6c0\" class=\"l70d44\" points=\"110.2,135 112.2,135 112.2,137 110.2,137\"/>\n<polygon id=\"0x11f4fc0\" class=\"l70d44\" points=\"131.2,107.8 133.2,107.8 133.2,109.8 131.2,109.8\"/>\n<polygon id=\"0x11f5030\" class=\"l70d44\" points=\"135.2,107.8 137.2,107.8 137.2,109.8 135.2,109.8\"/>\n<polygon id=\"0x11f5100\" class=\"l70d44\" points=\"139.2,107.8 141.2,107.8 141.2,109.8 139.2,109.8\"/>\n<polygon id=\"0x11df7c0\" class=\"l70d44\" points=\"143.2,107.8 145.2,107.8 145.2,109.8 143.2,109.8\"/>\n<polygon id=\"0x11df890\" class=\"l71d20\" points=\"97.2,106.4 113.2,106.4 113.2,464.8 97.2,464.8\"/>\n<polygon id=\"0x1270ef0\" class=\"l71d20\" points=\"130.2,106.4 146.2,106.4 146.2,464.8 130.2,464.8\"/>\n<polygon id=\"0x13212f0\" class=\"l71d16\" points=\"130.2,106.4 146.2,106.4 146.2,464.8 130.2,464.8\"/>\n<polygon id=\"0x148dae0\" class=\"l71d16\" points=\"97.2,106.4 113.2,106.4 113.2,464.8 97.2,464.8\"/>\n<polygon id=\"0x14d5320\" class=\"l69d16\" points=\"322.9,531.2 325.7,531.2 325.7,571.2 322.9,571.2\"/>\n<polygon id=\"0x15350b0\" class=\"l69d16\" points=\"0.9,0 3.7,0 3.7,40 0.9,40\"/>\n<use transform=\"translate(96.6 108.8)\" xlink:href=\"#sky130_ef_sc_hd__decap_12\"/>\n<use transform=\"translate(69 163.2) scale(1 -1)\" xlink:href=\"#sky130_ef_sc_hd__decap_12\"/>\n<use transform=\"translate(55.2 108.8)\" xlink:href=\"#sky130_fd_sc_hd__decap_3\"/>\n<use transform=\"translate(55.2 163.2) scale(1 -1)\" xlink:href=\"#sky130_fd_sc_hd__decap_3\"/>\n<use transform=\"translate(96.6 108.8) rotate(180) scale(1 -1)\" xlink:href=\"#sky130_fd_sc_hd__clkbuf_4\"/>\n<use transform=\"translate(151.8 108.8)\" xlink:href=\"#sky130_fd_sc_hd__decap_6\"/>\n<use transform=\"translate(124.2 163.2) scale(1 -1)\" xlink:href=\"#sky130_ef_sc_hd__decap_12\"/>\n<use transform=\"translate(179.4 108.8)\" xlink:href=\"#sky130_fd_sc_hd__fill_1\"/>\n<use transform=\"translate(188.6 108.8)\" xlink:href=\"#sky130_ef_sc_hd__decap_12\"/>\n<use transform=\"translate(179.4 163.2) scale(1 -1)\" xlink:href=\"#sky130_ef_sc_hd__decap_12\"/>\n<use transform=\"translate(184 108.8)\" xlink:href=\"#sky130_fd_sc_hd__tapvpwrvgnd_1\"/>\n<use transform=\"translate(243.8 108.8)\" xlink:href=\"#sky130_fd_sc_hd__decap_6\"/>\n<use transform=\"translate(271.4 108.8)\" xlink:href=\"#sky130_fd_sc_hd__fill_1\"/>\n<use transform=\"translate(234.6 163.2) scale(1 -1)\" xlink:href=\"#sky130_fd_sc_hd__decap_8\"/>\n<use transform=\"translate(271.4 163.2) scale(1 -1)\" xlink:href=\"#sky130_fd_sc_hd__fill_1\"/>\n<use transform=\"translate(289.8 108.8) rotate(180) scale(1 -1)\" xlink:href=\"#sky130_fd_sc_hd__decap_3\"/>\n<use transform=\"translate(289.8 163.2) rotate(180)\" xlink:href=\"#sky130_fd_sc_hd__decap_3\"/>\n<use transform=\"translate(69 163.2)\" xlink:href=\"#sky130_ef_sc_hd__decap_12\"/>\n<use transform=\"translate(55.2 163.2)\" xlink:href=\"#sky130_fd_sc_hd__decap_3\"/>\n<use transform=\"translate(124.2 163.2)\" xlink:href=\"#sky130_ef_sc_hd__decap_12\"/>\n<use transform=\"translate(179.4 163.2)\" xlink:href=\"#sky130_fd_sc_hd__fill_1\"/>\n<use transform=\"translate(188.6 163.2)\" xlink:href=\"#sky130_ef_sc_hd__decap_12\"/>\n<use transform=\"translate(184 163.2)\" xlink:href=\"#sky130_fd_sc_hd__tapvpwrvgnd_1\"/>\n<use transform=\"translate(243.8 163.2)\" xlink:href=\"#sky130_fd_sc_hd__decap_6\"/>\n<use transform=\"translate(271.4 163.2)\" xlink:href=\"#sky130_fd_sc_hd__fill_1\"/>\n<use transform=\"translate(289.8 163.2) rotate(180) scale(1 -1)\" xlink:href=\"#sky130_fd_sc_hd__decap_3\"/>\n<use transform=\"translate(69 217.6) scale(1 -1)\" xlink:href=\"#sky130_ef_sc_hd__decap_12\"/>\n<use transform=\"translate(55.2 217.6) scale(1 -1)\" xlink:href=\"#sky130_fd_sc_hd__decap_3\"/>\n<use transform=\"translate(124.2 217.6) scale(1 -1)\" xlink:href=\"#sky130_ef_sc_hd__decap_12\"/>\n<use transform=\"translate(179.4 217.6) scale(1 -1)\" xlink:href=\"#sky130_ef_sc_hd__decap_12\"/>\n<use transform=\"translate(234.6 217.6) scale(1 -1)\" xlink:href=\"#sky130_fd_sc_hd__decap_8\"/>\n<use transform=\"translate(271.4 217.6) scale(1 -1)\" xlink:href=\"#sky130_fd_sc_hd__fill_1\"/>\n<use transform=\"translate(289.8 217.6) rotate(180)\" xlink:href=\"#sky130_fd_sc_hd__decap_3\"/>\n<use transform=\"translate(69 217.6)\" xlink:href=\"#sky130_ef_sc_hd__decap_12\"/>\n<use transform=\"translate(55.2 217.6)\" xlink:href=\"#sky130_fd_sc_hd__decap_3\"/>\n<use transform=\"translate(124.2 217.6)\" xlink:href=\"#sky130_ef_sc_hd__decap_12\"/>\n<use transform=\"translate(179.4 217.6)\" xlink:href=\"#sky130_fd_sc_hd__fill_1\"/>\n<use transform=\"translate(188.6 217.6)\" xlink:href=\"#sky130_ef_sc_hd__decap_12\"/>\n<use transform=\"translate(184 217.6)\" xlink:href=\"#sky130_fd_sc_hd__tapvpwrvgnd_1\"/>\n<use transform=\"translate(243.8 217.6)\" xlink:href=\"#sky130_fd_sc_hd__decap_6\"/>\n<use transform=\"translate(271.4 217.6)\" xlink:href=\"#sky130_fd_sc_hd__fill_1\"/>\n<use transform=\"translate(289.8 217.6) rotate(180) scale(1 -1)\" xlink:href=\"#sky130_fd_sc_hd__decap_3\"/>\n<use transform=\"translate(69 272) scale(1 -1)\" xlink:href=\"#sky130_ef_sc_hd__decap_12\"/>\n<use transform=\"translate(55.2 272) scale(1 -1)\" xlink:href=\"#sky130_fd_sc_hd__decap_3\"/>\n<use transform=\"translate(124.2 272) scale(1 -1)\" xlink:href=\"#sky130_ef_sc_hd__decap_12\"/>\n<use transform=\"translate(179.4 272) scale(1 -1)\" xlink:href=\"#sky130_ef_sc_hd__decap_12\"/>\n<use transform=\"translate(234.6 272) scale(1 -1)\" xlink:href=\"#sky130_fd_sc_hd__decap_8\"/>\n<use transform=\"translate(271.4 272) scale(1 -1)\" xlink:href=\"#sky130_fd_sc_hd__fill_1\"/>\n<use transform=\"translate(289.8 272) rotate(180)\" xlink:href=\"#sky130_fd_sc_hd__decap_3\"/>\n<use transform=\"translate(69 272)\" xlink:href=\"#sky130_ef_sc_hd__decap_12\"/>\n<use transform=\"translate(69 326.4) scale(1 -1)\" xlink:href=\"#sky130_ef_sc_hd__decap_12\"/>\n<use transform=\"translate(55.2 272)\" xlink:href=\"#sky130_fd_sc_hd__decap_3\"/>\n<use transform=\"translate(55.2 326.4) scale(1 -1)\" xlink:href=\"#sky130_fd_sc_hd__decap_3\"/>\n<use transform=\"translate(124.2 272)\" xlink:href=\"#sky130_ef_sc_hd__decap_12\"/>\n<use transform=\"translate(124.2 326.4) scale(1 -1)\" xlink:href=\"#sky130_ef_sc_hd__decap_12\"/>\n<use transform=\"translate(179.4 272)\" xlink:href=\"#sky130_fd_sc_hd__fill_1\"/>\n<use transform=\"translate(188.6 272)\" xlink:href=\"#sky130_ef_sc_hd__decap_12\"/>\n<use transform=\"translate(179.4 326.4) scale(1 -1)\" xlink:href=\"#sky130_fd_sc_hd__decap_6\"/>\n<use transform=\"translate(220.8 326.4) scale(1 -1)\" xlink:href=\"#sky130_ef_sc_hd__decap_12\"/>\n<use transform=\"translate(184 272)\" xlink:href=\"#sky130_fd_sc_hd__tapvpwrvgnd_1\"/>\n<use transform=\"translate(220.8 326.4) rotate(180)\" xlink:href=\"#sky130_fd_sc_hd__inv_2\"/>\n<use transform=\"translate(243.8 272)\" xlink:href=\"#sky130_fd_sc_hd__decap_6\"/>\n<use transform=\"translate(271.4 272)\" xlink:href=\"#sky130_fd_sc_hd__fill_1\"/>\n<use transform=\"translate(289.8 272) rotate(180) scale(1 -1)\" xlink:href=\"#sky130_fd_sc_hd__decap_3\"/>\n<use transform=\"translate(289.8 326.4) rotate(180)\" xlink:href=\"#sky130_fd_sc_hd__decap_3\"/>\n<use transform=\"translate(69 326.4)\" xlink:href=\"#sky130_ef_sc_hd__decap_12\"/>\n<use transform=\"translate(55.2 326.4)\" xlink:href=\"#sky130_fd_sc_hd__decap_3\"/>\n<use transform=\"translate(124.2 326.4)\" xlink:href=\"#sky130_ef_sc_hd__decap_12\"/>\n<use transform=\"translate(179.4 326.4)\" xlink:href=\"#sky130_fd_sc_hd__fill_1\"/>\n<use transform=\"translate(188.6 326.4)\" xlink:href=\"#sky130_ef_sc_hd__decap_12\"/>\n<use transform=\"translate(184 326.4)\" xlink:href=\"#sky130_fd_sc_hd__tapvpwrvgnd_1\"/>\n<use transform=\"translate(243.8 326.4)\" xlink:href=\"#sky130_fd_sc_hd__decap_6\"/>\n<use transform=\"translate(271.4 326.4)\" xlink:href=\"#sky130_fd_sc_hd__fill_1\"/>\n<use transform=\"translate(289.8 326.4) rotate(180) scale(1 -1)\" xlink:href=\"#sky130_fd_sc_hd__decap_3\"/>\n<use transform=\"translate(69 380.8) scale(1 -1)\" xlink:href=\"#sky130_ef_sc_hd__decap_12\"/>\n<use transform=\"translate(55.2 380.8) scale(1 -1)\" xlink:href=\"#sky130_fd_sc_hd__decap_3\"/>\n<use transform=\"translate(124.2 380.8) scale(1 -1)\" xlink:href=\"#sky130_ef_sc_hd__decap_12\"/>\n<use transform=\"translate(179.4 380.8) scale(1 -1)\" xlink:href=\"#sky130_ef_sc_hd__decap_12\"/>\n<use transform=\"translate(234.6 380.8) scale(1 -1)\" xlink:href=\"#sky130_fd_sc_hd__decap_8\"/>\n<use transform=\"translate(271.4 380.8) scale(1 -1)\" xlink:href=\"#sky130_fd_sc_hd__fill_1\"/>\n<use transform=\"translate(289.8 380.8) rotate(180)\" xlink:href=\"#sky130_fd_sc_hd__decap_3\"/>\n<use transform=\"translate(69 380.8)\" xlink:href=\"#sky130_ef_sc_hd__decap_12\"/>\n<use transform=\"translate(55.2 380.8)\" xlink:href=\"#sky130_fd_sc_hd__decap_3\"/>\n<use transform=\"translate(124.2 380.8)\" xlink:href=\"#sky130_ef_sc_hd__decap_12\"/>\n<use transform=\"translate(179.4 380.8)\" xlink:href=\"#sky130_fd_sc_hd__fill_1\"/>\n<use transform=\"translate(188.6 380.8)\" xlink:href=\"#sky130_ef_sc_hd__decap_12\"/>\n<use transform=\"translate(184 380.8)\" xlink:href=\"#sky130_fd_sc_hd__tapvpwrvgnd_1\"/>\n<use transform=\"translate(243.8 380.8)\" xlink:href=\"#sky130_fd_sc_hd__decap_6\"/>\n<use transform=\"translate(271.4 380.8)\" xlink:href=\"#sky130_fd_sc_hd__fill_1\"/>\n<use transform=\"translate(289.8 380.8) rotate(180) scale(1 -1)\" xlink:href=\"#sky130_fd_sc_hd__decap_3\"/>\n<use transform=\"translate(69 435.2) scale(1 -1)\" xlink:href=\"#sky130_ef_sc_hd__decap_12\"/>\n<use transform=\"translate(55.2 435.2) scale(1 -1)\" xlink:href=\"#sky130_fd_sc_hd__decap_3\"/>\n<use transform=\"translate(124.2 435.2) scale(1 -1)\" xlink:href=\"#sky130_ef_sc_hd__decap_12\"/>\n<use transform=\"translate(179.4 435.2) scale(1 -1)\" xlink:href=\"#sky130_ef_sc_hd__decap_12\"/>\n<use transform=\"translate(234.6 435.2) scale(1 -1)\" xlink:href=\"#sky130_fd_sc_hd__decap_8\"/>\n<use transform=\"translate(271.4 435.2) scale(1 -1)\" xlink:href=\"#sky130_fd_sc_hd__fill_1\"/>\n<use transform=\"translate(289.8 435.2) rotate(180)\" xlink:href=\"#sky130_fd_sc_hd__decap_3\"/>\n<use transform=\"translate(69 435.2)\" xlink:href=\"#sky130_ef_sc_hd__decap_12\"/>\n<use transform=\"translate(55.2 435.2)\" xlink:href=\"#sky130_fd_sc_hd__decap_3\"/>\n<use transform=\"translate(124.2 435.2)\" xlink:href=\"#sky130_ef_sc_hd__decap_12\"/>\n<use transform=\"translate(179.4 435.2)\" xlink:href=\"#sky130_fd_sc_hd__fill_1\"/>\n<use transform=\"translate(188.6 435.2)\" xlink:href=\"#sky130_ef_sc_hd__decap_12\"/>\n<use transform=\"translate(184 435.2)\" xlink:href=\"#sky130_fd_sc_hd__tapvpwrvgnd_1\"/>\n<use transform=\"translate(243.8 435.2)\" xlink:href=\"#sky130_fd_sc_hd__decap_4\"/>\n<use transform=\"translate(289.8 435.2) rotate(180) scale(1 -1)\" xlink:href=\"#sky130_fd_sc_hd__decap_3\"/>\n<use transform=\"translate(262.2 435.2)\" xlink:href=\"#sky130_fd_sc_hd__clkbuf_1\"/>\n<text id=\"0x1270fc0\" class=\"l68t5\" text-anchor=\"start\" dominant-baseline=\"text-before-edge\" transform=\"translate(172.5 435.2) scale(1 -1)\">VGND</text>\n<text id=\"0x1271050\" class=\"l68t5\" text-anchor=\"start\" dominant-baseline=\"text-before-edge\" transform=\"translate(172.5 462.4) scale(1 -1)\">VPWR</text>\n<text id=\"0x12aa300\" class=\"l68t5\" text-anchor=\"start\" dominant-baseline=\"text-before-edge\" transform=\"translate(299 447.1) scale(1 -1)\">in</text>\n<text id=\"0x12aa390\" class=\"l69t5\" text-anchor=\"start\" dominant-baseline=\"text-before-edge\" transform=\"translate(218.5 377.4) scale(1 -1)\">net1</text>\n<text id=\"0x12aa420\" class=\"l68t5\" text-anchor=\"start\" dominant-baseline=\"text-before-edge\" transform=\"translate(151.8 120.7) scale(1 -1)\">net2</text>\n<text id=\"0x13211d0\" class=\"l69t5\" text-anchor=\"start\" dominant-baseline=\"text-before-edge\" transform=\"translate(2.3 77.7) scale(1 -1)\">out</text>\n<text id=\"0x1321260\" class=\"l71t5\" text-anchor=\"middle\" dominant-baseline=\"central\" transform=\"translate(138.2 285.6) rotate(90) scale(1.2) scale(1 -1)\">VGND</text>\n<text id=\"0x148da50\" class=\"l71t5\" text-anchor=\"middle\" dominant-baseline=\"central\" transform=\"translate(105.2 285.6) rotate(90) scale(1.2) scale(1 -1)\">VPWR</text>\n<text id=\"0x148dbb0\" class=\"l69t5\" text-anchor=\"middle\" dominant-baseline=\"central\" transform=\"translate(324.3 551.2) rotate(90) scale(0.14) scale(1 -1)\">in</text>\n<text id=\"0x14d53f0\" class=\"l69t5\" text-anchor=\"middle\" dominant-baseline=\"central\" transform=\"translate(2.3 20) rotate(90) scale(0.14) scale(1 -1)\">out</text>\n</g>\n</svg>"
          },
          "metadata": {},
          "execution_count": 5
        }
      ]
    },
    {
      "cell_type": "markdown",
      "source": [
        "## Display metrics"
      ],
      "metadata": {
        "id": "LMXZS3JseWeV"
      }
    },
    {
      "cell_type": "code",
      "source": [
        "import pandas as pd\n",
        "import pathlib\n",
        "\n",
        "pd.options.display.max_rows = None\n",
        "reports = sorted(pathlib.Path('runs').glob('*/reports/metrics.csv'))\n",
        "df = pd.read_csv(reports[-1])\n",
        "df.transpose()"
      ],
      "metadata": {
        "id": "vNejTYF1eVGu"
      },
      "execution_count": null,
      "outputs": []
    },
    {
      "cell_type": "markdown",
      "source": [
        "# 2. A Digital Spiking Neuron"
      ],
      "metadata": {
        "id": "lnJgE4YPrtXp"
      }
    },
    {
      "cell_type": "code",
      "source": [
        "%%writefile leaky.v\n",
        "module leaky (\n",
        "    input wire               clk,\n",
        "    input wire               reset,\n",
        "    input wire [7:0]         post_synaptic,\n",
        "    output reg               spike\n",
        ");\n",
        "\n",
        "    reg  [7:0] state, threshold;\n",
        "    wire [7:0] state_hist;\n",
        "\n",
        "    assign state_hist = post_synaptic + (spike ? 0 : (state >> 1)); // scale by 1/2\n",
        "\n",
        "    always @(posedge clk) begin\n",
        "        if (reset) begin\n",
        "            threshold <= 128;\n",
        "            state <= 0;\n",
        "            spike <= 0;\n",
        "        end else begin\n",
        "            state <= state_hist;\n",
        "            spike <= (state >= threshold);\n",
        "\n",
        "        end\n",
        "    end\n",
        "\n",
        "endmodule"
      ],
      "metadata": {
        "id": "kOisL4qRsD77",
        "outputId": "36c87d8e-452b-43c1-c26d-5f9aebd9787f",
        "colab": {
          "base_uri": "https://localhost:8080/"
        }
      },
      "execution_count": null,
      "outputs": [
        {
          "output_type": "stream",
          "name": "stdout",
          "text": [
            "Overwriting leaky.v\n"
          ]
        }
      ]
    },
    {
      "cell_type": "code",
      "source": [
        "!rm -r config.json"
      ],
      "metadata": {
        "id": "VBSn6DTTaQ6g"
      },
      "execution_count": null,
      "outputs": []
    },
    {
      "cell_type": "code",
      "source": [
        "%%writefile config.json\n",
        "\n",
        "{\n",
        "    \"DESIGN_NAME\": \"leaky\",\n",
        "    \"VERILOG_FILES\": \"dir::leaky.v\",\n",
        "    \"CLOCK_PORT\": \"CLK\",\n",
        "    \"ROUTING_CORES\": 32,\n",
        "    \"RUN_KLAYOUT_XOR\": 0,\n",
        "    \"RUN_KLAYOUT_DRC\": 0,\n",
        "    \"CLOCK_PERIOD\": 20.0,\n",
        "    \"FP_SIZING\": \"absolute\",\n",
        "    \"DIE_AREA\": \"0 0 800 800\",\n",
        "    \"PL_TARGET_DENSITY\": 0.3,\n",
        "    \"DESIGN_IS_CORE\": true\n",
        "}"
      ],
      "metadata": {
        "id": "zxCdwzbUs2__",
        "outputId": "b312b35e-33e3-4f34-a4c7-916c16bc395a",
        "colab": {
          "base_uri": "https://localhost:8080/"
        }
      },
      "execution_count": null,
      "outputs": [
        {
          "output_type": "stream",
          "name": "stdout",
          "text": [
            "Writing config.json\n"
          ]
        }
      ]
    },
    {
      "cell_type": "code",
      "source": [
        "%env PDK=sky130A\n",
        "! rm -rf runs/\n",
        "!flow.tcl -design ."
      ],
      "metadata": {
        "id": "F5HORgtmtPfn",
        "outputId": "9a20e47e-08ef-40eb-b245-d758a9be0307",
        "colab": {
          "base_uri": "https://localhost:8080/"
        }
      },
      "execution_count": null,
      "outputs": [
        {
          "output_type": "stream",
          "name": "stdout",
          "text": [
            "env: PDK=sky130A\n",
            "OpenLane 2023.04.12_0_g23e367a9-conda\n",
            "All rights reserved. (c) 2020-2022 Efabless Corporation and contributors.\n",
            "Available under the Apache License, version 2.0. See the LICENSE file for more details.\n",
            "\n",
            "\u001b[36m[INFO]: Using configuration in 'config.json'...\u001b[39m\n",
            "\u001b[36m[INFO]: PDK Root: /content/conda-env/share/pdk\u001b[39m\n",
            "\u001b[36m[INFO]: Process Design Kit: sky130A\u001b[39m\n",
            "\u001b[36m[INFO]: Standard Cell Library: sky130_fd_sc_hd\u001b[39m\n",
            "\u001b[36m[INFO]: Optimization Standard Cell Library: sky130_fd_sc_hd\u001b[39m\n",
            "\u001b[36m[INFO]: Run Directory: /content/runs/RUN_2023.05.21_17.46.00\u001b[39m\n",
            "\u001b[36m[INFO]: Preparing LEF files for the nom corner...\u001b[39m\n",
            "\u001b[36m[INFO]: Preparing LEF files for the min corner...\u001b[39m\n",
            "\u001b[36m[INFO]: Preparing LEF files for the max corner...\u001b[39m\n",
            "[STEP 1]\n",
            "\u001b[36m[INFO]: Running Synthesis (log: runs/RUN_2023.05.21_17.46.00/logs/synthesis/1-synthesis.log)...\u001b[39m\n",
            "[STEP 2]\n",
            "\u001b[36m[INFO]: Running Single-Corner Static Timing Analysis (log: runs/RUN_2023.05.21_17.46.00/logs/synthesis/2-sta.log)...\u001b[39m\n",
            "[STEP 3]\n",
            "\u001b[36m[INFO]: Running Initial Floorplanning (log: runs/RUN_2023.05.21_17.46.00/logs/floorplan/3-initial_fp.log)...\u001b[39m\n",
            "\u001b[36m[INFO]: Floorplanned with width 788.9 and height 777.92.\u001b[39m\n",
            "[STEP 4]\n",
            "\u001b[36m[INFO]: Running IO Placement...\u001b[39m\n",
            "[STEP 5]\n",
            "\u001b[36m[INFO]: Running Tap/Decap Insertion (log: runs/RUN_2023.05.21_17.46.00/logs/floorplan/5-tap.log)...\u001b[39m\n",
            "\u001b[36m[INFO]: Power planning with power {VPWR} and ground {VGND}...\u001b[39m\n",
            "[STEP 6]\n",
            "\u001b[36m[INFO]: Generating PDN (log: runs/RUN_2023.05.21_17.46.00/logs/floorplan/6-pdn.log)...\u001b[39m\n",
            "[STEP 7]\n",
            "\u001b[36m[INFO]: Running Global Placement (log: runs/RUN_2023.05.21_17.46.00/logs/placement/7-global.log)...\u001b[39m\n",
            "[STEP 8]\n",
            "\u001b[36m[INFO]: Running Single-Corner Static Timing Analysis (log: runs/RUN_2023.05.21_17.46.00/logs/placement/8-sta-global.log)...\u001b[39m\n",
            "[STEP 9]\n",
            "\u001b[36m[INFO]: Running Placement Resizer Design Optimizations (log: runs/RUN_2023.05.21_17.46.00/logs/placement/9-resizer.log)...\u001b[39m\n",
            "[STEP 10]\n",
            "\u001b[36m[INFO]: Running Detailed Placement (log: runs/RUN_2023.05.21_17.46.00/logs/placement/10-detailed.log)...\u001b[39m\n",
            "[STEP 11]\n",
            "\u001b[36m[INFO]: Running Single-Corner Static Timing Analysis (log: runs/RUN_2023.05.21_17.46.00/logs/placement/11-sta.log)...\u001b[39m\n",
            "[STEP 12]\n",
            "\u001b[36m[INFO]: Running Clock Tree Synthesis (log: runs/RUN_2023.05.21_17.46.00/logs/cts/12-cts.log)...\u001b[39m\n",
            "[STEP 13]\n",
            "\u001b[36m[INFO]: Running Single-Corner Static Timing Analysis (log: runs/RUN_2023.05.21_17.46.00/logs/cts/13-sta.log)...\u001b[39m\n",
            "[STEP 14]\n",
            "\u001b[36m[INFO]: Running Placement Resizer Timing Optimizations (log: runs/RUN_2023.05.21_17.46.00/logs/cts/14-resizer.log)...\u001b[39m\n",
            "[STEP 15]\n",
            "\u001b[36m[INFO]: Running Global Routing Resizer Design Optimizations (log: runs/RUN_2023.05.21_17.46.00/logs/routing/15-resizer_design.log)...\u001b[39m\n",
            "[STEP 16]\n",
            "\u001b[36m[INFO]: Running Single-Corner Static Timing Analysis (log: runs/RUN_2023.05.21_17.46.00/logs/routing/16-sta-resizer_design.log)...\u001b[39m\n",
            "[STEP 17]\n",
            "\u001b[36m[INFO]: Running Global Routing Resizer Timing Optimizations (log: runs/RUN_2023.05.21_17.46.00/logs/routing/17-resizer_timing.log)...\u001b[39m\n",
            "[STEP 18]\n",
            "\u001b[36m[INFO]: Running Single-Corner Static Timing Analysis (log: runs/RUN_2023.05.21_17.46.00/logs/routing/18-sta-resizer_timing.log)...\u001b[39m\n",
            "[STEP 19]\n",
            "\u001b[36m[INFO]: Running Global Routing (log: runs/RUN_2023.05.21_17.46.00/logs/routing/19-global.log)...\u001b[39m\n",
            "\u001b[36m[INFO]: Starting OpenROAD Antenna Repair Iterations...\u001b[39m\n",
            "[STEP 20]\n",
            "\u001b[36m[INFO]: Writing Verilog (log: runs/RUN_2023.05.21_17.46.00/logs/routing/19-global_write_netlist.log)...\u001b[39m\n",
            "[STEP 21]\n",
            "\u001b[36m[INFO]: Running Single-Corner Static Timing Analysis (log: runs/RUN_2023.05.21_17.46.00/logs/routing/21-sta-groute.log)...\u001b[39m\n",
            "[STEP 22]\n",
            "\u001b[36m[INFO]: Running Fill Insertion (log: runs/RUN_2023.05.21_17.46.00/logs/routing/22-fill.log)...\u001b[39m\n",
            "[STEP 23]\n",
            "\u001b[36m[INFO]: Running Detailed Routing (log: runs/RUN_2023.05.21_17.46.00/logs/routing/23-detailed.log)...\u001b[39m\n",
            "\u001b[36m[INFO]: No DRC violations after detailed routing.\u001b[39m\n",
            "[STEP 24]\n",
            "\u001b[36m[INFO]: Checking Wire Lengths (log: runs/RUN_2023.05.21_17.46.00/logs/routing/24-wire_lengths.log)...\u001b[39m\n",
            "[STEP 25]\n",
            "\u001b[36m[INFO]: Running SPEF Extraction at the min process corner (log: runs/RUN_2023.05.21_17.46.00/logs/signoff/25-parasitics_extraction.min.log)...\u001b[39m\n",
            "[STEP 26]\n",
            "\u001b[36m[INFO]: Running Multi-Corner Static Timing Analysis at the min process corner (log: runs/RUN_2023.05.21_17.46.00/logs/signoff/26-rcx_mcsta.min.log)...\u001b[39m\n",
            "[STEP 27]\n",
            "\u001b[36m[INFO]: Running SPEF Extraction at the max process corner (log: runs/RUN_2023.05.21_17.46.00/logs/signoff/27-parasitics_extraction.max.log)...\u001b[39m\n",
            "[STEP 28]\n",
            "\u001b[36m[INFO]: Running Multi-Corner Static Timing Analysis at the max process corner (log: runs/RUN_2023.05.21_17.46.00/logs/signoff/28-rcx_mcsta.max.log)...\u001b[39m\n",
            "[STEP 29]\n",
            "\u001b[36m[INFO]: Running SPEF Extraction at the nom process corner (log: runs/RUN_2023.05.21_17.46.00/logs/signoff/29-parasitics_extraction.nom.log)...\u001b[39m\n",
            "[STEP 30]\n",
            "\u001b[36m[INFO]: Running Multi-Corner Static Timing Analysis at the nom process corner (log: runs/RUN_2023.05.21_17.46.00/logs/signoff/30-rcx_mcsta.nom.log)...\u001b[39m\n",
            "[STEP 31]\n",
            "\u001b[36m[INFO]: Running Single-Corner Static Timing Analysis at the nom process corner (log: runs/RUN_2023.05.21_17.46.00/logs/signoff/31-rcx_sta.log)...\u001b[39m\n",
            "\u001b[33m[WARNING]: Module sky130_fd_sc_hd__tapvpwrvgnd_1 blackboxed during sta\u001b[39m\n",
            "\u001b[33m[WARNING]: Module sky130_ef_sc_hd__decap_12 blackboxed during sta\u001b[39m\n",
            "\u001b[33m[WARNING]: Module sky130_fd_sc_hd__fill_1 blackboxed during sta\u001b[39m\n",
            "\u001b[33m[WARNING]: Module sky130_fd_sc_hd__fill_2 blackboxed during sta\u001b[39m\n",
            "[STEP 32]\n",
            "\u001b[36m[INFO]: Creating IR Drop Report (log: runs/RUN_2023.05.21_17.46.00/logs/signoff/32-irdrop.log)...\u001b[39m\n",
            "[STEP 33]\n",
            "\u001b[36m[INFO]: Running Magic to generate various views...\u001b[39m\n",
            "\u001b[36m[INFO]: Streaming out GDSII with Magic (log: runs/RUN_2023.05.21_17.46.00/logs/signoff/33-gdsii.log)...\u001b[39m\n",
            "\u001b[36m[INFO]: Generating MAGLEF views...\u001b[39m\n",
            "\u001b[36m[INFO]: Generating lef with Magic (/content/runs/RUN_2023.05.21_17.46.00/logs/signoff/33-lef.log)...\u001b[39m\n",
            "[STEP 34]\n",
            "\u001b[36m[INFO]: Streaming out GDSII with KLayout (log: runs/RUN_2023.05.21_17.46.00/logs/signoff/34-gdsii-klayout.log)...\u001b[39m\n",
            "[STEP 35]\n",
            "\u001b[36m[INFO]: Running Magic Spice Export from LEF (log: runs/RUN_2023.05.21_17.46.00/logs/signoff/35-spice.log)...\u001b[39m\n",
            "[STEP 36]\n",
            "\u001b[36m[INFO]: Writing Powered Verilog (logs: runs/RUN_2023.05.21_17.46.00/logs/signoff/36-write_powered_def.log, runs/RUN_2023.05.21_17.46.00/logs/signoff/36-write_powered_verilog.log)...\u001b[39m\n",
            "[STEP 37]\n",
            "\u001b[36m[INFO]: Writing Verilog (log: runs/RUN_2023.05.21_17.46.00/logs/signoff/36-write_powered_verilog.log)...\u001b[39m\n",
            "[STEP 38]\n",
            "\u001b[36m[INFO]: Running LVS (log: runs/RUN_2023.05.21_17.46.00/logs/signoff/38-lvs.lef.log)...\u001b[39m\n",
            "[STEP 39]\n",
            "\u001b[36m[INFO]: Running Magic DRC (log: runs/RUN_2023.05.21_17.46.00/logs/signoff/39-drc.log)...\u001b[39m\n",
            "\u001b[36m[INFO]: Converting Magic DRC database to various tool-readable formats...\u001b[39m\n",
            "\u001b[36m[INFO]: No DRC violations after GDS streaming out.\u001b[39m\n",
            "[STEP 40]\n",
            "\u001b[36m[INFO]: Running OpenROAD Antenna Rule Checker (log: runs/RUN_2023.05.21_17.46.00/logs/signoff/40-antenna.log)...\u001b[39m\n",
            "\u001b[36m[INFO]: Saving current set of views in 'runs/RUN_2023.05.21_17.46.00/results/final'...\u001b[39m\n",
            "\u001b[36m[INFO]: Saving runtime environment...\u001b[39m\n",
            "\u001b[36m[INFO]: Generating final set of reports...\u001b[39m\n",
            "\u001b[36m[INFO]: Created manufacturability report at 'runs/RUN_2023.05.21_17.46.00/reports/manufacturability.rpt'.\u001b[39m\n",
            "\u001b[36m[INFO]: Created metrics report at 'runs/RUN_2023.05.21_17.46.00/reports/metrics.csv'.\u001b[39m\n",
            "\u001b[36m[INFO]: There are no max slew, max fanout or max capacitance violations in the design at the typical corner.\u001b[39m\n",
            "\u001b[36m[INFO]: There are no hold violations in the design at the typical corner.\u001b[39m\n",
            "\u001b[36m[INFO]: There are no setup violations in the design at the typical corner.\u001b[39m\n",
            "\u001b[32m[SUCCESS]: Flow complete.\u001b[39m\n",
            "\u001b[36m[INFO]: Note that the following warnings have been generated:\u001b[39m\n",
            "[WARNING]: Module sky130_fd_sc_hd__tapvpwrvgnd_1 blackboxed during sta\n",
            "[WARNING]: Module sky130_ef_sc_hd__decap_12 blackboxed during sta\n",
            "[WARNING]: Module sky130_fd_sc_hd__fill_1 blackboxed during sta\n",
            "[WARNING]: Module sky130_fd_sc_hd__fill_2 blackboxed during sta\n",
            "\n"
          ]
        }
      ]
    },
    {
      "cell_type": "markdown",
      "source": [
        "# More Pretty Pictures"
      ],
      "metadata": {
        "id": "fnlf69D6bcxs"
      }
    },
    {
      "cell_type": "code",
      "source": [
        "gdss = sorted(pathlib.Path('runs').glob('*/results/final/gds/*.gds'))\n",
        "library = gdstk.read_gds(gdss[-1])\n",
        "top_cells = library.top_level()\n",
        "top_cells[0].write_svg('lneuron.svg')\n",
        "IPython.display.SVG('lif-neuron.svg')"
      ],
      "metadata": {
        "id": "hxxrMV1FtY70"
      },
      "execution_count": null,
      "outputs": []
    },
    {
      "cell_type": "markdown",
      "metadata": {
        "id": "uINjDJNf39eD"
      },
      "source": [
        "# 3. TinyODin\n",
        "TinyOdin: https://github.com/ChFrenkel/tinyODIN\n",
        "by Charlotte Frenkel\n",
        "\n",
        "*Note: memories have been omitted in this repo*"
      ]
    },
    {
      "cell_type": "code",
      "source": [
        "! pwd && ls\n",
        "! rm -rf tinyODIN/\n",
        "! git clone https://github.com/sfmth/tinyODIN"
      ],
      "metadata": {
        "colab": {
          "base_uri": "https://localhost:8080/"
        },
        "id": "9oDPoEKobvjo",
        "outputId": "df843b59-29b7-4949-ad26-6264c77e8076"
      },
      "execution_count": null,
      "outputs": [
        {
          "output_type": "stream",
          "name": "stdout",
          "text": [
            "/content\n",
            "bin  conda-env\tsample_data\n",
            "Cloning into 'tinyODIN'...\n",
            "remote: Enumerating objects: 32, done.\u001b[K\n",
            "remote: Counting objects: 100% (32/32), done.\u001b[K\n",
            "remote: Compressing objects: 100% (28/28), done.\u001b[K\n",
            "remote: Total 32 (delta 8), reused 9 (delta 4), pack-reused 0\u001b[K\n",
            "Unpacking objects: 100% (32/32), 202.83 KiB | 7.51 MiB/s, done.\n"
          ]
        }
      ]
    },
    {
      "cell_type": "markdown",
      "metadata": {
        "id": "hp8h5vH8TUXr"
      },
      "source": [
        "## Write configuration\n",
        "\n",
        "[Documentation](https://openlane.readthedocs.io/en/latest/reference/configuration.html)"
      ]
    },
    {
      "cell_type": "code",
      "source": [
        "%%writefile config.json\n",
        "{\n",
        "    \"DESIGN_NAME\": \"tinyODIN\",\n",
        "    \"VERILOG_FILES\": \"dir::tinyODIN/*.v\",\n",
        "    \"CLOCK_PORT\": \"CLK\",\n",
        "    \"ROUTING_CORES\": 32,\n",
        "    \"RUN_KLAYOUT_XOR\": 0,\n",
        "    \"RUN_KLAYOUT_DRC\": 0,\n",
        "    \"CLOCK_PERIOD\": 20.0,\n",
        "    \"FP_SIZING\": \"absolute\",\n",
        "    \"DIE_AREA\": \"0 0 800 800\",\n",
        "    \"PL_TARGET_DENSITY\": 0.3,\n",
        "    \"DESIGN_IS_CORE\": true\n",
        "}"
      ],
      "metadata": {
        "colab": {
          "base_uri": "https://localhost:8080/"
        },
        "id": "fKijOOAYcHnZ",
        "outputId": "2405dc11-a0b7-4623-8e50-b95858306699"
      },
      "execution_count": null,
      "outputs": [
        {
          "output_type": "stream",
          "name": "stdout",
          "text": [
            "Writing config.json\n"
          ]
        }
      ]
    },
    {
      "cell_type": "code",
      "execution_count": null,
      "metadata": {
        "colab": {
          "base_uri": "https://localhost:8080/"
        },
        "id": "VP60fdObiP15",
        "outputId": "c41c52c5-6f14-4580-9e78-6ffd37dbfe90"
      },
      "outputs": [
        {
          "output_type": "stream",
          "name": "stdout",
          "text": [
            "env: PDK=sky130A\n",
            "OpenLane 2023.04.12_0_g23e367a9-conda\n",
            "All rights reserved. (c) 2020-2022 Efabless Corporation and contributors.\n",
            "Available under the Apache License, version 2.0. See the LICENSE file for more details.\n",
            "\n",
            "\u001b[36m[INFO]: Using configuration in 'config.json'...\u001b[39m\n",
            "\u001b[36m[INFO]: PDK Root: /content/conda-env/share/pdk\u001b[39m\n",
            "\u001b[36m[INFO]: Process Design Kit: sky130A\u001b[39m\n",
            "\u001b[36m[INFO]: Standard Cell Library: sky130_fd_sc_hd\u001b[39m\n",
            "\u001b[36m[INFO]: Optimization Standard Cell Library: sky130_fd_sc_hd\u001b[39m\n",
            "\u001b[36m[INFO]: Run Directory: /content/runs/RUN_2023.05.19_13.30.54\u001b[39m\n",
            "\u001b[36m[INFO]: Preparing LEF files for the nom corner...\u001b[39m\n",
            "\u001b[36m[INFO]: Preparing LEF files for the min corner...\u001b[39m\n",
            "\u001b[36m[INFO]: Preparing LEF files for the max corner...\u001b[39m\n",
            "[STEP 1]\n",
            "\u001b[36m[INFO]: Running Synthesis (log: runs/RUN_2023.05.19_13.30.54/logs/synthesis/1-synthesis.log)...\u001b[39m\n",
            "[STEP 2]\n",
            "\u001b[36m[INFO]: Running Single-Corner Static Timing Analysis (log: runs/RUN_2023.05.19_13.30.54/logs/synthesis/2-sta.log)...\u001b[39m\n",
            "[STEP 3]\n",
            "\u001b[36m[INFO]: Running Initial Floorplanning (log: runs/RUN_2023.05.19_13.30.54/logs/floorplan/3-initial_fp.log)...\u001b[39m\n",
            "\u001b[36m[INFO]: Floorplanned with width 788.9 and height 777.92.\u001b[39m\n",
            "[STEP 4]\n",
            "\u001b[36m[INFO]: Running IO Placement...\u001b[39m\n",
            "[STEP 5]\n",
            "\u001b[36m[INFO]: Running Tap/Decap Insertion (log: runs/RUN_2023.05.19_13.30.54/logs/floorplan/5-tap.log)...\u001b[39m\n",
            "\u001b[36m[INFO]: Power planning with power {VPWR} and ground {VGND}...\u001b[39m\n",
            "[STEP 6]\n",
            "\u001b[36m[INFO]: Generating PDN (log: runs/RUN_2023.05.19_13.30.54/logs/floorplan/6-pdn.log)...\u001b[39m\n",
            "[STEP 7]\n",
            "\u001b[36m[INFO]: Running Global Placement (log: runs/RUN_2023.05.19_13.30.54/logs/placement/7-global.log)...\u001b[39m\n",
            "[STEP 8]\n",
            "\u001b[36m[INFO]: Running Single-Corner Static Timing Analysis (log: runs/RUN_2023.05.19_13.30.54/logs/placement/8-sta-global.log)...\u001b[39m\n",
            "[STEP 9]\n",
            "\u001b[36m[INFO]: Running Placement Resizer Design Optimizations (log: runs/RUN_2023.05.19_13.30.54/logs/placement/9-resizer.log)...\u001b[39m\n",
            "[STEP 10]\n",
            "\u001b[36m[INFO]: Running Detailed Placement (log: runs/RUN_2023.05.19_13.30.54/logs/placement/10-detailed.log)...\u001b[39m\n",
            "[STEP 11]\n",
            "\u001b[36m[INFO]: Running Single-Corner Static Timing Analysis (log: runs/RUN_2023.05.19_13.30.54/logs/placement/11-sta.log)...\u001b[39m\n",
            "[STEP 12]\n",
            "\u001b[36m[INFO]: Running Clock Tree Synthesis (log: runs/RUN_2023.05.19_13.30.54/logs/cts/12-cts.log)...\u001b[39m\n",
            "[STEP 13]\n",
            "\u001b[36m[INFO]: Running Single-Corner Static Timing Analysis (log: runs/RUN_2023.05.19_13.30.54/logs/cts/13-sta.log)...\u001b[39m\n",
            "[STEP 14]\n",
            "\u001b[36m[INFO]: Running Placement Resizer Timing Optimizations (log: runs/RUN_2023.05.19_13.30.54/logs/cts/14-resizer.log)...\u001b[39m\n",
            "[STEP 15]\n",
            "\u001b[36m[INFO]: Running Global Routing Resizer Design Optimizations (log: runs/RUN_2023.05.19_13.30.54/logs/routing/15-resizer_design.log)...\u001b[39m\n",
            "[STEP 16]\n",
            "\u001b[36m[INFO]: Running Single-Corner Static Timing Analysis (log: runs/RUN_2023.05.19_13.30.54/logs/routing/16-sta-resizer_design.log)...\u001b[39m\n",
            "[STEP 17]\n",
            "\u001b[36m[INFO]: Running Global Routing Resizer Timing Optimizations (log: runs/RUN_2023.05.19_13.30.54/logs/routing/17-resizer_timing.log)...\u001b[39m\n",
            "[STEP 18]\n",
            "\u001b[36m[INFO]: Running Single-Corner Static Timing Analysis (log: runs/RUN_2023.05.19_13.30.54/logs/routing/18-sta-resizer_timing.log)...\u001b[39m\n",
            "[STEP 19]\n",
            "\u001b[36m[INFO]: Running Global Routing (log: runs/RUN_2023.05.19_13.30.54/logs/routing/19-global.log)...\u001b[39m\n",
            "\u001b[36m[INFO]: Starting OpenROAD Antenna Repair Iterations...\u001b[39m\n",
            "[STEP 20]\n",
            "\u001b[36m[INFO]: Writing Verilog (log: runs/RUN_2023.05.19_13.30.54/logs/routing/19-global_write_netlist.log)...\u001b[39m\n",
            "[STEP 21]\n",
            "\u001b[36m[INFO]: Running Single-Corner Static Timing Analysis (log: runs/RUN_2023.05.19_13.30.54/logs/routing/21-sta-groute.log)...\u001b[39m\n",
            "[STEP 22]\n",
            "\u001b[36m[INFO]: Running Fill Insertion (log: runs/RUN_2023.05.19_13.30.54/logs/routing/22-fill.log)...\u001b[39m\n",
            "[STEP 23]\n",
            "\u001b[36m[INFO]: Running Detailed Routing (log: runs/RUN_2023.05.19_13.30.54/logs/routing/23-detailed.log)...\u001b[39m\n",
            "\u001b[36m[INFO]: No DRC violations after detailed routing.\u001b[39m\n",
            "[STEP 24]\n",
            "\u001b[36m[INFO]: Checking Wire Lengths (log: runs/RUN_2023.05.19_13.30.54/logs/routing/24-wire_lengths.log)...\u001b[39m\n",
            "[STEP 25]\n",
            "\u001b[36m[INFO]: Running SPEF Extraction at the min process corner (log: runs/RUN_2023.05.19_13.30.54/logs/signoff/25-parasitics_extraction.min.log)...\u001b[39m\n",
            "[STEP 26]\n",
            "\u001b[36m[INFO]: Running Multi-Corner Static Timing Analysis at the min process corner (log: runs/RUN_2023.05.19_13.30.54/logs/signoff/26-rcx_mcsta.min.log)...\u001b[39m\n",
            "[STEP 27]\n",
            "\u001b[36m[INFO]: Running SPEF Extraction at the max process corner (log: runs/RUN_2023.05.19_13.30.54/logs/signoff/27-parasitics_extraction.max.log)...\u001b[39m\n",
            "[STEP 28]\n",
            "\u001b[36m[INFO]: Running Multi-Corner Static Timing Analysis at the max process corner (log: runs/RUN_2023.05.19_13.30.54/logs/signoff/28-rcx_mcsta.max.log)...\u001b[39m\n",
            "[STEP 29]\n",
            "\u001b[36m[INFO]: Running SPEF Extraction at the nom process corner (log: runs/RUN_2023.05.19_13.30.54/logs/signoff/29-parasitics_extraction.nom.log)...\u001b[39m\n",
            "[STEP 30]\n",
            "\u001b[36m[INFO]: Running Multi-Corner Static Timing Analysis at the nom process corner (log: runs/RUN_2023.05.19_13.30.54/logs/signoff/30-rcx_mcsta.nom.log)...\u001b[39m\n",
            "[STEP 31]\n",
            "\u001b[36m[INFO]: Running Single-Corner Static Timing Analysis at the nom process corner (log: runs/RUN_2023.05.19_13.30.54/logs/signoff/31-rcx_sta.log)...\u001b[39m\n",
            "\u001b[33m[WARNING]: Module sky130_fd_sc_hd__tapvpwrvgnd_1 blackboxed during sta\u001b[39m\n",
            "\u001b[33m[WARNING]: Module sky130_ef_sc_hd__decap_12 blackboxed during sta\u001b[39m\n",
            "\u001b[33m[WARNING]: Module sky130_fd_sc_hd__fill_2 blackboxed during sta\u001b[39m\n",
            "\u001b[33m[WARNING]: Module sky130_fd_sc_hd__fill_1 blackboxed during sta\u001b[39m\n",
            "[STEP 32]\n",
            "\u001b[36m[INFO]: Creating IR Drop Report (log: runs/RUN_2023.05.19_13.30.54/logs/signoff/32-irdrop.log)...\u001b[39m\n",
            "[STEP 33]\n",
            "\u001b[36m[INFO]: Running Magic to generate various views...\u001b[39m\n",
            "\u001b[36m[INFO]: Streaming out GDSII with Magic (log: runs/RUN_2023.05.19_13.30.54/logs/signoff/33-gdsii.log)...\u001b[39m\n",
            "\u001b[36m[INFO]: Generating MAGLEF views...\u001b[39m\n",
            "\u001b[36m[INFO]: Generating lef with Magic (/content/runs/RUN_2023.05.19_13.30.54/logs/signoff/33-lef.log)...\u001b[39m\n",
            "[STEP 34]\n",
            "\u001b[36m[INFO]: Streaming out GDSII with KLayout (log: runs/RUN_2023.05.19_13.30.54/logs/signoff/34-gdsii-klayout.log)...\u001b[39m\n",
            "[STEP 35]\n",
            "\u001b[36m[INFO]: Running Magic Spice Export from LEF (log: runs/RUN_2023.05.19_13.30.54/logs/signoff/35-spice.log)...\u001b[39m\n",
            "[STEP 36]\n",
            "\u001b[36m[INFO]: Writing Powered Verilog (logs: runs/RUN_2023.05.19_13.30.54/logs/signoff/36-write_powered_def.log, runs/RUN_2023.05.19_13.30.54/logs/signoff/36-write_powered_verilog.log)...\u001b[39m\n",
            "[STEP 37]\n",
            "\u001b[36m[INFO]: Writing Verilog (log: runs/RUN_2023.05.19_13.30.54/logs/signoff/36-write_powered_verilog.log)...\u001b[39m\n",
            "[STEP 38]\n",
            "\u001b[36m[INFO]: Running LVS (log: runs/RUN_2023.05.19_13.30.54/logs/signoff/38-lvs.lef.log)...\u001b[39m\n",
            "[STEP 39]\n",
            "\u001b[36m[INFO]: Running Magic DRC (log: runs/RUN_2023.05.19_13.30.54/logs/signoff/39-drc.log)...\u001b[39m\n",
            "\u001b[36m[INFO]: Converting Magic DRC database to various tool-readable formats...\u001b[39m\n",
            "\u001b[36m[INFO]: No DRC violations after GDS streaming out.\u001b[39m\n",
            "[STEP 40]\n",
            "\u001b[36m[INFO]: Running OpenROAD Antenna Rule Checker (log: runs/RUN_2023.05.19_13.30.54/logs/signoff/40-antenna.log)...\u001b[39m\n",
            "\u001b[36m[INFO]: Saving current set of views in 'runs/RUN_2023.05.19_13.30.54/results/final'...\u001b[39m\n",
            "\u001b[36m[INFO]: Saving runtime environment...\u001b[39m\n",
            "\u001b[36m[INFO]: Generating final set of reports...\u001b[39m\n",
            "\u001b[36m[INFO]: Created manufacturability report at 'runs/RUN_2023.05.19_13.30.54/reports/manufacturability.rpt'.\u001b[39m\n",
            "\u001b[36m[INFO]: Created metrics report at 'runs/RUN_2023.05.19_13.30.54/reports/metrics.csv'.\u001b[39m\n",
            "\u001b[33m[WARNING]: There are max fanout violations in the design at the typical corner. Please refer to 'runs/RUN_2023.05.19_13.30.54/reports/signoff/31-rcx_sta.slew.rpt'.\u001b[39m\n",
            "\u001b[36m[INFO]: There are no hold violations in the design at the typical corner.\u001b[39m\n",
            "\u001b[36m[INFO]: There are no setup violations in the design at the typical corner.\u001b[39m\n",
            "\u001b[32m[SUCCESS]: Flow complete.\u001b[39m\n",
            "\u001b[36m[INFO]: Note that the following warnings have been generated:\u001b[39m\n",
            "[WARNING]: Module sky130_fd_sc_hd__tapvpwrvgnd_1 blackboxed during sta\n",
            "[WARNING]: Module sky130_ef_sc_hd__decap_12 blackboxed during sta\n",
            "[WARNING]: Module sky130_fd_sc_hd__fill_2 blackboxed during sta\n",
            "[WARNING]: Module sky130_fd_sc_hd__fill_1 blackboxed during sta\n",
            "[WARNING]: There are max fanout violations in the design at the typical corner. Please refer to 'runs/RUN_2023.05.19_13.30.54/reports/signoff/31-rcx_sta.slew.rpt'.\n",
            "\n"
          ]
        }
      ],
      "source": [
        "%env PDK=sky130A\n",
        "! rm -rf runs/\n",
        "!flow.tcl -design ."
      ]
    },
    {
      "cell_type": "code",
      "source": [
        "# cd runs/*/reports/signoff && ls\n",
        "! cd runs/*/reports/signoff/ && cat *.worst_slack.rpt\n",
        "! cd runs/*/reports/signoff/ && cat *.power.rpt\n",
        "! cd runs/*/reports/signoff/ && cat *.clock_skew.rpt"
      ],
      "metadata": {
        "colab": {
          "base_uri": "https://localhost:8080/"
        },
        "id": "cpJAXIdTtxXA",
        "outputId": "213aa665-e4c0-454b-e560-1c23d0fa4667"
      },
      "execution_count": null,
      "outputs": [
        {
          "output_type": "stream",
          "name": "stdout",
          "text": [
            "\n",
            "===========================================================================\n",
            " report_worst_slack -max (Setup)\n",
            "============================================================================\n",
            "worst slack 3.79\n",
            "\n",
            "===========================================================================\n",
            " report_worst_slack -min (Hold)\n",
            "============================================================================\n",
            "worst slack 0.13\n",
            "\n",
            "===========================================================================\n",
            " report_power\n",
            "============================================================================\n",
            "\n",
            "======================= Typical Corner ===================================\n",
            "\n",
            "Group                  Internal  Switching    Leakage      Total\n",
            "                          Power      Power      Power      Power (Watts)\n",
            "----------------------------------------------------------------\n",
            "Sequential             3.54e-03   3.86e-04   1.50e-08   3.93e-03  31.1%\n",
            "Combinational          3.62e-03   5.08e-03   6.65e-08   8.71e-03  68.9%\n",
            "Macro                  0.00e+00   0.00e+00   0.00e+00   0.00e+00   0.0%\n",
            "Pad                    0.00e+00   0.00e+00   0.00e+00   0.00e+00   0.0%\n",
            "----------------------------------------------------------------\n",
            "Total                  7.16e-03   5.47e-03   8.16e-08   1.26e-02 100.0%\n",
            "                          56.7%      43.3%       0.0%\n",
            "\n",
            "===========================================================================\n",
            " report_clock_skew\n",
            "============================================================================\n",
            "\n",
            "======================= Typical Corner ===================================\n",
            "\n",
            "Clock CLK\n",
            "Latency      CRPR       Skew\n",
            "_14247_/CLK ^\n",
            "   5.14\n",
            "_13964_/CLK ^\n",
            "   1.17      0.00       3.97\n",
            "\n"
          ]
        }
      ]
    },
    {
      "cell_type": "markdown",
      "metadata": {
        "id": "luguFgZ43AeL"
      },
      "source": [
        "## Display layout"
      ]
    },
    {
      "cell_type": "code",
      "source": [
        "! cd runs/*/results/final/gds && ls\n",
        "! pwd"
      ],
      "metadata": {
        "colab": {
          "base_uri": "https://localhost:8080/"
        },
        "id": "kMLrWDcb7eN_",
        "outputId": "8107dc77-1097-45db-ae46-eda944b80450"
      },
      "execution_count": null,
      "outputs": [
        {
          "output_type": "stream",
          "name": "stdout",
          "text": [
            "tinyODIN.gds\n",
            "/content\n"
          ]
        }
      ]
    },
    {
      "cell_type": "code",
      "source": [
        "! pip install gdstk\n",
        "! pip install  cairosvg\n",
        "! conda install cairosvg\n",
        "! python -m pip install cairosvg"
      ],
      "metadata": {
        "colab": {
          "base_uri": "https://localhost:8080/",
          "height": 1000
        },
        "id": "ggWg7TYf9AJy",
        "outputId": "72824e57-165c-42df-c8fb-3335a837f823"
      },
      "execution_count": null,
      "outputs": [
        {
          "output_type": "stream",
          "name": "stdout",
          "text": [
            "Looking in indexes: https://pypi.org/simple, https://us-python.pkg.dev/colab-wheels/public/simple/\n",
            "Collecting gdstk\n",
            "  Downloading gdstk-0.9.40-cp37-cp37m-manylinux_2_24_x86_64.manylinux_2_28_x86_64.whl (820 kB)\n",
            "\u001b[2K     \u001b[90m━━━━━━━━━━━━━━━━━━━━━━━━━━━━━━━━━━━━━━\u001b[0m \u001b[32m820.8/820.8 kB\u001b[0m \u001b[31m34.0 MB/s\u001b[0m eta \u001b[36m0:00:00\u001b[0m\n",
            "\u001b[?25hCollecting numpy\n",
            "  Downloading numpy-1.21.6-cp37-cp37m-manylinux_2_12_x86_64.manylinux2010_x86_64.whl (15.7 MB)\n",
            "\u001b[2K     \u001b[90m━━━━━━━━━━━━━━━━━━━━━━━━━━━━━━━━━━━━━━━━\u001b[0m \u001b[32m15.7/15.7 MB\u001b[0m \u001b[31m47.6 MB/s\u001b[0m eta \u001b[36m0:00:00\u001b[0m\n",
            "\u001b[?25hInstalling collected packages: numpy, gdstk\n",
            "Successfully installed gdstk-0.9.40 numpy-1.21.6\n",
            "\u001b[33mWARNING: Running pip as the 'root' user can result in broken permissions and conflicting behaviour with the system package manager. It is recommended to use a virtual environment instead: https://pip.pypa.io/warnings/venv\u001b[0m\u001b[33m\n",
            "\u001b[0mLooking in indexes: https://pypi.org/simple, https://us-python.pkg.dev/colab-wheels/public/simple/\n",
            "Collecting cairosvg\n",
            "  Using cached CairoSVG-2.7.0-py3-none-any.whl (43 kB)\n",
            "Collecting pillow\n",
            "  Downloading Pillow-9.5.0-cp37-cp37m-manylinux_2_28_x86_64.whl (3.4 MB)\n",
            "\u001b[2K     \u001b[90m━━━━━━━━━━━━━━━━━━━━━━━━━━━━━━━━━━━━━━━━\u001b[0m \u001b[32m3.4/3.4 MB\u001b[0m \u001b[31m58.5 MB/s\u001b[0m eta \u001b[36m0:00:00\u001b[0m\n",
            "\u001b[?25hCollecting cairocffi\n",
            "  Using cached cairocffi-1.5.1.tar.gz (86 kB)\n",
            "  Installing build dependencies ... \u001b[?25l\u001b[?25hdone\n",
            "  Getting requirements to build wheel ... \u001b[?25l\u001b[?25hdone\n",
            "  Installing backend dependencies ... \u001b[?25l\u001b[?25hdone\n",
            "  Preparing metadata (pyproject.toml) ... \u001b[?25l\u001b[?25hdone\n",
            "Collecting tinycss2\n",
            "  Downloading tinycss2-1.2.1-py3-none-any.whl (21 kB)\n",
            "Collecting cssselect2\n",
            "  Using cached cssselect2-0.7.0-py3-none-any.whl (15 kB)\n",
            "Collecting defusedxml\n",
            "  Downloading defusedxml-0.7.1-py2.py3-none-any.whl (25 kB)\n",
            "Collecting cffi>=1.1.0\n",
            "  Using cached cffi-1.15.1-cp37-cp37m-manylinux_2_17_x86_64.manylinux2014_x86_64.whl (427 kB)\n",
            "Collecting webencodings\n",
            "  Downloading webencodings-0.5.1-py2.py3-none-any.whl (11 kB)\n",
            "Collecting pycparser\n",
            "  Using cached pycparser-2.21-py2.py3-none-any.whl (118 kB)\n",
            "Building wheels for collected packages: cairocffi\n",
            "  Building wheel for cairocffi (pyproject.toml) ... \u001b[?25l\u001b[?25hdone\n",
            "  Created wheel for cairocffi: filename=cairocffi-1.5.1-py3-none-any.whl size=90523 sha256=d02984e3eeeefacc8c94940742997c5ca4eb33e3a7dd143922b8b16b419a8753\n",
            "  Stored in directory: /root/.cache/pip/wheels/54/eb/35/66338c97958efd20ec7c411922adec57dc99f0313c492daad2\n",
            "Successfully built cairocffi\n",
            "Installing collected packages: webencodings, tinycss2, pycparser, pillow, defusedxml, cssselect2, cffi, cairocffi, cairosvg\n",
            "Successfully installed cairocffi-1.5.1 cairosvg-2.7.0 cffi-1.15.1 cssselect2-0.7.0 defusedxml-0.7.1 pillow-9.5.0 pycparser-2.21 tinycss2-1.2.1 webencodings-0.5.1\n",
            "\u001b[33mWARNING: Running pip as the 'root' user can result in broken permissions and conflicting behaviour with the system package manager. It is recommended to use a virtual environment instead: https://pip.pypa.io/warnings/venv\u001b[0m\u001b[33m\n",
            "\u001b[0m"
          ]
        },
        {
          "output_type": "display_data",
          "data": {
            "application/vnd.colab-display-data+json": {
              "pip_warning": {
                "packages": [
                  "cffi",
                  "defusedxml"
                ]
              }
            }
          },
          "metadata": {}
        },
        {
          "output_type": "stream",
          "name": "stdout",
          "text": [
            "/bin/bash: conda: command not found\n",
            "Looking in indexes: https://pypi.org/simple, https://us-python.pkg.dev/colab-wheels/public/simple/\n",
            "Requirement already satisfied: cairosvg in ./conda-env/lib/python3.7/site-packages (2.7.0)\n",
            "Requirement already satisfied: cssselect2 in ./conda-env/lib/python3.7/site-packages (from cairosvg) (0.7.0)\n",
            "Requirement already satisfied: pillow in ./conda-env/lib/python3.7/site-packages (from cairosvg) (9.5.0)\n",
            "Requirement already satisfied: defusedxml in ./conda-env/lib/python3.7/site-packages (from cairosvg) (0.7.1)\n",
            "Requirement already satisfied: cairocffi in ./conda-env/lib/python3.7/site-packages (from cairosvg) (1.5.1)\n",
            "Requirement already satisfied: tinycss2 in ./conda-env/lib/python3.7/site-packages (from cairosvg) (1.2.1)\n",
            "Requirement already satisfied: cffi>=1.1.0 in ./conda-env/lib/python3.7/site-packages (from cairocffi->cairosvg) (1.15.1)\n",
            "Requirement already satisfied: webencodings in ./conda-env/lib/python3.7/site-packages (from cssselect2->cairosvg) (0.5.1)\n",
            "Requirement already satisfied: pycparser in ./conda-env/lib/python3.7/site-packages (from cffi>=1.1.0->cairocffi->cairosvg) (2.21)\n",
            "\u001b[33mWARNING: Running pip as the 'root' user can result in broken permissions and conflicting behaviour with the system package manager. It is recommended to use a virtual environment instead: https://pip.pypa.io/warnings/venv\u001b[0m\u001b[33m\n",
            "\u001b[0m"
          ]
        }
      ]
    },
    {
      "cell_type": "code",
      "source": [
        "! pip install CairoSVG==2.7.0"
      ],
      "metadata": {
        "colab": {
          "base_uri": "https://localhost:8080/"
        },
        "id": "0ToxEYT9_9cO",
        "outputId": "d69e7b39-277c-4631-eba6-f0f5c0abcea2"
      },
      "execution_count": null,
      "outputs": [
        {
          "output_type": "stream",
          "name": "stdout",
          "text": [
            "Looking in indexes: https://pypi.org/simple, https://us-python.pkg.dev/colab-wheels/public/simple/\n",
            "Requirement already satisfied: CairoSVG==2.7.0 in ./conda-env/lib/python3.7/site-packages (2.7.0)\n",
            "Requirement already satisfied: pillow in ./conda-env/lib/python3.7/site-packages (from CairoSVG==2.7.0) (9.5.0)\n",
            "Requirement already satisfied: cairocffi in ./conda-env/lib/python3.7/site-packages (from CairoSVG==2.7.0) (1.5.1)\n",
            "Requirement already satisfied: defusedxml in ./conda-env/lib/python3.7/site-packages (from CairoSVG==2.7.0) (0.7.1)\n",
            "Requirement already satisfied: tinycss2 in ./conda-env/lib/python3.7/site-packages (from CairoSVG==2.7.0) (1.2.1)\n",
            "Requirement already satisfied: cssselect2 in ./conda-env/lib/python3.7/site-packages (from CairoSVG==2.7.0) (0.7.0)\n",
            "Requirement already satisfied: cffi>=1.1.0 in ./conda-env/lib/python3.7/site-packages (from cairocffi->CairoSVG==2.7.0) (1.15.1)\n",
            "Requirement already satisfied: webencodings in ./conda-env/lib/python3.7/site-packages (from cssselect2->CairoSVG==2.7.0) (0.5.1)\n",
            "Requirement already satisfied: pycparser in ./conda-env/lib/python3.7/site-packages (from cffi>=1.1.0->cairocffi->CairoSVG==2.7.0) (2.21)\n",
            "\u001b[33mWARNING: Running pip as the 'root' user can result in broken permissions and conflicting behaviour with the system package manager. It is recommended to use a virtual environment instead: https://pip.pypa.io/warnings/venv\u001b[0m\u001b[33m\n",
            "\u001b[0m"
          ]
        }
      ]
    },
    {
      "cell_type": "code",
      "source": [
        "! pip list -v | grep Cairo"
      ],
      "metadata": {
        "colab": {
          "base_uri": "https://localhost:8080/"
        },
        "id": "mHNYORVR-zR1",
        "outputId": "5094dd1f-9141-419a-ca72-53cbb9a73f5b"
      },
      "execution_count": null,
      "outputs": [
        {
          "output_type": "stream",
          "name": "stdout",
          "text": [
            "CairoSVG           2.7.0     /content/conda-env/lib/python3.7/site-packages pip\n"
          ]
        }
      ]
    },
    {
      "cell_type": "code",
      "source": [
        "import gdstk\n",
        "import cairosvg\n",
        "from IPython.display import Image\n",
        "def gds2d_view(gds_file, scale=10):\n",
        "  svg = gds_file.split(\".\")[0] + \".svg\"\n",
        "  png = gds_file.split(\".\")[0] + \".png\"\n",
        "  library = gdstk.read_gds(gds_file)\n",
        "  top_cells = library.top_level()\n",
        "  top_cells[0].write_svg(svg)\n",
        "  cairosvg.svg2png(url=svg, write_to=png, scale=scale)\n",
        "  return Image(png)"
      ],
      "metadata": {
        "id": "FDqC26UQ8dqL"
      },
      "execution_count": null,
      "outputs": []
    },
    {
      "cell_type": "code",
      "source": [
        "! rm *.png\n",
        "! rm *.svg\n",
        "gdss = sorted(pathlib.Path('runs').glob('*/results/final/gds/*.gds'))\n",
        "gds2d_view(gdss, 1)"
      ],
      "metadata": {
        "colab": {
          "base_uri": "https://localhost:8080/",
          "height": 375
        },
        "id": "ZmSQQpH880f8",
        "outputId": "7bbab515-3c3d-41e4-a485-fe2f90f4bd99"
      },
      "execution_count": null,
      "outputs": [
        {
          "output_type": "stream",
          "name": "stdout",
          "text": [
            "rm: cannot remove '*.png': No such file or directory\n",
            "rm: cannot remove '*.svg': No such file or directory\n"
          ]
        },
        {
          "output_type": "error",
          "ename": "AttributeError",
          "evalue": "ignored",
          "traceback": [
            "\u001b[0;31m---------------------------------------------------------------------------\u001b[0m",
            "\u001b[0;31mAttributeError\u001b[0m                            Traceback (most recent call last)",
            "\u001b[0;32m<ipython-input-11-fde7485eff7a>\u001b[0m in \u001b[0;36m<cell line: 4>\u001b[0;34m()\u001b[0m\n\u001b[1;32m      2\u001b[0m \u001b[0mget_ipython\u001b[0m\u001b[0;34m(\u001b[0m\u001b[0;34m)\u001b[0m\u001b[0;34m.\u001b[0m\u001b[0msystem\u001b[0m\u001b[0;34m(\u001b[0m\u001b[0;34m' rm *.svg'\u001b[0m\u001b[0;34m)\u001b[0m\u001b[0;34m\u001b[0m\u001b[0;34m\u001b[0m\u001b[0m\n\u001b[1;32m      3\u001b[0m \u001b[0mgdss\u001b[0m \u001b[0;34m=\u001b[0m \u001b[0msorted\u001b[0m\u001b[0;34m(\u001b[0m\u001b[0mpathlib\u001b[0m\u001b[0;34m.\u001b[0m\u001b[0mPath\u001b[0m\u001b[0;34m(\u001b[0m\u001b[0;34m'runs'\u001b[0m\u001b[0;34m)\u001b[0m\u001b[0;34m.\u001b[0m\u001b[0mglob\u001b[0m\u001b[0;34m(\u001b[0m\u001b[0;34m'*/results/final/gds/*.gds'\u001b[0m\u001b[0;34m)\u001b[0m\u001b[0;34m)\u001b[0m\u001b[0;34m\u001b[0m\u001b[0;34m\u001b[0m\u001b[0m\n\u001b[0;32m----> 4\u001b[0;31m \u001b[0mgds2d_view\u001b[0m\u001b[0;34m(\u001b[0m\u001b[0mgdss\u001b[0m\u001b[0;34m,\u001b[0m \u001b[0;36m1\u001b[0m\u001b[0;34m)\u001b[0m\u001b[0;34m\u001b[0m\u001b[0;34m\u001b[0m\u001b[0m\n\u001b[0m",
            "\u001b[0;32m<ipython-input-10-6fd77c6dc0ad>\u001b[0m in \u001b[0;36mgds2d_view\u001b[0;34m(gds_file, scale)\u001b[0m\n\u001b[1;32m      3\u001b[0m \u001b[0;32mfrom\u001b[0m \u001b[0mIPython\u001b[0m\u001b[0;34m.\u001b[0m\u001b[0mdisplay\u001b[0m \u001b[0;32mimport\u001b[0m \u001b[0mImage\u001b[0m\u001b[0;34m\u001b[0m\u001b[0;34m\u001b[0m\u001b[0m\n\u001b[1;32m      4\u001b[0m \u001b[0;32mdef\u001b[0m \u001b[0mgds2d_view\u001b[0m\u001b[0;34m(\u001b[0m\u001b[0mgds_file\u001b[0m\u001b[0;34m,\u001b[0m \u001b[0mscale\u001b[0m\u001b[0;34m=\u001b[0m\u001b[0;36m10\u001b[0m\u001b[0;34m)\u001b[0m\u001b[0;34m:\u001b[0m\u001b[0;34m\u001b[0m\u001b[0;34m\u001b[0m\u001b[0m\n\u001b[0;32m----> 5\u001b[0;31m   \u001b[0msvg\u001b[0m \u001b[0;34m=\u001b[0m \u001b[0mgds_file\u001b[0m\u001b[0;34m.\u001b[0m\u001b[0msplit\u001b[0m\u001b[0;34m(\u001b[0m\u001b[0;34m\".\"\u001b[0m\u001b[0;34m)\u001b[0m\u001b[0;34m[\u001b[0m\u001b[0;36m0\u001b[0m\u001b[0;34m]\u001b[0m \u001b[0;34m+\u001b[0m \u001b[0;34m\".svg\"\u001b[0m\u001b[0;34m\u001b[0m\u001b[0;34m\u001b[0m\u001b[0m\n\u001b[0m\u001b[1;32m      6\u001b[0m   \u001b[0mpng\u001b[0m \u001b[0;34m=\u001b[0m \u001b[0mgds_file\u001b[0m\u001b[0;34m.\u001b[0m\u001b[0msplit\u001b[0m\u001b[0;34m(\u001b[0m\u001b[0;34m\".\"\u001b[0m\u001b[0;34m)\u001b[0m\u001b[0;34m[\u001b[0m\u001b[0;36m0\u001b[0m\u001b[0;34m]\u001b[0m \u001b[0;34m+\u001b[0m \u001b[0;34m\".png\"\u001b[0m\u001b[0;34m\u001b[0m\u001b[0;34m\u001b[0m\u001b[0m\n\u001b[1;32m      7\u001b[0m   \u001b[0mlibrary\u001b[0m \u001b[0;34m=\u001b[0m \u001b[0mgdstk\u001b[0m\u001b[0;34m.\u001b[0m\u001b[0mread_gds\u001b[0m\u001b[0;34m(\u001b[0m\u001b[0mgds_file\u001b[0m\u001b[0;34m)\u001b[0m\u001b[0;34m\u001b[0m\u001b[0;34m\u001b[0m\u001b[0m\n",
            "\u001b[0;31mAttributeError\u001b[0m: 'list' object has no attribute 'split'"
          ]
        }
      ]
    },
    {
      "cell_type": "code",
      "execution_count": null,
      "metadata": {
        "id": "WOnhdtp3ivRi"
      },
      "outputs": [],
      "source": [
        "import pathlib\n",
        "import gdstk\n",
        "import IPython.display\n",
        "\n",
        "! rm *.svg\n",
        "gdss = sorted(pathlib.Path('runs').glob('*/results/final/gds/*.gds'))\n",
        "print(gdss)\n",
        "library = gdstk.read_gds(gdss[-1])\n",
        "top_cells = library.top_level()\n",
        "top_cells[0].write_svg('inverter.svg')\n",
        "IPython.display.SVG('inverter.svg')"
      ]
    },
    {
      "cell_type": "code",
      "source": [
        "from google.colab import files\n",
        "# files.download('runs/RUN_2023.05.18_21.44.10/results/final/gds/tinyODIN.gds') "
      ],
      "metadata": {
        "id": "lTpLArnUBSox"
      },
      "execution_count": null,
      "outputs": []
    },
    {
      "cell_type": "markdown",
      "metadata": {
        "id": "NW_7YdgTZYQK"
      },
      "source": [
        "## Metrics\n",
        "\n",
        "[Documentation](https://openlane.readthedocs.io/en/latest/reference/datapoint_definitions.html)\n"
      ]
    },
    {
      "cell_type": "code",
      "execution_count": null,
      "metadata": {
        "id": "OWAwQI3fZC4W"
      },
      "outputs": [],
      "source": [
        "import pandas as pd\n",
        "import pathlib\n",
        "\n",
        "pd.options.display.max_rows = None\n",
        "reports = sorted(pathlib.Path('runs').glob('*/reports/metrics.csv'))\n",
        "df = pd.read_csv(reports[-1])\n",
        "df.transpose()"
      ]
    }
  ],
  "metadata": {
    "colab": {
      "provenance": [],
      "include_colab_link": true
    },
    "kernelspec": {
      "display_name": "Python 3 (ipykernel)",
      "language": "python",
      "name": "python3"
    },
    "language_info": {
      "codemirror_mode": {
        "name": "ipython",
        "version": 3
      },
      "file_extension": ".py",
      "mimetype": "text/x-python",
      "name": "python",
      "nbconvert_exporter": "python",
      "pygments_lexer": "ipython3",
      "version": "3.7.10"
    }
  },
  "nbformat": 4,
  "nbformat_minor": 0
}